{
  "nbformat": 4,
  "nbformat_minor": 0,
  "metadata": {
    "colab": {
      "name": "Stock Price Prediction And Forecasting Using Stacked LSTM.ipynb",
      "provenance": [],
      "collapsed_sections": [],
      "mount_file_id": "1vSiLELqfs1aDJQ8ndynqXT3iZIbTlcUy",
      "authorship_tag": "ABX9TyPa6f45PxgpRKuF08sYIW5e",
      "include_colab_link": true
    },
    "kernelspec": {
      "name": "python3",
      "display_name": "Python 3"
    },
    "language_info": {
      "name": "python"
    },
    "accelerator": "GPU"
  },
  "cells": [
    {
      "cell_type": "markdown",
      "metadata": {
        "id": "view-in-github",
        "colab_type": "text"
      },
      "source": [
        "<a href=\"https://colab.research.google.com/github/feniltailor22/Time-Series-Analysis/blob/main/Stock_Price_Prediction_And_Forecasting_Using_Stacked_LSTM.ipynb\" target=\"_parent\"><img src=\"https://colab.research.google.com/assets/colab-badge.svg\" alt=\"Open In Colab\"/></a>"
      ]
    },
    {
      "cell_type": "code",
      "metadata": {
        "id": "1zIWF-xFTDzK"
      },
      "source": [
        "import pandas as pd\n",
        "import numpy as np\n",
        "import matplotlib.pyplot as plt"
      ],
      "execution_count": null,
      "outputs": []
    },
    {
      "cell_type": "code",
      "metadata": {
        "id": "q2fpUaVRVid2"
      },
      "source": [
        "df= pd.read_csv('/content/AAPL.csv')"
      ],
      "execution_count": null,
      "outputs": []
    },
    {
      "cell_type": "code",
      "metadata": {
        "colab": {
          "base_uri": "https://localhost:8080/",
          "height": 310
        },
        "id": "ActnTs8iVnw1",
        "outputId": "8427e6ff-d0f8-4ff0-a992-6cdd52c84cb1"
      },
      "source": [
        "df.head()"
      ],
      "execution_count": null,
      "outputs": [
        {
          "output_type": "execute_result",
          "data": {
            "text/html": [
              "<div>\n",
              "<style scoped>\n",
              "    .dataframe tbody tr th:only-of-type {\n",
              "        vertical-align: middle;\n",
              "    }\n",
              "\n",
              "    .dataframe tbody tr th {\n",
              "        vertical-align: top;\n",
              "    }\n",
              "\n",
              "    .dataframe thead th {\n",
              "        text-align: right;\n",
              "    }\n",
              "</style>\n",
              "<table border=\"1\" class=\"dataframe\">\n",
              "  <thead>\n",
              "    <tr style=\"text-align: right;\">\n",
              "      <th></th>\n",
              "      <th>Unnamed: 0</th>\n",
              "      <th>symbol</th>\n",
              "      <th>date</th>\n",
              "      <th>close</th>\n",
              "      <th>high</th>\n",
              "      <th>low</th>\n",
              "      <th>open</th>\n",
              "      <th>volume</th>\n",
              "      <th>adjClose</th>\n",
              "      <th>adjHigh</th>\n",
              "      <th>adjLow</th>\n",
              "      <th>adjOpen</th>\n",
              "      <th>adjVolume</th>\n",
              "      <th>divCash</th>\n",
              "      <th>splitFactor</th>\n",
              "    </tr>\n",
              "  </thead>\n",
              "  <tbody>\n",
              "    <tr>\n",
              "      <th>0</th>\n",
              "      <td>0</td>\n",
              "      <td>AAPL</td>\n",
              "      <td>2015-05-27 00:00:00+00:00</td>\n",
              "      <td>132.045</td>\n",
              "      <td>132.260</td>\n",
              "      <td>130.05</td>\n",
              "      <td>130.34</td>\n",
              "      <td>45833246</td>\n",
              "      <td>121.682558</td>\n",
              "      <td>121.880685</td>\n",
              "      <td>119.844118</td>\n",
              "      <td>120.111360</td>\n",
              "      <td>45833246</td>\n",
              "      <td>0.0</td>\n",
              "      <td>1.0</td>\n",
              "    </tr>\n",
              "    <tr>\n",
              "      <th>1</th>\n",
              "      <td>1</td>\n",
              "      <td>AAPL</td>\n",
              "      <td>2015-05-28 00:00:00+00:00</td>\n",
              "      <td>131.780</td>\n",
              "      <td>131.950</td>\n",
              "      <td>131.10</td>\n",
              "      <td>131.86</td>\n",
              "      <td>30733309</td>\n",
              "      <td>121.438354</td>\n",
              "      <td>121.595013</td>\n",
              "      <td>120.811718</td>\n",
              "      <td>121.512076</td>\n",
              "      <td>30733309</td>\n",
              "      <td>0.0</td>\n",
              "      <td>1.0</td>\n",
              "    </tr>\n",
              "    <tr>\n",
              "      <th>2</th>\n",
              "      <td>2</td>\n",
              "      <td>AAPL</td>\n",
              "      <td>2015-05-29 00:00:00+00:00</td>\n",
              "      <td>130.280</td>\n",
              "      <td>131.450</td>\n",
              "      <td>129.90</td>\n",
              "      <td>131.23</td>\n",
              "      <td>50884452</td>\n",
              "      <td>120.056069</td>\n",
              "      <td>121.134251</td>\n",
              "      <td>119.705890</td>\n",
              "      <td>120.931516</td>\n",
              "      <td>50884452</td>\n",
              "      <td>0.0</td>\n",
              "      <td>1.0</td>\n",
              "    </tr>\n",
              "    <tr>\n",
              "      <th>3</th>\n",
              "      <td>3</td>\n",
              "      <td>AAPL</td>\n",
              "      <td>2015-06-01 00:00:00+00:00</td>\n",
              "      <td>130.535</td>\n",
              "      <td>131.390</td>\n",
              "      <td>130.05</td>\n",
              "      <td>131.20</td>\n",
              "      <td>32112797</td>\n",
              "      <td>120.291057</td>\n",
              "      <td>121.078960</td>\n",
              "      <td>119.844118</td>\n",
              "      <td>120.903870</td>\n",
              "      <td>32112797</td>\n",
              "      <td>0.0</td>\n",
              "      <td>1.0</td>\n",
              "    </tr>\n",
              "    <tr>\n",
              "      <th>4</th>\n",
              "      <td>4</td>\n",
              "      <td>AAPL</td>\n",
              "      <td>2015-06-02 00:00:00+00:00</td>\n",
              "      <td>129.960</td>\n",
              "      <td>130.655</td>\n",
              "      <td>129.32</td>\n",
              "      <td>129.86</td>\n",
              "      <td>33667627</td>\n",
              "      <td>119.761181</td>\n",
              "      <td>120.401640</td>\n",
              "      <td>119.171406</td>\n",
              "      <td>119.669029</td>\n",
              "      <td>33667627</td>\n",
              "      <td>0.0</td>\n",
              "      <td>1.0</td>\n",
              "    </tr>\n",
              "  </tbody>\n",
              "</table>\n",
              "</div>"
            ],
            "text/plain": [
              "   Unnamed: 0 symbol  ... divCash  splitFactor\n",
              "0           0   AAPL  ...     0.0          1.0\n",
              "1           1   AAPL  ...     0.0          1.0\n",
              "2           2   AAPL  ...     0.0          1.0\n",
              "3           3   AAPL  ...     0.0          1.0\n",
              "4           4   AAPL  ...     0.0          1.0\n",
              "\n",
              "[5 rows x 15 columns]"
            ]
          },
          "metadata": {},
          "execution_count": 3
        }
      ]
    },
    {
      "cell_type": "code",
      "metadata": {
        "colab": {
          "base_uri": "https://localhost:8080/"
        },
        "id": "hk-6I7dZVou6",
        "outputId": "b65f55af-6163-4a3e-b89b-0fb106210b25"
      },
      "source": [
        "df.info()"
      ],
      "execution_count": null,
      "outputs": [
        {
          "output_type": "stream",
          "name": "stdout",
          "text": [
            "<class 'pandas.core.frame.DataFrame'>\n",
            "RangeIndex: 1258 entries, 0 to 1257\n",
            "Data columns (total 15 columns):\n",
            " #   Column       Non-Null Count  Dtype  \n",
            "---  ------       --------------  -----  \n",
            " 0   Unnamed: 0   1258 non-null   int64  \n",
            " 1   symbol       1258 non-null   object \n",
            " 2   date         1258 non-null   object \n",
            " 3   close        1258 non-null   float64\n",
            " 4   high         1258 non-null   float64\n",
            " 5   low          1258 non-null   float64\n",
            " 6   open         1258 non-null   float64\n",
            " 7   volume       1258 non-null   int64  \n",
            " 8   adjClose     1258 non-null   float64\n",
            " 9   adjHigh      1258 non-null   float64\n",
            " 10  adjLow       1258 non-null   float64\n",
            " 11  adjOpen      1258 non-null   float64\n",
            " 12  adjVolume    1258 non-null   int64  \n",
            " 13  divCash      1258 non-null   float64\n",
            " 14  splitFactor  1258 non-null   float64\n",
            "dtypes: float64(10), int64(3), object(2)\n",
            "memory usage: 147.5+ KB\n"
          ]
        }
      ]
    },
    {
      "cell_type": "code",
      "metadata": {
        "id": "bDxadVqGVtK9"
      },
      "source": [
        "df1= df.reset_index()['close']"
      ],
      "execution_count": null,
      "outputs": []
    },
    {
      "cell_type": "code",
      "metadata": {
        "colab": {
          "base_uri": "https://localhost:8080/"
        },
        "id": "t30c1_4VWe2c",
        "outputId": "6f6d9576-1367-4631-f6fc-dc7fb20485c5"
      },
      "source": [
        "df1"
      ],
      "execution_count": null,
      "outputs": [
        {
          "output_type": "execute_result",
          "data": {
            "text/plain": [
              "0       132.045\n",
              "1       131.780\n",
              "2       130.280\n",
              "3       130.535\n",
              "4       129.960\n",
              "         ...   \n",
              "1253    314.960\n",
              "1254    313.140\n",
              "1255    319.230\n",
              "1256    316.850\n",
              "1257    318.890\n",
              "Name: close, Length: 1258, dtype: float64"
            ]
          },
          "metadata": {},
          "execution_count": 6
        }
      ]
    },
    {
      "cell_type": "code",
      "metadata": {
        "colab": {
          "base_uri": "https://localhost:8080/"
        },
        "id": "1amlMxBSYWVE",
        "outputId": "f3577f33-e8c1-4bb8-e4ac-12e847974614"
      },
      "source": [
        "df1.shape"
      ],
      "execution_count": null,
      "outputs": [
        {
          "output_type": "execute_result",
          "data": {
            "text/plain": [
              "(1258,)"
            ]
          },
          "metadata": {},
          "execution_count": 7
        }
      ]
    },
    {
      "cell_type": "code",
      "metadata": {
        "colab": {
          "base_uri": "https://localhost:8080/",
          "height": 282
        },
        "id": "HmDsNNRiWf7z",
        "outputId": "d791d637-7c74-4357-e5a9-a37b47a22314"
      },
      "source": [
        "plt.plot(df1)"
      ],
      "execution_count": null,
      "outputs": [
        {
          "output_type": "execute_result",
          "data": {
            "text/plain": [
              "[<matplotlib.lines.Line2D at 0x7fbe7798eb50>]"
            ]
          },
          "metadata": {},
          "execution_count": 8
        },
        {
          "output_type": "display_data",
          "data": {
            "image/png": "[encoded data removed]",
            "text/plain": [
              "<Figure size 432x288 with 1 Axes>"
            ]
          },
          "metadata": {
            "needs_background": "light"
          }
        }
      ]
    },
    {
      "cell_type": "code",
      "metadata": {
        "id": "EZXzIiDbWzrz"
      },
      "source": [
        "#LSTM are sensitive to the scale of the data. so we apply MinMax scaler "
      ],
      "execution_count": null,
      "outputs": []
    },
    {
      "cell_type": "code",
      "metadata": {
        "id": "Jf0EeRTdW8Fz"
      },
      "source": [
        "from sklearn.preprocessing import MinMaxScaler"
      ],
      "execution_count": null,
      "outputs": []
    },
    {
      "cell_type": "code",
      "metadata": {
        "id": "zDrY-V1RXCbY"
      },
      "source": [
        "scaler= MinMaxScaler(feature_range=(0, 1))"
      ],
      "execution_count": null,
      "outputs": []
    },
    {
      "cell_type": "code",
      "metadata": {
        "id": "T-BHxvEyXI9m"
      },
      "source": [
        "df1= scaler.fit_transform(np.array(df1).reshape(-1,1)) #reshape(-1,1) convert the array into a 1D array."
      ],
      "execution_count": null,
      "outputs": []
    },
    {
      "cell_type": "code",
      "metadata": {
        "colab": {
          "base_uri": "https://localhost:8080/"
        },
        "id": "kDNpkku1Xduo",
        "outputId": "c93bf6d7-ab26-4c8c-a9bf-7a51813be2a3"
      },
      "source": [
        "df1"
      ],
      "execution_count": null,
      "outputs": [
        {
          "output_type": "execute_result",
          "data": {
            "text/plain": [
              "array([[0.17607447],\n",
              "       [0.17495567],\n",
              "       [0.16862282],\n",
              "       ...,\n",
              "       [0.96635143],\n",
              "       [0.9563033 ],\n",
              "       [0.96491598]])"
            ]
          },
          "metadata": {},
          "execution_count": 13
        }
      ]
    },
    {
      "cell_type": "code",
      "metadata": {
        "colab": {
          "base_uri": "https://localhost:8080/"
        },
        "id": "va1RIsITXeNe",
        "outputId": "414f2355-9aee-41ff-e5d5-32835b2b1369"
      },
      "source": [
        "df1.shape"
      ],
      "execution_count": null,
      "outputs": [
        {
          "output_type": "execute_result",
          "data": {
            "text/plain": [
              "(1258, 1)"
            ]
          },
          "metadata": {},
          "execution_count": 14
        }
      ]
    },
    {
      "cell_type": "code",
      "metadata": {
        "id": "JuYeCJw9Xkj6"
      },
      "source": [
        "#Train Test Split: In TimeSeries Analysis we need to split the data in a sequence (not random split) as each suceeding data depending on its precedding datas."
      ],
      "execution_count": null,
      "outputs": []
    },
    {
      "cell_type": "code",
      "metadata": {
        "id": "q5AD1Z9BaFf_"
      },
      "source": [
        "training_size= int(len(df1)*0.65) #65% of training data from df1\n",
        "testing_size= len(df1)- training_size #35% of testing data from df1"
      ],
      "execution_count": null,
      "outputs": []
    },
    {
      "cell_type": "code",
      "metadata": {
        "colab": {
          "base_uri": "https://localhost:8080/"
        },
        "id": "WM_J-gCEagg6",
        "outputId": "28338dd6-7f34-4fbc-a4a9-c9603b95c345"
      },
      "source": [
        "training_size, testing_size"
      ],
      "execution_count": null,
      "outputs": [
        {
          "output_type": "execute_result",
          "data": {
            "text/plain": [
              "(817, 441)"
            ]
          },
          "metadata": {},
          "execution_count": 17
        }
      ]
    },
    {
      "cell_type": "code",
      "metadata": {
        "id": "cLa49c1Zah18"
      },
      "source": [
        "train_data, test_data= df1[0:training_size, :1], df1[training_size:len(df1),:1] #df1[0:817, :1], df1[817:1258,:1]\n",
        "#first 65% data will be training data and rest 35% data will be testing data."
      ],
      "execution_count": null,
      "outputs": []
    },
    {
      "cell_type": "code",
      "metadata": {
        "colab": {
          "base_uri": "https://localhost:8080/"
        },
        "id": "JWhSF49MbODv",
        "outputId": "d7fb7fa1-1ad6-4434-aed3-26ba424caf9d"
      },
      "source": [
        "train_data"
      ],
      "execution_count": null,
      "outputs": [
        {
          "output_type": "execute_result",
          "data": {
            "text/plain": [
              "array([[0.17607447],\n",
              "       [0.17495567],\n",
              "       [0.16862282],\n",
              "       [0.1696994 ],\n",
              "       [0.16727181],\n",
              "       [0.16794731],\n",
              "       [0.16473866],\n",
              "       [0.16174111],\n",
              "       [0.1581525 ],\n",
              "       [0.15654817],\n",
              "       [0.16271215],\n",
              "       [0.1614878 ],\n",
              "       [0.1554927 ],\n",
              "       [0.15443722],\n",
              "       [0.15730811],\n",
              "       [0.15604154],\n",
              "       [0.15849025],\n",
              "       [0.15308621],\n",
              "       [0.15735033],\n",
              "       [0.15490163],\n",
              "       [0.15946129],\n",
              "       [0.15688592],\n",
              "       [0.1537195 ],\n",
              "       [0.14434687],\n",
              "       [0.14812547],\n",
              "       [0.15308621],\n",
              "       [0.15241071],\n",
              "       [0.15055307],\n",
              "       [0.14924428],\n",
              "       [0.13607194],\n",
              "       [0.12551718],\n",
              "       [0.13906949],\n",
              "       [0.14911762],\n",
              "       [0.14890653],\n",
              "       [0.15401503],\n",
              "       [0.16115005],\n",
              "       [0.16583636],\n",
              "       [0.17618002],\n",
              "       [0.17060711],\n",
              "       [0.14725998],\n",
              "       [0.14700667],\n",
              "       [0.14422021],\n",
              "       [0.13691632],\n",
              "       [0.13949168],\n",
              "       [0.13784514],\n",
              "       [0.13522756],\n",
              "       [0.13071012],\n",
              "       [0.11863548],\n",
              "       [0.10259225],\n",
              "       [0.1058009 ],\n",
              "       [0.10466098],\n",
              "       [0.10630752],\n",
              "       [0.12403952],\n",
              "       [0.09773706],\n",
              "       [0.10512539],\n",
              "       [0.10474542],\n",
              "       [0.10816516],\n",
              "       [0.11323144],\n",
              "       [0.11044499],\n",
              "       [0.10415435],\n",
              "       [0.09419066],\n",
              "       [0.06510175],\n",
              "       [0.05395592],\n",
              "       [0.0565735 ],\n",
              "       [0.08169383],\n",
              "       [0.09533058],\n",
              "       [0.09689268],\n",
              "       [0.09465507],\n",
              "       [0.07337668],\n",
              "       [0.09288187],\n",
              "       [0.08456472],\n",
              "       [0.07992063],\n",
              "       [0.09275521],\n",
              "       [0.0836359 ],\n",
              "       [0.09385291],\n",
              "       [0.10077683],\n",
              "       [0.10542092],\n",
              "       [0.10951617],\n",
              "       [0.11006502],\n",
              "       [0.09955248],\n",
              "       [0.09756818],\n",
              "       [0.10499873],\n",
              "       [0.09735709],\n",
              "       [0.10124124],\n",
              "       [0.10411213],\n",
              "       [0.10288778],\n",
              "       [0.09330406],\n",
              "       [0.07903403],\n",
              "       [0.08426919],\n",
              "       [0.08122942],\n",
              "       [0.08460694],\n",
              "       [0.0862957 ],\n",
              "       [0.08853331],\n",
              "       [0.0862957 ],\n",
              "       [0.08089167],\n",
              "       [0.09195305],\n",
              "       [0.08975766],\n",
              "       [0.09055982],\n",
              "       [0.08388922],\n",
              "       [0.09085536],\n",
              "       [0.0873934 ],\n",
              "       [0.09030651],\n",
              "       [0.09891919],\n",
              "       [0.09887697],\n",
              "       [0.10622309],\n",
              "       [0.1213375 ],\n",
              "       [0.10529427],\n",
              "       [0.10221228],\n",
              "       [0.12213966],\n",
              "       [0.12745926],\n",
              "       [0.1231107 ],\n",
              "       [0.1302035 ],\n",
              "       [0.13607194],\n",
              "       [0.13366546],\n",
              "       [0.1291058 ],\n",
              "       [0.12969687],\n",
              "       [0.12762813],\n",
              "       [0.1115849 ],\n",
              "       [0.10879845],\n",
              "       [0.1071519 ],\n",
              "       [0.09288187],\n",
              "       [0.10062906],\n",
              "       [0.09858144],\n",
              "       [0.11378029],\n",
              "       [0.12007093],\n",
              "       [0.12226632],\n",
              "       [0.11572237],\n",
              "       [0.12049312],\n",
              "       [0.1169045 ],\n",
              "       [0.11597568],\n",
              "       [0.11804441],\n",
              "       [0.11399139],\n",
              "       [0.10951617],\n",
              "       [0.10495651],\n",
              "       [0.1211264 ],\n",
              "       [0.11795998],\n",
              "       [0.11774888],\n",
              "       [0.10672971],\n",
              "       [0.10905176],\n",
              "       [0.09642827],\n",
              "       [0.09347294],\n",
              "       [0.08507135],\n",
              "       [0.08865997],\n",
              "       [0.07869628],\n",
              "       [0.06624166],\n",
              "       [0.07173014],\n",
              "       [0.07130795],\n",
              "       [0.07713417],\n",
              "       [0.07468547],\n",
              "       [0.06957697],\n",
              "       [0.07768302],\n",
              "       [0.07168792],\n",
              "       [0.0629908 ],\n",
              "       [0.06337077],\n",
              "       [0.05222494],\n",
              "       [0.04373892],\n",
              "       [0.02579583],\n",
              "       [0.027949  ],\n",
              "       [0.03457739],\n",
              "       [0.04061471],\n",
              "       [0.02976442],\n",
              "       [0.03875707],\n",
              "       [0.02866672],\n",
              "       [0.02668243],\n",
              "       [0.02723128],\n",
              "       [0.02516254],\n",
              "       [0.04677869],\n",
              "       [0.03841932],\n",
              "       [0.04074137],\n",
              "       [0.01300346],\n",
              "       [0.01583214],\n",
              "       [0.02955332],\n",
              "       [0.02571139],\n",
              "       [0.01747868],\n",
              "       [0.02537364],\n",
              "       [0.02642911],\n",
              "       [0.0155366 ],\n",
              "       [0.01971629],\n",
              "       [0.01963185],\n",
              "       [0.01659208],\n",
              "       [0.01418559],\n",
              "       [0.01540995],\n",
              "       [0.02659799],\n",
              "       [0.03284641],\n",
              "       [0.02499367],\n",
              "       [0.02406485],\n",
              "       [0.02761125],\n",
              "       [0.01836528],\n",
              "       [0.02431816],\n",
              "       [0.02710462],\n",
              "       [0.0277379 ],\n",
              "       [0.02680909],\n",
              "       [0.04302119],\n",
              "       [0.04395001],\n",
              "       [0.04711644],\n",
              "       [0.05349151],\n",
              "       [0.04867854],\n",
              "       [0.04513215],\n",
              "       [0.04551212],\n",
              "       [0.04572321],\n",
              "       [0.05032509],\n",
              "       [0.05142278],\n",
              "       [0.0601199 ],\n",
              "       [0.06598835],\n",
              "       [0.06527062],\n",
              "       [0.06577725],\n",
              "       [0.06573503],\n",
              "       [0.06915477],\n",
              "       [0.06666385],\n",
              "       [0.06472178],\n",
              "       [0.06269526],\n",
              "       [0.0732078 ],\n",
              "       [0.08114498],\n",
              "       [0.0787385 ],\n",
              "       [0.0829604 ],\n",
              "       [0.08773115],\n",
              "       [0.08220046],\n",
              "       [0.08705564],\n",
              "       [0.07683864],\n",
              "       [0.07734527],\n",
              "       [0.07886515],\n",
              "       [0.08486026],\n",
              "       [0.0916153 ],\n",
              "       [0.09186861],\n",
              "       [0.08236933],\n",
              "       [0.07236342],\n",
              "       [0.06995694],\n",
              "       [0.07088576],\n",
              "       [0.06598835],\n",
              "       [0.064764  ],\n",
              "       [0.06223085],\n",
              "       [0.05914886],\n",
              "       [0.03157984],\n",
              "       [0.01895635],\n",
              "       [0.01435447],\n",
              "       [0.01393228],\n",
              "       [0.02043401],\n",
              "       [0.01625433],\n",
              "       [0.01224352],\n",
              "       [0.01004813],\n",
              "       [0.01034366],\n",
              "       [0.01300346],\n",
              "       [0.00916153],\n",
              "       [0.        ],\n",
              "       [0.00075994],\n",
              "       [0.01494554],\n",
              "       [0.013299  ],\n",
              "       [0.01781643],\n",
              "       [0.01629655],\n",
              "       [0.02060289],\n",
              "       [0.02571139],\n",
              "       [0.03191759],\n",
              "       [0.03917926],\n",
              "       [0.04251457],\n",
              "       [0.04226125],\n",
              "       [0.04019252],\n",
              "       [0.03428185],\n",
              "       [0.03115765],\n",
              "       [0.03200203],\n",
              "       [0.03499958],\n",
              "       [0.03668834],\n",
              "       [0.03630837],\n",
              "       [0.03930592],\n",
              "       [0.03584396],\n",
              "       [0.02955332],\n",
              "       [0.03005995],\n",
              "       [0.02870894],\n",
              "       [0.03043992],\n",
              "       [0.0210673 ],\n",
              "       [0.02009626],\n",
              "       [0.023516  ],\n",
              "       [0.02199612],\n",
              "       [0.02431816],\n",
              "       [0.01291902],\n",
              "       [0.00717724],\n",
              "       [0.01372119],\n",
              "       [0.01714093],\n",
              "       [0.02220721],\n",
              "       [0.02343156],\n",
              "       [0.01963185],\n",
              "       [0.02191168],\n",
              "       [0.02364266],\n",
              "       [0.02676687],\n",
              "       [0.02803344],\n",
              "       [0.02989107],\n",
              "       [0.02756903],\n",
              "       [0.03567508],\n",
              "       [0.03563286],\n",
              "       [0.04006586],\n",
              "       [0.04023474],\n",
              "       [0.04061471],\n",
              "       [0.0383771 ],\n",
              "       [0.03512623],\n",
              "       [0.02955332],\n",
              "       [0.02672465],\n",
              "       [0.0532382 ],\n",
              "       [0.05910665],\n",
              "       [0.0585578 ],\n",
              "       [0.0663261 ],\n",
              "       [0.05969771],\n",
              "       [0.0652284 ],\n",
              "       [0.06556616],\n",
              "       [0.07236342],\n",
              "       [0.07612092],\n",
              "       [0.07797855],\n",
              "       [0.07455881],\n",
              "       [0.07426328],\n",
              "       [0.07531875],\n",
              "       [0.08080723],\n",
              "       [0.08038504],\n",
              "       [0.07970953],\n",
              "       [0.07911847],\n",
              "       [0.0803006 ],\n",
              "       [0.07671198],\n",
              "       [0.07814743],\n",
              "       [0.07468547],\n",
              "       [0.07274339],\n",
              "       [0.07008359],\n",
              "       [0.06957697],\n",
              "       [0.066115  ],\n",
              "       [0.06653719],\n",
              "       [0.06919699],\n",
              "       [0.0734189 ],\n",
              "       [0.07329224],\n",
              "       [0.0760787 ],\n",
              "       [0.06408849],\n",
              "       [0.05399814],\n",
              "       [0.06375074],\n",
              "       [0.07434772],\n",
              "       [0.09047539],\n",
              "       [0.10651862],\n",
              "       [0.10377438],\n",
              "       [0.09811703],\n",
              "       [0.09807481],\n",
              "       [0.09799037],\n",
              "       [0.10250781],\n",
              "       [0.09444398],\n",
              "       [0.0951617 ],\n",
              "       [0.0960483 ],\n",
              "       [0.09967914],\n",
              "       [0.09220637],\n",
              "       [0.09587942],\n",
              "       [0.09364181],\n",
              "       [0.09566833],\n",
              "       [0.09587942],\n",
              "       [0.09942582],\n",
              "       [0.10014354],\n",
              "       [0.10854513],\n",
              "       [0.10960061],\n",
              "       [0.11399139],\n",
              "       [0.1124715 ],\n",
              "       [0.11521574],\n",
              "       [0.11487799],\n",
              "       [0.11454023],\n",
              "       [0.11306257],\n",
              "       [0.11280925],\n",
              "       [0.11086718],\n",
              "       [0.11530018],\n",
              "       [0.11783332],\n",
              "       [0.10660306],\n",
              "       [0.10191674],\n",
              "       [0.0987081 ],\n",
              "       [0.09794816],\n",
              "       [0.08929325],\n",
              "       [0.08971544],\n",
              "       [0.08228489],\n",
              "       [0.07810521],\n",
              "       [0.0847336 ],\n",
              "       [0.08747784],\n",
              "       [0.08671789],\n",
              "       [0.07367221],\n",
              "       [0.07637423],\n",
              "       [0.06489065],\n",
              "       [0.07080132],\n",
              "       [0.0829604 ],\n",
              "       [0.08279152],\n",
              "       [0.08325593],\n",
              "       [0.09030651],\n",
              "       [0.09060204],\n",
              "       [0.08819556],\n",
              "       [0.09055982],\n",
              "       [0.08963101],\n",
              "       [0.0891666 ],\n",
              "       [0.08519801],\n",
              "       [0.08084945],\n",
              "       [0.08258043],\n",
              "       [0.07924512],\n",
              "       [0.08279152],\n",
              "       [0.08735118],\n",
              "       [0.09195305],\n",
              "       [0.09967914],\n",
              "       [0.0969349 ],\n",
              "       [0.1049143 ],\n",
              "       [0.1049143 ],\n",
              "       [0.10757409],\n",
              "       [0.10820738],\n",
              "       [0.11103606],\n",
              "       [0.11234485],\n",
              "       [0.11280925],\n",
              "       [0.10955839],\n",
              "       [0.11052943],\n",
              "       [0.11365364],\n",
              "       [0.11154268],\n",
              "       [0.11141603],\n",
              "       [0.10757409],\n",
              "       [0.10896732],\n",
              "       [0.10841848],\n",
              "       [0.1109094 ],\n",
              "       [0.11639787],\n",
              "       [0.12095753],\n",
              "       [0.12146416],\n",
              "       [0.12416617],\n",
              "       [0.12205522],\n",
              "       [0.12116862],\n",
              "       [0.12522165],\n",
              "       [0.12517943],\n",
              "       [0.12429283],\n",
              "       [0.12522165],\n",
              "       [0.1255594 ],\n",
              "       [0.12509499],\n",
              "       [0.13315883],\n",
              "       [0.13341214],\n",
              "       [0.13345436],\n",
              "       [0.13210335],\n",
              "       [0.13092122],\n",
              "       [0.1621633 ],\n",
              "       [0.16123448],\n",
              "       [0.16355653],\n",
              "       [0.16866503],\n",
              "       [0.17390019],\n",
              "       [0.17605336],\n",
              "       [0.17765769],\n",
              "       [0.17639112],\n",
              "       [0.18133074],\n",
              "       [0.18863464],\n",
              "       [0.19070337],\n",
              "       [0.19000676],\n",
              "       [0.19158997],\n",
              "       [0.19572743],\n",
              "       [0.19745841],\n",
              "       [0.19500971],\n",
              "       [0.19555856],\n",
              "       [0.19669847],\n",
              "       [0.19695179],\n",
              "       [0.20877311],\n",
              "       [0.20526894],\n",
              "       [0.2087309 ],\n",
              "       [0.20687326],\n",
              "       [0.2076332 ],\n",
              "       [0.20543781],\n",
              "       [0.2040868 ],\n",
              "       [0.20602888],\n",
              "       [0.20628219],\n",
              "       [0.20539559],\n",
              "       [0.21160179],\n",
              "       [0.21257283],\n",
              "       [0.2096175 ],\n",
              "       [0.21582369],\n",
              "       [0.20898421],\n",
              "       [0.21565482],\n",
              "       [0.21354387],\n",
              "       [0.21236173],\n",
              "       [0.21337499],\n",
              "       [0.22570295],\n",
              "       [0.22705396],\n",
              "       [0.22625179],\n",
              "       [0.22511188],\n",
              "       [0.22528076],\n",
              "       [0.22979819],\n",
              "       [0.22663177],\n",
              "       [0.22511188],\n",
              "       [0.22376087],\n",
              "       [0.22304315],\n",
              "       [0.21654142],\n",
              "       [0.21725914],\n",
              "       [0.21409271],\n",
              "       [0.2173858 ],\n",
              "       [0.214726  ],\n",
              "       [0.21253061],\n",
              "       [0.21996116],\n",
              "       [0.21924343],\n",
              "       [0.22502744],\n",
              "       [0.22878494],\n",
              "       [0.22519632],\n",
              "       [0.22566073],\n",
              "       [0.22506966],\n",
              "       [0.23743984],\n",
              "       [0.24136621],\n",
              "       [0.23946635],\n",
              "       [0.23722874],\n",
              "       [0.24748797],\n",
              "       [0.26458668],\n",
              "       [0.26872414],\n",
              "       [0.26564215],\n",
              "       [0.26855526],\n",
              "       [0.27763236],\n",
              "       [0.2759436 ],\n",
              "       [0.27497256],\n",
              "       [0.25293422],\n",
              "       [0.26260238],\n",
              "       [0.26479777],\n",
              "       [0.26872414],\n",
              "       [0.26792198],\n",
              "       [0.2659799 ],\n",
              "       [0.26821751],\n",
              "       [0.26711982],\n",
              "       [0.26737313],\n",
              "       [0.2635312 ],\n",
              "       [0.2653044 ],\n",
              "       [0.27488812],\n",
              "       [0.26847083],\n",
              "       [0.27066622],\n",
              "       [0.27455037],\n",
              "       [0.27294604],\n",
              "       [0.24757241],\n",
              "       [0.23254243],\n",
              "       [0.23748206],\n",
              "       [0.23144474],\n",
              "       [0.22777168],\n",
              "       [0.21924343],\n",
              "       [0.23642658],\n",
              "       [0.23081145],\n",
              "       [0.23444229],\n",
              "       [0.23342903],\n",
              "       [0.23617327],\n",
              "       [0.23423119],\n",
              "       [0.22540741],\n",
              "       [0.23427341],\n",
              "       [0.22519632],\n",
              "       [0.22663177],\n",
              "       [0.22443638],\n",
              "       [0.2269273 ],\n",
              "       [0.22118551],\n",
              "       [0.22730727],\n",
              "       [0.23102254],\n",
              "       [0.23300684],\n",
              "       [0.23389344],\n",
              "       [0.2424639 ],\n",
              "       [0.24782572],\n",
              "       [0.25002111],\n",
              "       [0.2522165 ],\n",
              "       [0.25618509],\n",
              "       [0.25331419],\n",
              "       [0.25301866],\n",
              "       [0.26070252],\n",
              "       [0.26344676],\n",
              "       [0.26648653],\n",
              "       [0.25424301],\n",
              "       [0.2497678 ],\n",
              "       [0.24651693],\n",
              "       [0.25208984],\n",
              "       [0.28202314],\n",
              "       [0.27539475],\n",
              "       [0.27885671],\n",
              "       [0.28907371],\n",
              "       [0.29443553],\n",
              "       [0.298573  ],\n",
              "       [0.27433927],\n",
              "       [0.28345858],\n",
              "       [0.29346449],\n",
              "       [0.30085282],\n",
              "       [0.29810859],\n",
              "       [0.28506291],\n",
              "       [0.28354302],\n",
              "       [0.28231867],\n",
              "       [0.29316896],\n",
              "       [0.29401334],\n",
              "       [0.29101579],\n",
              "       [0.29350671],\n",
              "       [0.30030398],\n",
              "       [0.30638352],\n",
              "       [0.30824116],\n",
              "       [0.31098539],\n",
              "       [0.31119649],\n",
              "       [0.30287934],\n",
              "       [0.30216161],\n",
              "       [0.29941738],\n",
              "       [0.28831377],\n",
              "       [0.30043063],\n",
              "       [0.29772862],\n",
              "       [0.29262011],\n",
              "       [0.28683611],\n",
              "       [0.29359115],\n",
              "       [0.28848265],\n",
              "       [0.28873596],\n",
              "       [0.2775057 ],\n",
              "       [0.266191  ],\n",
              "       [0.25985814],\n",
              "       [0.25420079],\n",
              "       [0.26513552],\n",
              "       [0.2697374 ],\n",
              "       [0.26572659],\n",
              "       [0.26927299],\n",
              "       [0.2679642 ],\n",
              "       [0.27079287],\n",
              "       [0.26657097],\n",
              "       [0.27463481],\n",
              "       [0.27425483],\n",
              "       [0.27653466],\n",
              "       [0.27678798],\n",
              "       [0.27953221],\n",
              "       [0.27721017],\n",
              "       [0.28138985],\n",
              "       [0.29359115],\n",
              "       [0.29608207],\n",
              "       [0.29308452],\n",
              "       [0.27712573],\n",
              "       [0.27826564],\n",
              "       [0.27792789],\n",
              "       [0.28185426],\n",
              "       [0.27894115],\n",
              "       [0.28316305],\n",
              "       [0.30697458],\n",
              "       [0.32246897],\n",
              "       [0.33226378],\n",
              "       [0.32318669],\n",
              "       [0.32833741],\n",
              "       [0.34687157],\n",
              "       [0.3542599 ],\n",
              "       [0.35662417],\n",
              "       [0.36266149],\n",
              "       [0.3611416 ],\n",
              "       [0.3560331 ],\n",
              "       [0.35307777],\n",
              "       [0.34197416],\n",
              "       [0.33243266],\n",
              "       [0.34096091],\n",
              "       [0.3369501 ],\n",
              "       [0.33623237],\n",
              "       [0.34957359],\n",
              "       [0.35725745],\n",
              "       [0.35729967],\n",
              "       [0.3535844 ],\n",
              "       [0.34927805],\n",
              "       [0.33412142],\n",
              "       [0.34412733],\n",
              "       [0.34074981],\n",
              "       [0.33547243],\n",
              "       [0.33479693],\n",
              "       [0.33213713],\n",
              "       [0.33344592],\n",
              "       [0.33365701],\n",
              "       [0.34758929],\n",
              "       [0.34349405],\n",
              "       [0.34590053],\n",
              "       [0.34568944],\n",
              "       [0.35307777],\n",
              "       [0.36342143],\n",
              "       [0.35548425],\n",
              "       [0.35468209],\n",
              "       [0.35746855],\n",
              "       [0.35746855],\n",
              "       [0.3387233 ],\n",
              "       [0.33884995],\n",
              "       [0.34087647],\n",
              "       [0.33306595],\n",
              "       [0.34585831],\n",
              "       [0.34573166],\n",
              "       [0.34910918],\n",
              "       [0.35742633],\n",
              "       [0.35468209],\n",
              "       [0.35459765],\n",
              "       [0.35442878],\n",
              "       [0.35860846],\n",
              "       [0.36625011],\n",
              "       [0.36245039],\n",
              "       [0.37473613],\n",
              "       [0.37541164],\n",
              "       [0.37203411],\n",
              "       [0.36587013],\n",
              "       [0.36603901],\n",
              "       [0.35413324],\n",
              "       [0.34100312],\n",
              "       [0.34269189],\n",
              "       [0.32770413],\n",
              "       [0.32352444],\n",
              "       [0.32546652],\n",
              "       [0.32694419],\n",
              "       [0.29620873],\n",
              "       [0.2792789 ],\n",
              "       [0.30689015],\n",
              "       [0.2921557 ],\n",
              "       [0.27362155],\n",
              "       [0.27894115],\n",
              "       [0.30553914],\n",
              "       [0.31242084],\n",
              "       [0.32521321],\n",
              "       [0.3489403 ],\n",
              "       [0.34657604],\n",
              "       [0.34412733],\n",
              "       [0.34083425],\n",
              "       [0.34687157],\n",
              "       [0.35953728],\n",
              "       [0.37418728],\n",
              "       [0.37173858],\n",
              "       [0.37059867],\n",
              "       [0.35742633],\n",
              "       [0.36253483],\n",
              "       [0.36511019],\n",
              "       [0.36447691],\n",
              "       [0.35755298],\n",
              "       [0.36561682],\n",
              "       [0.37845141],\n",
              "       [0.38579752],\n",
              "       [0.37840919],\n",
              "       [0.37194967],\n",
              "       [0.37283627],\n",
              "       [0.37017648],\n",
              "       [0.3586929 ],\n",
              "       [0.35843958],\n",
              "       [0.34167863],\n",
              "       [0.33146162],\n",
              "       [0.31495398],\n",
              "       [0.34801148],\n",
              "       [0.32930845],\n",
              "       [0.32145571],\n",
              "       [0.32694419],\n",
              "       [0.32230009],\n",
              "       [0.32951955],\n",
              "       [0.34311408],\n",
              "       [0.34813814],\n",
              "       [0.32947733],\n",
              "       [0.33652791],\n",
              "       [0.350038  ],\n",
              "       [0.34661826],\n",
              "       [0.35379549],\n",
              "       [0.35628641],\n",
              "       [0.36088829],\n",
              "       [0.37110529],\n",
              "       [0.36941653],\n",
              "       [0.34813814],\n",
              "       [0.31824707],\n",
              "       [0.31622055],\n",
              "       [0.30651017],\n",
              "       [0.30950773],\n",
              "       [0.31191421],\n",
              "       [0.30389259],\n",
              "       [0.31630499],\n",
              "       [0.3325171 ],\n",
              "       [0.36405472],\n",
              "       [0.36540572],\n",
              "       [0.39470573],\n",
              "       [0.40032086],\n",
              "       [0.40407836],\n",
              "       [0.40960905],\n",
              "       [0.42092375],\n",
              "       [0.41480199],\n",
              "       [0.41294436],\n",
              "       [0.4057249 ],\n",
              "       [0.41307101],\n",
              "       [0.40804695],\n",
              "       [0.40517605],\n",
              "       [0.41074897],\n",
              "       [0.40876467],\n",
              "       [0.41383095],\n",
              "       [0.41294436],\n",
              "       [0.41475977],\n",
              "       [0.41188888],\n",
              "       [0.41020012],\n",
              "       [0.40754032],\n",
              "       [0.42176813],\n",
              "       [0.42848096],\n",
              "       [0.43472938],\n",
              "       [0.43755805],\n",
              "       [0.43536266],\n",
              "       [0.42793211],\n",
              "       [0.42594782],\n",
              "       [0.43038082],\n",
              "       [0.42371021],\n",
              "       [0.4241324 ],\n",
              "       [0.41585747],\n",
              "       [0.41543528],\n",
              "       [0.40255847],\n",
              "       [0.40597821],\n",
              "       [0.40158744],\n",
              "       [0.39930761],\n",
              "       [0.38769737],\n",
              "       [0.39723888],\n",
              "       [0.39609896],\n",
              "       [0.40175631],\n",
              "       [0.40010977],\n",
              "       [0.40884911],\n",
              "       [0.3950857 ],\n",
              "       [0.40133412],\n",
              "       [0.41218441],\n",
              "       [0.42320358],\n",
              "       [0.42223254],\n",
              "       [0.41180444],\n",
              "       [0.42510344],\n",
              "       [0.42637001],\n",
              "       [0.42459681],\n",
              "       [0.42687664],\n",
              "       [0.42244364],\n",
              "       [0.42869205],\n",
              "       [0.42683442],\n",
              "       [0.42755214],\n",
              "       [0.43342059],\n",
              "       [0.44110445],\n",
              "       [0.43852909],\n",
              "       [0.42489234],\n",
              "       [0.42037491],\n",
              "       [0.42197923],\n",
              "       [0.46930676],\n",
              "       [0.49417377],\n",
              "       [0.49670692],\n",
              "       [0.50126657],\n",
              "       [0.49299164],\n",
              "       [0.49358271],\n",
              "       [0.50046441],\n",
              "       [0.49476484],\n",
              "       [0.50042219],\n",
              "       [0.50413747],\n",
              "       [0.5062062 ],\n",
              "       [0.51920966],\n",
              "       [0.53719497],\n",
              "       [0.52824453],\n",
              "       [0.52647133]])"
            ]
          },
          "metadata": {},
          "execution_count": 19
        }
      ]
    },
    {
      "cell_type": "code",
      "metadata": {
        "colab": {
          "base_uri": "https://localhost:8080/"
        },
        "id": "3FeKbLPybPId",
        "outputId": "1286ff5e-74ff-4a9c-d90e-dcfe68ac63b9"
      },
      "source": [
        "test_data"
      ],
      "execution_count": null,
      "outputs": [
        {
          "output_type": "execute_result",
          "data": {
            "text/plain": [
              "array([[0.52651355],\n",
              "       [0.52837119],\n",
              "       [0.53119986],\n",
              "       [0.53871485],\n",
              "       [0.5461454 ],\n",
              "       [0.55999324],\n",
              "       [0.56864815],\n",
              "       [0.57962509],\n",
              "       [0.58270708],\n",
              "       [0.57641645],\n",
              "       [0.56049987],\n",
              "       [0.55290045],\n",
              "       [0.54036139],\n",
              "       [0.5636663 ],\n",
              "       [0.55192941],\n",
              "       [0.57447437],\n",
              "       [0.56362408],\n",
              "       [0.53846154],\n",
              "       [0.53998142],\n",
              "       [0.54053027],\n",
              "       [0.54753863],\n",
              "       [0.53753272],\n",
              "       [0.55074728],\n",
              "       [0.55665794],\n",
              "       [0.54918517],\n",
              "       [0.56831039],\n",
              "       [0.5716457 ],\n",
              "       [0.57806299],\n",
              "       [0.58659124],\n",
              "       [0.59837035],\n",
              "       [0.58114498],\n",
              "       [0.56552394],\n",
              "       [0.56332855],\n",
              "       [0.57641645],\n",
              "       [0.53204425],\n",
              "       [0.52398041],\n",
              "       [0.55632019],\n",
              "       [0.53626615],\n",
              "       [0.55648907],\n",
              "       [0.55243604],\n",
              "       [0.5306088 ],\n",
              "       [0.54449886],\n",
              "       [0.55015621],\n",
              "       [0.55893777],\n",
              "       [0.52668243],\n",
              "       [0.54656759],\n",
              "       [0.53179093],\n",
              "       [0.51465   ],\n",
              "       [0.51912522],\n",
              "       [0.542599  ],\n",
              "       [0.5567846 ],\n",
              "       [0.49455374],\n",
              "       [0.46968673],\n",
              "       [0.47889048],\n",
              "       [0.50498185],\n",
              "       [0.49881787],\n",
              "       [0.48184582],\n",
              "       [0.43836021],\n",
              "       [0.43016972],\n",
              "       [0.40724479],\n",
              "       [0.42670776],\n",
              "       [0.43565819],\n",
              "       [0.4032762 ],\n",
              "       [0.3657857 ],\n",
              "       [0.36494132],\n",
              "       [0.34598497],\n",
              "       [0.355822  ],\n",
              "       [0.35421768],\n",
              "       [0.38250443],\n",
              "       [0.37663599],\n",
              "       [0.37254074],\n",
              "       [0.39888542],\n",
              "       [0.36456134],\n",
              "       [0.35624419],\n",
              "       [0.32994174],\n",
              "       [0.33462805],\n",
              "       [0.3305328 ],\n",
              "       [0.3325171 ],\n",
              "       [0.34032762],\n",
              "       [0.31723381],\n",
              "       [0.31073208],\n",
              "       [0.31972473],\n",
              "       [0.29785527],\n",
              "       [0.28071435],\n",
              "       [0.25496074],\n",
              "       [0.23849531],\n",
              "       [0.28214979],\n",
              "       [0.27784345],\n",
              "       [0.2781812 ],\n",
              "       [0.28455628],\n",
              "       [0.28531622],\n",
              "       [0.21890568],\n",
              "       [0.24453264],\n",
              "       [0.24313941],\n",
              "       [0.25504517],\n",
              "       [0.26585325],\n",
              "       [0.26792198],\n",
              "       [0.26154691],\n",
              "       [0.25187875],\n",
              "       [0.26483999],\n",
              "       [0.27273495],\n",
              "       [0.2766191 ],\n",
              "       [0.28067213],\n",
              "       [0.26581103],\n",
              "       [0.26842861],\n",
              "       [0.26327789],\n",
              "       [0.28464072],\n",
              "       [0.27847674],\n",
              "       [0.27163725],\n",
              "       [0.31626277],\n",
              "       [0.32128684],\n",
              "       [0.32162459],\n",
              "       [0.34159419],\n",
              "       [0.35396437],\n",
              "       [0.35421768],\n",
              "       [0.3402854 ],\n",
              "       [0.33804779],\n",
              "       [0.33391033],\n",
              "       [0.34007431],\n",
              "       [0.33707675],\n",
              "       [0.33969433],\n",
              "       [0.33809001],\n",
              "       [0.34024318],\n",
              "       [0.34488728],\n",
              "       [0.34079203],\n",
              "       [0.34885586],\n",
              "       [0.35417546],\n",
              "       [0.35459765],\n",
              "       [0.35687748],\n",
              "       [0.34961581],\n",
              "       [0.35729967],\n",
              "       [0.36101495],\n",
              "       [0.35966394],\n",
              "       [0.35539981],\n",
              "       [0.34687157],\n",
              "       [0.34860255],\n",
              "       [0.37389175],\n",
              "       [0.38237778],\n",
              "       [0.3857553 ],\n",
              "       [0.39428354],\n",
              "       [0.40437389],\n",
              "       [0.41239551],\n",
              "       [0.40610487],\n",
              "       [0.41298657],\n",
              "       [0.44224436],\n",
              "       [0.42518787],\n",
              "       [0.41543528],\n",
              "       [0.40720257],\n",
              "       [0.41429536],\n",
              "       [0.41535084],\n",
              "       [0.42054378],\n",
              "       [0.42599004],\n",
              "       [0.43772693],\n",
              "       [0.44334206],\n",
              "       [0.44477751],\n",
              "       [0.4503082 ],\n",
              "       [0.4633961 ],\n",
              "       [0.46086296],\n",
              "       [0.46559149],\n",
              "       [0.45854091],\n",
              "       [0.45820316],\n",
              "       [0.45972304],\n",
              "       [0.45980748],\n",
              "       [0.47618847],\n",
              "       [0.47927046],\n",
              "       [0.48209913],\n",
              "       [0.49455374],\n",
              "       [0.49320274],\n",
              "       [0.48526556],\n",
              "       [0.48112809],\n",
              "       [0.48243688],\n",
              "       [0.46580258],\n",
              "       [0.50738833],\n",
              "       [0.50160432],\n",
              "       [0.51258127],\n",
              "       [0.49877565],\n",
              "       [0.47504855],\n",
              "       [0.47521743],\n",
              "       [0.46601368],\n",
              "       [0.45106814],\n",
              "       [0.40268513],\n",
              "       [0.41509753],\n",
              "       [0.42463903],\n",
              "       [0.42109263],\n",
              "       [0.41653297],\n",
              "       [0.39158152],\n",
              "       [0.40640041],\n",
              "       [0.39027273],\n",
              "       [0.3771004 ],\n",
              "       [0.37418728],\n",
              "       [0.37106308],\n",
              "       [0.36747446],\n",
              "       [0.37135861],\n",
              "       [0.35772186],\n",
              "       [0.35024909],\n",
              "       [0.37701596],\n",
              "       [0.38925948],\n",
              "       [0.40057418],\n",
              "       [0.42138816],\n",
              "       [0.43164739],\n",
              "       [0.44106223],\n",
              "       [0.43844465],\n",
              "       [0.43827577],\n",
              "       [0.43232289],\n",
              "       [0.43717808],\n",
              "       [0.45642996],\n",
              "       [0.45398125],\n",
              "       [0.46069408],\n",
              "       [0.45782319],\n",
              "       [0.45697881],\n",
              "       [0.44427088],\n",
              "       [0.46212953],\n",
              "       [0.46187621],\n",
              "       [0.45419235],\n",
              "       [0.46951786],\n",
              "       [0.4744997 ],\n",
              "       [0.4815925 ],\n",
              "       [0.48083256],\n",
              "       [0.46305835],\n",
              "       [0.46820907],\n",
              "       [0.47661066],\n",
              "       [0.47036224],\n",
              "       [0.47690619],\n",
              "       [0.48497002],\n",
              "       [0.48197247],\n",
              "       [0.47711728],\n",
              "       [0.48686988],\n",
              "       [0.47390864],\n",
              "       [0.49345605],\n",
              "       [0.50029553],\n",
              "       [0.49957781],\n",
              "       [0.49261167],\n",
              "       [0.49565144],\n",
              "       [0.50384193],\n",
              "       [0.50004222],\n",
              "       [0.51802753],\n",
              "       [0.49856455],\n",
              "       [0.47994596],\n",
              "       [0.43485603],\n",
              "       [0.4503082 ],\n",
              "       [0.45892088],\n",
              "       [0.47745504],\n",
              "       [0.46715359],\n",
              "       [0.46500042],\n",
              "       [0.50084438],\n",
              "       [0.47458414],\n",
              "       [0.47032002],\n",
              "       [0.49041628],\n",
              "       [0.50667061],\n",
              "       [0.50671283],\n",
              "       [0.51633877],\n",
              "       [0.51557882],\n",
              "       [0.47411973],\n",
              "       [0.49037406],\n",
              "       [0.48053703],\n",
              "       [0.48632103],\n",
              "       [0.50101326],\n",
              "       [0.49987334],\n",
              "       [0.48703876],\n",
              "       [0.5017732 ],\n",
              "       [0.51904078],\n",
              "       [0.51895635],\n",
              "       [0.52279828],\n",
              "       [0.53347969],\n",
              "       [0.56256861],\n",
              "       [0.56043654],\n",
              "       [0.54213459],\n",
              "       [0.54698978],\n",
              "       [0.55036731],\n",
              "       [0.55910665],\n",
              "       [0.551465  ],\n",
              "       [0.53782825],\n",
              "       [0.54200794],\n",
              "       [0.53761716],\n",
              "       [0.55176053],\n",
              "       [0.54694756],\n",
              "       [0.54243013],\n",
              "       [0.56417293],\n",
              "       [0.56679051],\n",
              "       [0.54302119],\n",
              "       [0.55087393],\n",
              "       [0.57700751],\n",
              "       [0.57721861],\n",
              "       [0.56598835],\n",
              "       [0.57709195],\n",
              "       [0.59001098],\n",
              "       [0.61584902],\n",
              "       [0.61441358],\n",
              "       [0.61209153],\n",
              "       [0.60808072],\n",
              "       [0.61192265],\n",
              "       [0.61669341],\n",
              "       [0.63400321],\n",
              "       [0.63168116],\n",
              "       [0.64527569],\n",
              "       [0.64696445],\n",
              "       [0.65963016],\n",
              "       [0.67005826],\n",
              "       [0.6457401 ],\n",
              "       [0.64561344],\n",
              "       [0.66883391],\n",
              "       [0.69864055],\n",
              "       [0.70573334],\n",
              "       [0.70417124],\n",
              "       [0.70463565],\n",
              "       [0.71388162],\n",
              "       [0.71687917],\n",
              "       [0.72557629],\n",
              "       [0.72456303],\n",
              "       [0.73516001],\n",
              "       [0.72743393],\n",
              "       [0.74060627],\n",
              "       [0.74626362],\n",
              "       [0.74284387],\n",
              "       [0.72975597],\n",
              "       [0.72477413],\n",
              "       [0.72380309],\n",
              "       [0.74318163],\n",
              "       [0.73440007],\n",
              "       [0.74938782],\n",
              "       [0.7468969 ],\n",
              "       [0.73385122],\n",
              "       [0.71396606],\n",
              "       [0.72363421],\n",
              "       [0.73984632],\n",
              "       [0.76150469],\n",
              "       [0.74550367],\n",
              "       [0.75208984],\n",
              "       [0.761758  ],\n",
              "       [0.76467111],\n",
              "       [0.78024994],\n",
              "       [0.8001351 ],\n",
              "       [0.80245715],\n",
              "       [0.79962847],\n",
              "       [0.80081061],\n",
              "       [0.7983619 ],\n",
              "       [0.81761378],\n",
              "       [0.81875369],\n",
              "       [0.84256523],\n",
              "       [0.84210082],\n",
              "       [0.84936249],\n",
              "       [0.85835515],\n",
              "       [0.8866419 ],\n",
              "       [0.87431394],\n",
              "       [0.88431985],\n",
              "       [0.87836697],\n",
              "       [0.8986321 ],\n",
              "       [0.92582116],\n",
              "       [0.92877649],\n",
              "       [0.95676771],\n",
              "       [0.93869797],\n",
              "       [0.93304061],\n",
              "       [0.94950604],\n",
              "       [0.96424048],\n",
              "       [0.95512117],\n",
              "       [0.95989192],\n",
              "       [0.96635143],\n",
              "       [0.96246728],\n",
              "       [0.92295027],\n",
              "       [0.9598497 ],\n",
              "       [0.98792536],\n",
              "       [0.98594106],\n",
              "       [0.92531453],\n",
              "       [0.92172591],\n",
              "       [0.96474711],\n",
              "       [0.97572406],\n",
              "       [0.99159841],\n",
              "       [0.96972895],\n",
              "       [0.97614625],\n",
              "       [0.96795575],\n",
              "       [1.        ],\n",
              "       [0.99016297],\n",
              "       [0.99050072],\n",
              "       [0.96538039],\n",
              "       [0.98488559],\n",
              "       [0.97086887],\n",
              "       [0.94026007],\n",
              "       [0.87748037],\n",
              "       [0.83483915],\n",
              "       [0.85413324],\n",
              "       [0.77336823],\n",
              "       [0.77269273],\n",
              "       [0.88014017],\n",
              "       [0.84007431],\n",
              "       [0.89673225],\n",
              "       [0.85527316],\n",
              "       [0.83884995],\n",
              "       [0.74233725],\n",
              "       [0.82327113],\n",
              "       [0.78143207],\n",
              "       [0.6665963 ],\n",
              "       [0.7921557 ],\n",
              "       [0.64118044],\n",
              "       [0.68614371],\n",
              "       [0.66001013],\n",
              "       [0.65203074],\n",
              "       [0.58642236],\n",
              "       [0.56586169],\n",
              "       [0.66089673],\n",
              "       [0.65515494],\n",
              "       [0.70970193],\n",
              "       [0.66452757],\n",
              "       [0.69437642],\n",
              "       [0.69218104],\n",
              "       [0.63569197],\n",
              "       [0.65266402],\n",
              "       [0.63780292],\n",
              "       [0.7267162 ],\n",
              "       [0.71388162],\n",
              "       [0.74191506],\n",
              "       [0.75002111],\n",
              "       [0.77222832],\n",
              "       [0.83049059],\n",
              "       [0.8194292 ],\n",
              "       [0.8289707 ],\n",
              "       [0.8125475 ],\n",
              "       [0.78776492],\n",
              "       [0.75162543],\n",
              "       [0.78426074],\n",
              "       [0.77974331],\n",
              "       [0.81326522],\n",
              "       [0.8141096 ],\n",
              "       [0.79473106],\n",
              "       [0.83336148],\n",
              "       [0.85898843],\n",
              "       [0.83901883],\n",
              "       [0.85628641],\n",
              "       [0.87486279],\n",
              "       [0.88782403],\n",
              "       [0.90095415],\n",
              "       [0.92793211],\n",
              "       [0.948535  ],\n",
              "       [0.93333615],\n",
              "       [0.91746179],\n",
              "       [0.92544119],\n",
              "       [0.91771511],\n",
              "       [0.9483239 ],\n",
              "       [0.94064004],\n",
              "       [0.96635143],\n",
              "       [0.9563033 ],\n",
              "       [0.96491598]])"
            ]
          },
          "metadata": {},
          "execution_count": 20
        }
      ]
    },
    {
      "cell_type": "code",
      "metadata": {
        "colab": {
          "base_uri": "https://localhost:8080/"
        },
        "id": "UbeK07vlbRmE",
        "outputId": "812bb4ba-3e45-4d14-e450-88a6b69becea"
      },
      "source": [
        "len(train_data), len(test_data)"
      ],
      "execution_count": null,
      "outputs": [
        {
          "output_type": "execute_result",
          "data": {
            "text/plain": [
              "(817, 441)"
            ]
          },
          "metadata": {},
          "execution_count": 21
        }
      ]
    },
    {
      "cell_type": "markdown",
      "metadata": {
        "id": "oleowififRuy"
      },
      "source": [
        "#TimeSeries data Train-Test Sequence Data feeding\n",
        "\n",
        "Suppose my training dataset= 120,130,125,140,134,150 and \n",
        "           testing dataset= 160,190,154,160,170\n",
        "\n",
        "Take timesteps= 3\n",
        "\n",
        "Hence,\n",
        "      \n",
        "        X_train       y_train\n",
        "      f1   f2   f3      o/p\n",
        "      120  130  125 --> 140  \n",
        "      130  125  140 --> 134\n",
        "      125  140  134 --> 150 \n",
        "    \n",
        "and,\n",
        " \n",
        "        X_test       y_test\n",
        "      f1   f2   f3      o/p\n",
        "      160  190  154 --> 160  \n",
        "      190  154  160 --> 170 \n",
        "\n",
        "####If we take timesteps= 100 then the model will take 0-99 index values as input data and 100th index value will be output."
      ]
    },
    {
      "cell_type": "code",
      "metadata": {
        "id": "V7y03enPb6QD"
      },
      "source": [
        "#convert an array of values into a dataset matrix.\n",
        "def create_dataset(dataset, time_step=1):\n",
        "\tdataX, dataY = [], []\n",
        "\tfor i in range(len(dataset)-time_step-1):\n",
        "\t\ta = dataset[i:(i+time_step), 0]   #i=0, 0,1,2,3-----99   100 if timesteps=100\n",
        "\t\tdataX.append(a)\n",
        "\t\tdataY.append(dataset[i + time_step, 0])\n",
        "\treturn np.array(dataX), np.array(dataY)"
      ],
      "execution_count": null,
      "outputs": []
    },
    {
      "cell_type": "code",
      "metadata": {
        "colab": {
          "base_uri": "https://localhost:8080/"
        },
        "id": "pAs_vHIgjsel",
        "outputId": "ee8ffe64-08e2-4202-842c-f557a5fc8698"
      },
      "source": [
        "train_data[0:3,0] \n",
        "#cheking for dataset[i:(i + timesteps), 0] where i=0 and timesteps=3; i++"
      ],
      "execution_count": null,
      "outputs": [
        {
          "output_type": "execute_result",
          "data": {
            "text/plain": [
              "array([0.17607447, 0.17495567, 0.16862282])"
            ]
          },
          "metadata": {},
          "execution_count": 23
        }
      ]
    },
    {
      "cell_type": "code",
      "metadata": {
        "colab": {
          "base_uri": "https://localhost:8080/"
        },
        "id": "f1lEOogWi9bT",
        "outputId": "6ac111aa-8fca-4814-fe06-834db90c32ab"
      },
      "source": [
        "train_data[3,0] \n",
        "#cheking for dataset[i + timesteps, 0] where i=0 and timesteps=3; i++\n",
        "#this is my X_train[3] i.e. output for first timestepped data of X_train[0:3,0]"
      ],
      "execution_count": null,
      "outputs": [
        {
          "output_type": "execute_result",
          "data": {
            "text/plain": [
              "0.1696994004897408"
            ]
          },
          "metadata": {},
          "execution_count": 62
        }
      ]
    },
    {
      "cell_type": "code",
      "metadata": {
        "colab": {
          "base_uri": "https://localhost:8080/"
        },
        "id": "eMEfsR_IkC47",
        "outputId": "757d42fb-4918-4ef5-f3b1-fe005b96fbaa"
      },
      "source": [
        "train_data[1:4,0] \n",
        "#cheking for dataset[i:(i + timesteps), 0] where i=1 and timesteps=3; i++"
      ],
      "execution_count": null,
      "outputs": [
        {
          "output_type": "execute_result",
          "data": {
            "text/plain": [
              "array([0.17495567, 0.16862282, 0.1696994 ])"
            ]
          },
          "metadata": {},
          "execution_count": 24
        }
      ]
    },
    {
      "cell_type": "code",
      "metadata": {
        "colab": {
          "base_uri": "https://localhost:8080/"
        },
        "id": "mC5WUo36kNQ7",
        "outputId": "9b5a27ce-c6ce-4cce-9cc8-ce2794f980ed"
      },
      "source": [
        "train_data[4,0] \n",
        "#cheking for dataset[i + timesteps, 0] where i=1 and timesteps=3; i++\n",
        "#this is my X_train[4] i.e. output for first timestepped data of X_train[1:4,0]"
      ],
      "execution_count": null,
      "outputs": [
        {
          "output_type": "execute_result",
          "data": {
            "text/plain": [
              "0.1672718061302036"
            ]
          },
          "metadata": {},
          "execution_count": 63
        }
      ]
    },
    {
      "cell_type": "code",
      "metadata": {
        "id": "jzQFiIGZiDaI"
      },
      "source": [
        "#Feeding training and testing data into a sequential split\n",
        "X_train, y_train= create_dataset(train_data, time_step=100)\n",
        "X_test, y_test= create_dataset(test_data, time_step=100)"
      ],
      "execution_count": null,
      "outputs": []
    },
    {
      "cell_type": "code",
      "metadata": {
        "colab": {
          "base_uri": "https://localhost:8080/"
        },
        "id": "cu763azPmnzf",
        "outputId": "c0d156df-a972-4b2d-d574-883bcf46dc20"
      },
      "source": [
        "X_train"
      ],
      "execution_count": null,
      "outputs": [
        {
          "output_type": "execute_result",
          "data": {
            "text/plain": [
              "array([[0.17607447, 0.17495567, 0.16862282, ..., 0.09055982, 0.08388922,\n",
              "        0.09085536],\n",
              "       [0.17495567, 0.16862282, 0.1696994 , ..., 0.08388922, 0.09085536,\n",
              "        0.0873934 ],\n",
              "       [0.16862282, 0.1696994 , 0.16727181, ..., 0.09085536, 0.0873934 ,\n",
              "        0.09030651],\n",
              "       ...,\n",
              "       [0.34801148, 0.32930845, 0.32145571, ..., 0.50042219, 0.50413747,\n",
              "        0.5062062 ],\n",
              "       [0.32930845, 0.32145571, 0.32694419, ..., 0.50413747, 0.5062062 ,\n",
              "        0.51920966],\n",
              "       [0.32145571, 0.32694419, 0.32230009, ..., 0.5062062 , 0.51920966,\n",
              "        0.53719497]])"
            ]
          },
          "metadata": {},
          "execution_count": 28
        }
      ]
    },
    {
      "cell_type": "code",
      "metadata": {
        "colab": {
          "base_uri": "https://localhost:8080/"
        },
        "id": "8KCadwWimy4H",
        "outputId": "f13bf88a-37a6-4cc7-bc64-0793d4fb5dc4"
      },
      "source": [
        "X_test"
      ],
      "execution_count": null,
      "outputs": [
        {
          "output_type": "execute_result",
          "data": {
            "text/plain": [
              "array([[0.52651355, 0.52837119, 0.53119986, ..., 0.26154691, 0.25187875,\n",
              "        0.26483999],\n",
              "       [0.52837119, 0.53119986, 0.53871485, ..., 0.25187875, 0.26483999,\n",
              "        0.27273495],\n",
              "       [0.53119986, 0.53871485, 0.5461454 , ..., 0.26483999, 0.27273495,\n",
              "        0.2766191 ],\n",
              "       ...,\n",
              "       [0.81875369, 0.84256523, 0.84210082, ..., 0.92544119, 0.91771511,\n",
              "        0.9483239 ],\n",
              "       [0.84256523, 0.84210082, 0.84936249, ..., 0.91771511, 0.9483239 ,\n",
              "        0.94064004],\n",
              "       [0.84210082, 0.84936249, 0.85835515, ..., 0.9483239 , 0.94064004,\n",
              "        0.96635143]])"
            ]
          },
          "metadata": {},
          "execution_count": 29
        }
      ]
    },
    {
      "cell_type": "code",
      "metadata": {
        "colab": {
          "base_uri": "https://localhost:8080/"
        },
        "id": "hrO9u2BNmFqV",
        "outputId": "472386bd-5a5d-44f0-af12-7359c88e9c15"
      },
      "source": [
        "print(X_train.shape), print(y_train.shape) \n",
        "#100 feature columns for X_train"
      ],
      "execution_count": null,
      "outputs": [
        {
          "output_type": "stream",
          "name": "stdout",
          "text": [
            "(716, 100)\n",
            "(716,)\n"
          ]
        },
        {
          "output_type": "execute_result",
          "data": {
            "text/plain": [
              "(None, None)"
            ]
          },
          "metadata": {},
          "execution_count": 30
        }
      ]
    },
    {
      "cell_type": "code",
      "metadata": {
        "colab": {
          "base_uri": "https://localhost:8080/"
        },
        "id": "XJai0Xu5mT13",
        "outputId": "37a0650c-ba18-41b3-ada9-fe8c8ef770f9"
      },
      "source": [
        "print(X_test.shape), print(y_test.shape) \n",
        "#100 feature columns for X_test"
      ],
      "execution_count": null,
      "outputs": [
        {
          "output_type": "stream",
          "name": "stdout",
          "text": [
            "(340, 100)\n",
            "(340,)\n"
          ]
        },
        {
          "output_type": "execute_result",
          "data": {
            "text/plain": [
              "(None, None)"
            ]
          },
          "metadata": {},
          "execution_count": 31
        }
      ]
    },
    {
      "cell_type": "markdown",
      "metadata": {
        "id": "F5v8WTQHq1JQ"
      },
      "source": [
        "####The input to every LSTM layer must be three-dimensional.\n",
        "\n",
        "The three dimensions of this input are:\n",
        "\n",
        "**Samples:** One sequence is one sample. A batch is comprised of one or more samples.\n",
        "\n",
        "**Time Steps:** One time step is one point of observation in the sample.\n",
        "\n",
        "**Features:** One feature is one observation at a time step.\n",
        "\n",
        "This means that the input layer expects a 3D array of data when fitting the model and when making predictions, even if specific dimensions of the array contain a single value, e.g. one sample or one feature."
      ]
    },
    {
      "cell_type": "code",
      "metadata": {
        "id": "5CMY07LUrKy6"
      },
      "source": [
        "#reshape input to be [samples, time steps, features] which is required for LSTM.\n",
        "X_train= X_train.reshape(X_train.shape[0], X_train.shape[1], 1)\n",
        "X_test= X_test.reshape(X_test.shape[0], X_test.shape[1], 1)"
      ],
      "execution_count": null,
      "outputs": []
    },
    {
      "cell_type": "code",
      "metadata": {
        "colab": {
          "base_uri": "https://localhost:8080/"
        },
        "id": "1jpFukjasygR",
        "outputId": "fc207c94-dd06-4dc0-a1d8-d116cacedc2c"
      },
      "source": [
        "X_train.shape, X_test.shape"
      ],
      "execution_count": null,
      "outputs": [
        {
          "output_type": "execute_result",
          "data": {
            "text/plain": [
              "((716, 100, 1), (340, 100, 1))"
            ]
          },
          "metadata": {},
          "execution_count": 33
        }
      ]
    },
    {
      "cell_type": "code",
      "metadata": {
        "id": "-kBu7kpjs42K"
      },
      "source": [
        "#Create the Stacked LSTM model"
      ],
      "execution_count": null,
      "outputs": []
    },
    {
      "cell_type": "code",
      "metadata": {
        "id": "8mc_4X8ws-aV"
      },
      "source": [
        "from tensorflow.keras.models import Sequential\n",
        "from tensorflow.keras.layers import Dense\n",
        "from tensorflow.keras.layers import LSTM"
      ],
      "execution_count": null,
      "outputs": []
    },
    {
      "cell_type": "code",
      "metadata": {
        "id": "5mYKEp41tLup"
      },
      "source": [
        "model= Sequential()\n",
        "model.add(LSTM(units=50, return_sequences=True, input_shape=(100, 1))) \n",
        "model.add(LSTM(units=50, return_sequences=True))\n",
        "model.add(LSTM(units=50))\n",
        "model.add(Dense(units=1))\n",
        "model.compile(loss='mse', optimizer='adam', metrics=['accuracy'])\n",
        "#return_sequences: Whether to return the last output. in the output sequence, or the full sequence.\n",
        "#return_sequences is used to access the hidden state output for each input time step."
      ],
      "execution_count": null,
      "outputs": []
    },
    {
      "cell_type": "code",
      "metadata": {
        "colab": {
          "base_uri": "https://localhost:8080/"
        },
        "id": "eMLa4pqbuNqZ",
        "outputId": "26af6778-0005-4f8b-b643-20df1068b642"
      },
      "source": [
        "model.summary()"
      ],
      "execution_count": null,
      "outputs": [
        {
          "output_type": "stream",
          "name": "stdout",
          "text": [
            "Model: \"sequential\"\n",
            "_________________________________________________________________\n",
            " Layer (type)                Output Shape              Param #   \n",
            "=================================================================\n",
            " lstm (LSTM)                 (None, 100, 50)           10400     \n",
            "                                                                 \n",
            " lstm_1 (LSTM)               (None, 100, 50)           20200     \n",
            "                                                                 \n",
            " lstm_2 (LSTM)               (None, 50)                20200     \n",
            "                                                                 \n",
            " dense (Dense)               (None, 1)                 51        \n",
            "                                                                 \n",
            "=================================================================\n",
            "Total params: 50,851\n",
            "Trainable params: 50,851\n",
            "Non-trainable params: 0\n",
            "_________________________________________________________________\n"
          ]
        }
      ]
    },
    {
      "cell_type": "code",
      "metadata": {
        "colab": {
          "base_uri": "https://localhost:8080/"
        },
        "id": "woMMLu0cuPp1",
        "outputId": "a8e1fa06-f796-4df6-e325-327b6a46817d"
      },
      "source": [
        "model.fit(X_train, y_train, batch_size=64, epochs=100, verbose=1, validation_data=(X_test, y_test))"
      ],
      "execution_count": null,
      "outputs": [
        {
          "output_type": "stream",
          "name": "stdout",
          "text": [
            "Epoch 1/100\n",
            "12/12 [==============================] - 11s 212ms/step - loss: 0.0170 - accuracy: 0.0014 - val_loss: 0.0590 - val_accuracy: 0.0029\n",
            "Epoch 2/100\n",
            "12/12 [==============================] - 1s 87ms/step - loss: 0.0036 - accuracy: 0.0014 - val_loss: 0.0039 - val_accuracy: 0.0029\n",
            "Epoch 3/100\n",
            "12/12 [==============================] - 1s 88ms/step - loss: 0.0010 - accuracy: 0.0014 - val_loss: 0.0080 - val_accuracy: 0.0029\n",
            "Epoch 4/100\n",
            "12/12 [==============================] - 1s 88ms/step - loss: 7.3417e-04 - accuracy: 0.0014 - val_loss: 0.0037 - val_accuracy: 0.0029\n",
            "Epoch 5/100\n",
            "12/12 [==============================] - 1s 88ms/step - loss: 6.3731e-04 - accuracy: 0.0014 - val_loss: 0.0036 - val_accuracy: 0.0029\n",
            "Epoch 6/100\n",
            "12/12 [==============================] - 1s 88ms/step - loss: 5.9096e-04 - accuracy: 0.0014 - val_loss: 0.0036 - val_accuracy: 0.0029\n",
            "Epoch 7/100\n",
            "12/12 [==============================] - 1s 86ms/step - loss: 6.0032e-04 - accuracy: 0.0014 - val_loss: 0.0035 - val_accuracy: 0.0029\n",
            "Epoch 8/100\n",
            "12/12 [==============================] - 1s 87ms/step - loss: 5.8320e-04 - accuracy: 0.0014 - val_loss: 0.0035 - val_accuracy: 0.0029\n",
            "Epoch 9/100\n",
            "12/12 [==============================] - 1s 87ms/step - loss: 5.6894e-04 - accuracy: 0.0014 - val_loss: 0.0036 - val_accuracy: 0.0029\n",
            "Epoch 10/100\n",
            "12/12 [==============================] - 1s 87ms/step - loss: 6.0414e-04 - accuracy: 0.0014 - val_loss: 0.0034 - val_accuracy: 0.0029\n",
            "Epoch 11/100\n",
            "12/12 [==============================] - 1s 88ms/step - loss: 5.7778e-04 - accuracy: 0.0014 - val_loss: 0.0033 - val_accuracy: 0.0029\n",
            "Epoch 12/100\n",
            "12/12 [==============================] - 1s 88ms/step - loss: 5.7193e-04 - accuracy: 0.0014 - val_loss: 0.0033 - val_accuracy: 0.0029\n",
            "Epoch 13/100\n",
            "12/12 [==============================] - 1s 87ms/step - loss: 5.3539e-04 - accuracy: 0.0014 - val_loss: 0.0031 - val_accuracy: 0.0029\n",
            "Epoch 14/100\n",
            "12/12 [==============================] - 1s 87ms/step - loss: 5.3019e-04 - accuracy: 0.0014 - val_loss: 0.0031 - val_accuracy: 0.0029\n",
            "Epoch 15/100\n",
            "12/12 [==============================] - 1s 85ms/step - loss: 5.2860e-04 - accuracy: 0.0014 - val_loss: 0.0030 - val_accuracy: 0.0029\n",
            "Epoch 16/100\n",
            "12/12 [==============================] - 1s 89ms/step - loss: 5.0737e-04 - accuracy: 0.0014 - val_loss: 0.0030 - val_accuracy: 0.0029\n",
            "Epoch 17/100\n",
            "12/12 [==============================] - 1s 87ms/step - loss: 5.4816e-04 - accuracy: 0.0014 - val_loss: 0.0028 - val_accuracy: 0.0029\n",
            "Epoch 18/100\n",
            "12/12 [==============================] - 1s 87ms/step - loss: 5.6200e-04 - accuracy: 0.0014 - val_loss: 0.0029 - val_accuracy: 0.0029\n",
            "Epoch 19/100\n",
            "12/12 [==============================] - 1s 87ms/step - loss: 5.0709e-04 - accuracy: 0.0014 - val_loss: 0.0026 - val_accuracy: 0.0029\n",
            "Epoch 20/100\n",
            "12/12 [==============================] - 1s 88ms/step - loss: 5.0052e-04 - accuracy: 0.0014 - val_loss: 0.0028 - val_accuracy: 0.0029\n",
            "Epoch 21/100\n",
            "12/12 [==============================] - 1s 89ms/step - loss: 4.8228e-04 - accuracy: 0.0014 - val_loss: 0.0025 - val_accuracy: 0.0029\n",
            "Epoch 22/100\n",
            "12/12 [==============================] - 1s 89ms/step - loss: 4.6675e-04 - accuracy: 0.0014 - val_loss: 0.0031 - val_accuracy: 0.0029\n",
            "Epoch 23/100\n",
            "12/12 [==============================] - 1s 87ms/step - loss: 5.1286e-04 - accuracy: 0.0014 - val_loss: 0.0023 - val_accuracy: 0.0029\n",
            "Epoch 24/100\n",
            "12/12 [==============================] - 1s 88ms/step - loss: 4.6073e-04 - accuracy: 0.0014 - val_loss: 0.0022 - val_accuracy: 0.0029\n",
            "Epoch 25/100\n",
            "12/12 [==============================] - 1s 87ms/step - loss: 4.3399e-04 - accuracy: 0.0014 - val_loss: 0.0022 - val_accuracy: 0.0029\n",
            "Epoch 26/100\n",
            "12/12 [==============================] - 1s 87ms/step - loss: 4.6677e-04 - accuracy: 0.0014 - val_loss: 0.0021 - val_accuracy: 0.0029\n",
            "Epoch 27/100\n",
            "12/12 [==============================] - 1s 88ms/step - loss: 4.3196e-04 - accuracy: 0.0014 - val_loss: 0.0022 - val_accuracy: 0.0029\n",
            "Epoch 28/100\n",
            "12/12 [==============================] - 1s 87ms/step - loss: 4.3029e-04 - accuracy: 0.0014 - val_loss: 0.0020 - val_accuracy: 0.0029\n",
            "Epoch 29/100\n",
            "12/12 [==============================] - 1s 88ms/step - loss: 4.1238e-04 - accuracy: 0.0014 - val_loss: 0.0020 - val_accuracy: 0.0029\n",
            "Epoch 30/100\n",
            "12/12 [==============================] - 1s 88ms/step - loss: 4.4910e-04 - accuracy: 0.0014 - val_loss: 0.0021 - val_accuracy: 0.0029\n",
            "Epoch 31/100\n",
            "12/12 [==============================] - 1s 102ms/step - loss: 4.0899e-04 - accuracy: 0.0014 - val_loss: 0.0018 - val_accuracy: 0.0029\n",
            "Epoch 32/100\n",
            "12/12 [==============================] - 1s 89ms/step - loss: 3.8207e-04 - accuracy: 0.0014 - val_loss: 0.0018 - val_accuracy: 0.0029\n",
            "Epoch 33/100\n",
            "12/12 [==============================] - 1s 88ms/step - loss: 3.9388e-04 - accuracy: 0.0014 - val_loss: 0.0021 - val_accuracy: 0.0029\n",
            "Epoch 34/100\n",
            "12/12 [==============================] - 1s 89ms/step - loss: 3.8154e-04 - accuracy: 0.0014 - val_loss: 0.0016 - val_accuracy: 0.0029\n",
            "Epoch 35/100\n",
            "12/12 [==============================] - 1s 91ms/step - loss: 3.6556e-04 - accuracy: 0.0014 - val_loss: 0.0017 - val_accuracy: 0.0029\n",
            "Epoch 36/100\n",
            "12/12 [==============================] - 1s 88ms/step - loss: 3.6550e-04 - accuracy: 0.0014 - val_loss: 0.0018 - val_accuracy: 0.0029\n",
            "Epoch 37/100\n",
            "12/12 [==============================] - 1s 88ms/step - loss: 3.6873e-04 - accuracy: 0.0014 - val_loss: 0.0016 - val_accuracy: 0.0029\n",
            "Epoch 38/100\n",
            "12/12 [==============================] - 1s 89ms/step - loss: 4.0021e-04 - accuracy: 0.0014 - val_loss: 0.0017 - val_accuracy: 0.0029\n",
            "Epoch 39/100\n",
            "12/12 [==============================] - 1s 86ms/step - loss: 3.5928e-04 - accuracy: 0.0014 - val_loss: 0.0015 - val_accuracy: 0.0029\n",
            "Epoch 40/100\n",
            "12/12 [==============================] - 1s 87ms/step - loss: 3.3054e-04 - accuracy: 0.0014 - val_loss: 0.0019 - val_accuracy: 0.0029\n",
            "Epoch 41/100\n",
            "12/12 [==============================] - 1s 88ms/step - loss: 3.5296e-04 - accuracy: 0.0014 - val_loss: 0.0014 - val_accuracy: 0.0029\n",
            "Epoch 42/100\n",
            "12/12 [==============================] - 1s 88ms/step - loss: 3.3293e-04 - accuracy: 0.0014 - val_loss: 0.0014 - val_accuracy: 0.0029\n",
            "Epoch 43/100\n",
            "12/12 [==============================] - 1s 85ms/step - loss: 3.4449e-04 - accuracy: 0.0014 - val_loss: 0.0014 - val_accuracy: 0.0029\n",
            "Epoch 44/100\n",
            "12/12 [==============================] - 1s 86ms/step - loss: 3.5135e-04 - accuracy: 0.0014 - val_loss: 0.0014 - val_accuracy: 0.0029\n",
            "Epoch 45/100\n",
            "12/12 [==============================] - 1s 86ms/step - loss: 3.1022e-04 - accuracy: 0.0014 - val_loss: 0.0014 - val_accuracy: 0.0029\n",
            "Epoch 46/100\n",
            "12/12 [==============================] - 1s 86ms/step - loss: 3.4674e-04 - accuracy: 0.0014 - val_loss: 0.0014 - val_accuracy: 0.0029\n",
            "Epoch 47/100\n",
            "12/12 [==============================] - 1s 88ms/step - loss: 3.1331e-04 - accuracy: 0.0014 - val_loss: 0.0014 - val_accuracy: 0.0029\n",
            "Epoch 48/100\n",
            "12/12 [==============================] - 1s 87ms/step - loss: 3.2425e-04 - accuracy: 0.0014 - val_loss: 0.0031 - val_accuracy: 0.0029\n",
            "Epoch 49/100\n",
            "12/12 [==============================] - 1s 88ms/step - loss: 4.4586e-04 - accuracy: 0.0014 - val_loss: 0.0014 - val_accuracy: 0.0029\n",
            "Epoch 50/100\n",
            "12/12 [==============================] - 1s 88ms/step - loss: 3.2714e-04 - accuracy: 0.0014 - val_loss: 0.0015 - val_accuracy: 0.0029\n",
            "Epoch 51/100\n",
            "12/12 [==============================] - 1s 85ms/step - loss: 3.2051e-04 - accuracy: 0.0014 - val_loss: 0.0021 - val_accuracy: 0.0029\n",
            "Epoch 52/100\n",
            "12/12 [==============================] - 1s 85ms/step - loss: 2.9979e-04 - accuracy: 0.0014 - val_loss: 0.0014 - val_accuracy: 0.0029\n",
            "Epoch 53/100\n",
            "12/12 [==============================] - 1s 88ms/step - loss: 2.8798e-04 - accuracy: 0.0014 - val_loss: 0.0020 - val_accuracy: 0.0029\n",
            "Epoch 54/100\n",
            "12/12 [==============================] - 1s 85ms/step - loss: 3.8630e-04 - accuracy: 0.0014 - val_loss: 0.0015 - val_accuracy: 0.0029\n",
            "Epoch 55/100\n",
            "12/12 [==============================] - 1s 87ms/step - loss: 3.1408e-04 - accuracy: 0.0014 - val_loss: 0.0020 - val_accuracy: 0.0029\n",
            "Epoch 56/100\n",
            "12/12 [==============================] - 1s 87ms/step - loss: 2.9475e-04 - accuracy: 0.0014 - val_loss: 0.0013 - val_accuracy: 0.0029\n",
            "Epoch 57/100\n",
            "12/12 [==============================] - 1s 86ms/step - loss: 3.1205e-04 - accuracy: 0.0014 - val_loss: 0.0018 - val_accuracy: 0.0029\n",
            "Epoch 58/100\n",
            "12/12 [==============================] - 1s 87ms/step - loss: 2.7923e-04 - accuracy: 0.0014 - val_loss: 0.0013 - val_accuracy: 0.0029\n",
            "Epoch 59/100\n",
            "12/12 [==============================] - 1s 85ms/step - loss: 2.6116e-04 - accuracy: 0.0014 - val_loss: 0.0013 - val_accuracy: 0.0029\n",
            "Epoch 60/100\n",
            "12/12 [==============================] - 1s 88ms/step - loss: 2.6041e-04 - accuracy: 0.0014 - val_loss: 0.0013 - val_accuracy: 0.0029\n",
            "Epoch 61/100\n",
            "12/12 [==============================] - 1s 85ms/step - loss: 2.7583e-04 - accuracy: 0.0014 - val_loss: 0.0014 - val_accuracy: 0.0029\n",
            "Epoch 62/100\n",
            "12/12 [==============================] - 1s 87ms/step - loss: 2.4938e-04 - accuracy: 0.0014 - val_loss: 0.0014 - val_accuracy: 0.0029\n",
            "Epoch 63/100\n",
            "12/12 [==============================] - 1s 87ms/step - loss: 2.5617e-04 - accuracy: 0.0014 - val_loss: 0.0014 - val_accuracy: 0.0029\n",
            "Epoch 64/100\n",
            "12/12 [==============================] - 1s 87ms/step - loss: 2.7016e-04 - accuracy: 0.0014 - val_loss: 0.0012 - val_accuracy: 0.0029\n",
            "Epoch 65/100\n",
            "12/12 [==============================] - 1s 87ms/step - loss: 2.4281e-04 - accuracy: 0.0014 - val_loss: 0.0014 - val_accuracy: 0.0029\n",
            "Epoch 66/100\n",
            "12/12 [==============================] - 1s 86ms/step - loss: 2.4656e-04 - accuracy: 0.0014 - val_loss: 0.0012 - val_accuracy: 0.0029\n",
            "Epoch 67/100\n",
            "12/12 [==============================] - 1s 88ms/step - loss: 2.4835e-04 - accuracy: 0.0014 - val_loss: 0.0012 - val_accuracy: 0.0029\n",
            "Epoch 68/100\n",
            "12/12 [==============================] - 1s 86ms/step - loss: 2.3631e-04 - accuracy: 0.0014 - val_loss: 0.0012 - val_accuracy: 0.0029\n",
            "Epoch 69/100\n",
            "12/12 [==============================] - 1s 88ms/step - loss: 2.2628e-04 - accuracy: 0.0014 - val_loss: 0.0013 - val_accuracy: 0.0029\n",
            "Epoch 70/100\n",
            "12/12 [==============================] - 1s 87ms/step - loss: 2.2295e-04 - accuracy: 0.0014 - val_loss: 0.0013 - val_accuracy: 0.0029\n",
            "Epoch 71/100\n",
            "12/12 [==============================] - 1s 86ms/step - loss: 2.2268e-04 - accuracy: 0.0014 - val_loss: 0.0012 - val_accuracy: 0.0029\n",
            "Epoch 72/100\n",
            "12/12 [==============================] - 1s 88ms/step - loss: 2.2107e-04 - accuracy: 0.0014 - val_loss: 0.0013 - val_accuracy: 0.0029\n",
            "Epoch 73/100\n",
            "12/12 [==============================] - 1s 85ms/step - loss: 2.2165e-04 - accuracy: 0.0014 - val_loss: 0.0012 - val_accuracy: 0.0029\n",
            "Epoch 74/100\n",
            "12/12 [==============================] - 1s 88ms/step - loss: 2.1591e-04 - accuracy: 0.0014 - val_loss: 0.0017 - val_accuracy: 0.0029\n",
            "Epoch 75/100\n",
            "12/12 [==============================] - 1s 84ms/step - loss: 2.2513e-04 - accuracy: 0.0014 - val_loss: 0.0011 - val_accuracy: 0.0029\n",
            "Epoch 76/100\n",
            "12/12 [==============================] - 1s 88ms/step - loss: 2.0441e-04 - accuracy: 0.0014 - val_loss: 0.0012 - val_accuracy: 0.0029\n",
            "Epoch 77/100\n",
            "12/12 [==============================] - 1s 87ms/step - loss: 2.1713e-04 - accuracy: 0.0014 - val_loss: 0.0011 - val_accuracy: 0.0029\n",
            "Epoch 78/100\n",
            "12/12 [==============================] - 1s 86ms/step - loss: 2.3181e-04 - accuracy: 0.0014 - val_loss: 0.0012 - val_accuracy: 0.0029\n",
            "Epoch 79/100\n",
            "12/12 [==============================] - 1s 87ms/step - loss: 1.9675e-04 - accuracy: 0.0014 - val_loss: 0.0011 - val_accuracy: 0.0029\n",
            "Epoch 80/100\n",
            "12/12 [==============================] - 1s 89ms/step - loss: 2.0176e-04 - accuracy: 0.0014 - val_loss: 0.0011 - val_accuracy: 0.0029\n",
            "Epoch 81/100\n",
            "12/12 [==============================] - 1s 87ms/step - loss: 2.0480e-04 - accuracy: 0.0014 - val_loss: 0.0015 - val_accuracy: 0.0029\n",
            "Epoch 82/100\n",
            "12/12 [==============================] - 1s 87ms/step - loss: 2.6389e-04 - accuracy: 0.0014 - val_loss: 0.0011 - val_accuracy: 0.0029\n",
            "Epoch 83/100\n",
            "12/12 [==============================] - 1s 89ms/step - loss: 2.3688e-04 - accuracy: 0.0014 - val_loss: 0.0011 - val_accuracy: 0.0029\n",
            "Epoch 84/100\n",
            "12/12 [==============================] - 1s 88ms/step - loss: 1.8436e-04 - accuracy: 0.0014 - val_loss: 0.0010 - val_accuracy: 0.0029\n",
            "Epoch 85/100\n",
            "12/12 [==============================] - 1s 87ms/step - loss: 1.9629e-04 - accuracy: 0.0014 - val_loss: 9.7005e-04 - val_accuracy: 0.0029\n",
            "Epoch 86/100\n",
            "12/12 [==============================] - 1s 86ms/step - loss: 1.7436e-04 - accuracy: 0.0014 - val_loss: 0.0010 - val_accuracy: 0.0029\n",
            "Epoch 87/100\n",
            "12/12 [==============================] - 1s 87ms/step - loss: 1.8427e-04 - accuracy: 0.0014 - val_loss: 0.0011 - val_accuracy: 0.0029\n",
            "Epoch 88/100\n",
            "12/12 [==============================] - 1s 91ms/step - loss: 1.7101e-04 - accuracy: 0.0014 - val_loss: 0.0013 - val_accuracy: 0.0029\n",
            "Epoch 89/100\n",
            "12/12 [==============================] - 1s 90ms/step - loss: 2.1877e-04 - accuracy: 0.0014 - val_loss: 9.3358e-04 - val_accuracy: 0.0029\n",
            "Epoch 90/100\n",
            "12/12 [==============================] - 1s 89ms/step - loss: 1.6915e-04 - accuracy: 0.0014 - val_loss: 9.2576e-04 - val_accuracy: 0.0029\n",
            "Epoch 91/100\n",
            "12/12 [==============================] - 1s 89ms/step - loss: 1.6288e-04 - accuracy: 0.0014 - val_loss: 9.2461e-04 - val_accuracy: 0.0029\n",
            "Epoch 92/100\n",
            "12/12 [==============================] - 1s 89ms/step - loss: 1.5639e-04 - accuracy: 0.0014 - val_loss: 0.0010 - val_accuracy: 0.0029\n",
            "Epoch 93/100\n",
            "12/12 [==============================] - 1s 88ms/step - loss: 1.5705e-04 - accuracy: 0.0014 - val_loss: 0.0012 - val_accuracy: 0.0029\n",
            "Epoch 94/100\n",
            "12/12 [==============================] - 1s 87ms/step - loss: 1.7601e-04 - accuracy: 0.0014 - val_loss: 0.0022 - val_accuracy: 0.0029\n",
            "Epoch 95/100\n",
            "12/12 [==============================] - 1s 88ms/step - loss: 2.1677e-04 - accuracy: 0.0014 - val_loss: 9.0242e-04 - val_accuracy: 0.0029\n",
            "Epoch 96/100\n",
            "12/12 [==============================] - 1s 88ms/step - loss: 1.5421e-04 - accuracy: 0.0014 - val_loss: 0.0010 - val_accuracy: 0.0029\n",
            "Epoch 97/100\n",
            "12/12 [==============================] - 1s 89ms/step - loss: 1.7460e-04 - accuracy: 0.0014 - val_loss: 9.3464e-04 - val_accuracy: 0.0029\n",
            "Epoch 98/100\n",
            "12/12 [==============================] - 1s 89ms/step - loss: 1.6086e-04 - accuracy: 0.0014 - val_loss: 8.7075e-04 - val_accuracy: 0.0029\n",
            "Epoch 99/100\n",
            "12/12 [==============================] - 1s 88ms/step - loss: 1.5312e-04 - accuracy: 0.0014 - val_loss: 8.7204e-04 - val_accuracy: 0.0029\n",
            "Epoch 100/100\n",
            "12/12 [==============================] - 1s 90ms/step - loss: 1.6783e-04 - accuracy: 0.0014 - val_loss: 0.0013 - val_accuracy: 0.0029\n"
          ]
        },
        {
          "output_type": "execute_result",
          "data": {
            "text/plain": [
              "<keras.callbacks.History at 0x7fbe0030d390>"
            ]
          },
          "metadata": {},
          "execution_count": 38
        }
      ]
    },
    {
      "cell_type": "code",
      "metadata": {
        "id": "95yNSaVc4ZLx"
      },
      "source": [
        "model_loss= pd.DataFrame(data=model.history.history)"
      ],
      "execution_count": null,
      "outputs": []
    },
    {
      "cell_type": "code",
      "metadata": {
        "colab": {
          "base_uri": "https://localhost:8080/",
          "height": 206
        },
        "id": "5oyMF3nC5ZuC",
        "outputId": "1e9840cd-7270-43ef-db6a-9ad07334efd7"
      },
      "source": [
        "model_loss.head()"
      ],
      "execution_count": null,
      "outputs": [
        {
          "output_type": "execute_result",
          "data": {
            "text/html": [
              "<div>\n",
              "<style scoped>\n",
              "    .dataframe tbody tr th:only-of-type {\n",
              "        vertical-align: middle;\n",
              "    }\n",
              "\n",
              "    .dataframe tbody tr th {\n",
              "        vertical-align: top;\n",
              "    }\n",
              "\n",
              "    .dataframe thead th {\n",
              "        text-align: right;\n",
              "    }\n",
              "</style>\n",
              "<table border=\"1\" class=\"dataframe\">\n",
              "  <thead>\n",
              "    <tr style=\"text-align: right;\">\n",
              "      <th></th>\n",
              "      <th>loss</th>\n",
              "      <th>accuracy</th>\n",
              "      <th>val_loss</th>\n",
              "      <th>val_accuracy</th>\n",
              "    </tr>\n",
              "  </thead>\n",
              "  <tbody>\n",
              "    <tr>\n",
              "      <th>0</th>\n",
              "      <td>0.017049</td>\n",
              "      <td>0.001397</td>\n",
              "      <td>0.059049</td>\n",
              "      <td>0.002941</td>\n",
              "    </tr>\n",
              "    <tr>\n",
              "      <th>1</th>\n",
              "      <td>0.003625</td>\n",
              "      <td>0.001397</td>\n",
              "      <td>0.003927</td>\n",
              "      <td>0.002941</td>\n",
              "    </tr>\n",
              "    <tr>\n",
              "      <th>2</th>\n",
              "      <td>0.001024</td>\n",
              "      <td>0.001397</td>\n",
              "      <td>0.008029</td>\n",
              "      <td>0.002941</td>\n",
              "    </tr>\n",
              "    <tr>\n",
              "      <th>3</th>\n",
              "      <td>0.000734</td>\n",
              "      <td>0.001397</td>\n",
              "      <td>0.003729</td>\n",
              "      <td>0.002941</td>\n",
              "    </tr>\n",
              "    <tr>\n",
              "      <th>4</th>\n",
              "      <td>0.000637</td>\n",
              "      <td>0.001397</td>\n",
              "      <td>0.003649</td>\n",
              "      <td>0.002941</td>\n",
              "    </tr>\n",
              "  </tbody>\n",
              "</table>\n",
              "</div>"
            ],
            "text/plain": [
              "       loss  accuracy  val_loss  val_accuracy\n",
              "0  0.017049  0.001397  0.059049      0.002941\n",
              "1  0.003625  0.001397  0.003927      0.002941\n",
              "2  0.001024  0.001397  0.008029      0.002941\n",
              "3  0.000734  0.001397  0.003729      0.002941\n",
              "4  0.000637  0.001397  0.003649      0.002941"
            ]
          },
          "metadata": {},
          "execution_count": 40
        }
      ]
    },
    {
      "cell_type": "code",
      "metadata": {
        "id": "TzV5ooZy7GKP"
      },
      "source": [
        "#Lets Do the prediction and check performance metrics\n",
        "train_predict=model.predict(X_train)\n",
        "test_predict=model.predict(X_test)"
      ],
      "execution_count": null,
      "outputs": []
    },
    {
      "cell_type": "code",
      "metadata": {
        "id": "U3OKq_-F7K9H"
      },
      "source": [
        "#Transformback to original form\n",
        "train_predict=scaler.inverse_transform(train_predict)\n",
        "test_predict=scaler.inverse_transform(test_predict)"
      ],
      "execution_count": null,
      "outputs": []
    },
    {
      "cell_type": "code",
      "metadata": {
        "id": "oD6ylO517NZt"
      },
      "source": [
        "#Calculate RMSE performance metrics\n",
        "import math\n",
        "from sklearn.metrics import mean_squared_error"
      ],
      "execution_count": null,
      "outputs": []
    },
    {
      "cell_type": "code",
      "metadata": {
        "colab": {
          "base_uri": "https://localhost:8080/"
        },
        "id": "Bc79NV2v7QU-",
        "outputId": "68fc7e54-7d44-48f3-d00c-8b25c993ef69"
      },
      "source": [
        "#Train Data RMSE\n",
        "math.sqrt(mean_squared_error(y_train,train_predict))"
      ],
      "execution_count": null,
      "outputs": [
        {
          "output_type": "execute_result",
          "data": {
            "text/plain": [
              "140.48475355703397"
            ]
          },
          "metadata": {},
          "execution_count": 44
        }
      ]
    },
    {
      "cell_type": "code",
      "metadata": {
        "colab": {
          "base_uri": "https://localhost:8080/"
        },
        "id": "mHxRXWdW7cLa",
        "outputId": "1fd43c6f-5b87-4031-b88c-c786ae579937"
      },
      "source": [
        "#Test Data RMSE\n",
        "math.sqrt(mean_squared_error(y_test,test_predict))"
      ],
      "execution_count": null,
      "outputs": [
        {
          "output_type": "execute_result",
          "data": {
            "text/plain": [
              "232.9946334624023"
            ]
          },
          "metadata": {},
          "execution_count": 45
        }
      ]
    },
    {
      "cell_type": "code",
      "metadata": {
        "colab": {
          "base_uri": "https://localhost:8080/",
          "height": 265
        },
        "id": "1u6Vj2aF7e3n",
        "outputId": "5abb0ac6-cf0b-4218-aa24-9b1df27e2667"
      },
      "source": [
        "#Plotting \n",
        "# shift train predictions for plotting\n",
        "look_back=100\n",
        "trainPredictPlot = np.empty_like(df1)\n",
        "trainPredictPlot[:, :] = np.nan\n",
        "trainPredictPlot[look_back:len(train_predict)+look_back, :] = train_predict\n",
        "# shift test predictions for plotting\n",
        "testPredictPlot = np.empty_like(df1)\n",
        "testPredictPlot[:, :] = np.nan\n",
        "testPredictPlot[len(train_predict)+(look_back*2)+1:len(df1)-1, :] = test_predict\n",
        "# plot baseline and predictions\n",
        "plt.plot(scaler.inverse_transform(df1)) #in blue color\n",
        "plt.plot(trainPredictPlot) #predicted training data output in orange color\n",
        "plt.plot(testPredictPlot) #predicted testing data output in green color\n",
        "plt.show()"
      ],
      "execution_count": null,
      "outputs": [
        {
          "output_type": "display_data",
          "data": {
            "image/png": "[encoded data removed]",
            "text/plain": [
              "<Figure size 432x288 with 1 Axes>"
            ]
          },
          "metadata": {
            "needs_background": "light"
          }
        }
      ]
    },
    {
      "cell_type": "code",
      "metadata": {
        "id": "D1ZKZWu37qJn"
      },
      "source": [
        "#predicting future 30 days stock price"
      ],
      "execution_count": null,
      "outputs": []
    },
    {
      "cell_type": "code",
      "metadata": {
        "colab": {
          "base_uri": "https://localhost:8080/"
        },
        "id": "RlIka1g9-bzM",
        "outputId": "33c29f30-7a7d-42c9-a068-dce1e9818f6f"
      },
      "source": [
        "len(test_data)"
      ],
      "execution_count": null,
      "outputs": [
        {
          "output_type": "execute_result",
          "data": {
            "text/plain": [
              "441"
            ]
          },
          "metadata": {},
          "execution_count": 48
        }
      ]
    },
    {
      "cell_type": "code",
      "metadata": {
        "id": "51pviEt2-kJA"
      },
      "source": [
        "#we are trying to predict the 442th test data (new test data) stock price on the basis of 341-441 test data (taking timesteps= 100)."
      ],
      "execution_count": null,
      "outputs": []
    },
    {
      "cell_type": "code",
      "metadata": {
        "colab": {
          "base_uri": "https://localhost:8080/"
        },
        "id": "pxstVM19-_7U",
        "outputId": "09962093-2fd2-4875-860e-1792f78851f5"
      },
      "source": [
        "x_input= test_data[341:].reshape(1,-1)\n",
        "x_input.shape"
      ],
      "execution_count": null,
      "outputs": [
        {
          "output_type": "execute_result",
          "data": {
            "text/plain": [
              "(1, 100)"
            ]
          },
          "metadata": {},
          "execution_count": 50
        }
      ]
    },
    {
      "cell_type": "code",
      "metadata": {
        "id": "EeKhgZTY_fUv"
      },
      "source": [
        "#converting input into a list\n",
        "temp_input= list(x_input)"
      ],
      "execution_count": null,
      "outputs": []
    },
    {
      "cell_type": "code",
      "metadata": {
        "colab": {
          "base_uri": "https://localhost:8080/"
        },
        "id": "F5ZRlxjT_zjA",
        "outputId": "e92661fb-b024-498d-a90a-d064a23473a9"
      },
      "source": [
        "temp_input"
      ],
      "execution_count": null,
      "outputs": [
        {
          "output_type": "execute_result",
          "data": {
            "text/plain": [
              "[array([0.85835515, 0.8866419 , 0.87431394, 0.88431985, 0.87836697,\n",
              "        0.8986321 , 0.92582116, 0.92877649, 0.95676771, 0.93869797,\n",
              "        0.93304061, 0.94950604, 0.96424048, 0.95512117, 0.95989192,\n",
              "        0.96635143, 0.96246728, 0.92295027, 0.9598497 , 0.98792536,\n",
              "        0.98594106, 0.92531453, 0.92172591, 0.96474711, 0.97572406,\n",
              "        0.99159841, 0.96972895, 0.97614625, 0.96795575, 1.        ,\n",
              "        0.99016297, 0.99050072, 0.96538039, 0.98488559, 0.97086887,\n",
              "        0.94026007, 0.87748037, 0.83483915, 0.85413324, 0.77336823,\n",
              "        0.77269273, 0.88014017, 0.84007431, 0.89673225, 0.85527316,\n",
              "        0.83884995, 0.74233725, 0.82327113, 0.78143207, 0.6665963 ,\n",
              "        0.7921557 , 0.64118044, 0.68614371, 0.66001013, 0.65203074,\n",
              "        0.58642236, 0.56586169, 0.66089673, 0.65515494, 0.70970193,\n",
              "        0.66452757, 0.69437642, 0.69218104, 0.63569197, 0.65266402,\n",
              "        0.63780292, 0.7267162 , 0.71388162, 0.74191506, 0.75002111,\n",
              "        0.77222832, 0.83049059, 0.8194292 , 0.8289707 , 0.8125475 ,\n",
              "        0.78776492, 0.75162543, 0.78426074, 0.77974331, 0.81326522,\n",
              "        0.8141096 , 0.79473106, 0.83336148, 0.85898843, 0.83901883,\n",
              "        0.85628641, 0.87486279, 0.88782403, 0.90095415, 0.92793211,\n",
              "        0.948535  , 0.93333615, 0.91746179, 0.92544119, 0.91771511,\n",
              "        0.9483239 , 0.94064004, 0.96635143, 0.9563033 , 0.96491598])]"
            ]
          },
          "metadata": {},
          "execution_count": 52
        }
      ]
    },
    {
      "cell_type": "code",
      "metadata": {
        "id": "ych7VHWe_0ab"
      },
      "source": [
        "#converting array into a list\n",
        "temp_input= temp_input[0].tolist()"
      ],
      "execution_count": null,
      "outputs": []
    },
    {
      "cell_type": "code",
      "metadata": {
        "colab": {
          "base_uri": "https://localhost:8080/"
        },
        "id": "njN5WHey_8YM",
        "outputId": "66100135-2677-4b24-91f8-ae605a541a85"
      },
      "source": [
        "temp_input"
      ],
      "execution_count": null,
      "outputs": [
        {
          "output_type": "execute_result",
          "data": {
            "text/plain": [
              "[0.8583551465000423,\n",
              " 0.8866418981676942,\n",
              " 0.8743139407244789,\n",
              " 0.8843198513890065,\n",
              " 0.8783669678290975,\n",
              " 0.8986321033521913,\n",
              " 0.925821160179009,\n",
              " 0.9287764924427933,\n",
              " 0.9567677108840666,\n",
              " 0.9386979650426415,\n",
              " 0.933040614709111,\n",
              " 0.9495060373216249,\n",
              " 0.9642404796082076,\n",
              " 0.9551211686228154,\n",
              " 0.9598919192772104,\n",
              " 0.9663514312251966,\n",
              " 0.9624672802499368,\n",
              " 0.9229502659799038,\n",
              " 0.9598497002448705,\n",
              " 0.9879253567508233,\n",
              " 0.985941062230854,\n",
              " 0.9253145317909315,\n",
              " 0.9217259140420504,\n",
              " 0.964747107996285,\n",
              " 0.9757240564046274,\n",
              " 0.9915984125643842,\n",
              " 0.9697289538123788,\n",
              " 0.9761462467280253,\n",
              " 0.9679557544541082,\n",
              " 1.0000000000000002,\n",
              " 0.9901629654648318,\n",
              " 0.9905007177235499,\n",
              " 0.9653803934813816,\n",
              " 0.9848855864223593,\n",
              " 0.9708688676855528,\n",
              " 0.9402600692392133,\n",
              " 0.8774803681499621,\n",
              " 0.8348391454867856,\n",
              " 0.8541332432660644,\n",
              " 0.7733682344000676,\n",
              " 0.7726927298826314,\n",
              " 0.8801401671873683,\n",
              " 0.8400743054969182,\n",
              " 0.8967322468969012,\n",
              " 0.8552731571392387,\n",
              " 0.8388499535590646,\n",
              " 0.7423372456303303,\n",
              " 0.8232711306256861,\n",
              " 0.7814320695769654,\n",
              " 0.6665963016127672,\n",
              " 0.7921557037912694,\n",
              " 0.6411804441442204,\n",
              " 0.6861437135860848,\n",
              " 0.6600101325677616,\n",
              " 0.6520307354555435,\n",
              " 0.5864223591995272,\n",
              " 0.5658616904500551,\n",
              " 0.660896732246897,\n",
              " 0.6551549438486872,\n",
              " 0.7097019336316812,\n",
              " 0.664527569028118,\n",
              " 0.6943764248923416,\n",
              " 0.692181035210673,\n",
              " 0.6356919699400492,\n",
              " 0.6526640209406402,\n",
              " 0.637802921557038,\n",
              " 0.7267162036646122,\n",
              " 0.7138816178333194,\n",
              " 0.7419150553069325,\n",
              " 0.7500211095161702,\n",
              " 0.7722283205268936,\n",
              " 0.8304905851557884,\n",
              " 0.8194291986827664,\n",
              " 0.8289706999915563,\n",
              " 0.8125474964113824,\n",
              " 0.7877649244279323,\n",
              " 0.7516254327450818,\n",
              " 0.7842607447437306,\n",
              " 0.7797433082833742,\n",
              " 0.8132652199611587,\n",
              " 0.8141096006079542,\n",
              " 0.7947310647639958,\n",
              " 0.8333614793548934,\n",
              " 0.8589884319851391,\n",
              " 0.8390188296884238,\n",
              " 0.8562864139153934,\n",
              " 0.8748627881448958,\n",
              " 0.887824031073208,\n",
              " 0.9009541501308793,\n",
              " 0.9279321117959978,\n",
              " 0.9485349995778098,\n",
              " 0.9333361479354896,\n",
              " 0.9174617917757326,\n",
              " 0.925441188887951,\n",
              " 0.9177151059697712,\n",
              " 0.9483239044161109,\n",
              " 0.9406400405302711,\n",
              " 0.9663514312251966,\n",
              " 0.9563033015283293,\n",
              " 0.964915984125644]"
            ]
          },
          "metadata": {},
          "execution_count": 54
        }
      ]
    },
    {
      "cell_type": "code",
      "metadata": {
        "colab": {
          "base_uri": "https://localhost:8080/"
        },
        "id": "qF11clqv_9kV",
        "outputId": "01034a45-0e6d-4169-bf6f-535cfa7c5e01"
      },
      "source": [
        "# demonstrate prediction for next 30 days\n",
        "\n",
        "lst_output=[]\n",
        "n_steps=100\n",
        "i=0\n",
        "while(i<30):\n",
        "    \n",
        "    if(len(temp_input)>100):\n",
        "        #print(temp_input)\n",
        "        x_input=np.array(temp_input[1:])\n",
        "        print(\"{} day input {}\".format(i,x_input))\n",
        "        x_input=x_input.reshape(1,-1)\n",
        "        x_input = x_input.reshape((1, n_steps, 1))\n",
        "        #print(x_input)\n",
        "        yhat = model.predict(x_input, verbose=0)\n",
        "        print(\"{} day output {}\".format(i,yhat))\n",
        "        temp_input.extend(yhat[0].tolist())\n",
        "        temp_input=temp_input[1:]\n",
        "        #print(temp_input)\n",
        "        lst_output.extend(yhat.tolist())\n",
        "        i=i+1\n",
        "    else:\n",
        "        x_input = x_input.reshape((1, n_steps,1))\n",
        "        yhat = model.predict(x_input, verbose=0)\n",
        "        print(yhat[0])\n",
        "        temp_input.extend(yhat[0].tolist())\n",
        "        print(len(temp_input))\n",
        "        lst_output.extend(yhat.tolist())\n",
        "        i=i+1\n",
        "    \n",
        "\n",
        "print('Future 30 days stock prices are: ', lst_output)"
      ],
      "execution_count": null,
      "outputs": [
        {
          "output_type": "stream",
          "name": "stdout",
          "text": [
            "0 day input [0.99016297 0.99050072 0.96538039 0.98488559 0.97086887 0.94026007\n",
            " 0.87748037 0.83483915 0.85413324 0.77336823 0.77269273 0.88014017\n",
            " 0.84007431 0.89673225 0.85527316 0.83884995 0.74233725 0.82327113\n",
            " 0.78143207 0.6665963  0.7921557  0.64118044 0.68614371 0.66001013\n",
            " 0.65203074 0.58642236 0.56586169 0.66089673 0.65515494 0.70970193\n",
            " 0.66452757 0.69437642 0.69218104 0.63569197 0.65266402 0.63780292\n",
            " 0.7267162  0.71388162 0.74191506 0.75002111 0.77222832 0.83049059\n",
            " 0.8194292  0.8289707  0.8125475  0.78776492 0.75162543 0.78426074\n",
            " 0.77974331 0.81326522 0.8141096  0.79473106 0.83336148 0.85898843\n",
            " 0.83901883 0.85628641 0.87486279 0.88782403 0.90095415 0.92793211\n",
            " 0.948535   0.93333615 0.91746179 0.92544119 0.91771511 0.9483239\n",
            " 0.94064004 0.96635143 0.9563033  0.96491598 0.92923492 0.91754711\n",
            " 0.89622027 0.87225574 0.84935719 0.82922149 0.81262857 0.79982805\n",
            " 0.79062867 0.78447461 0.78057206 0.77803862 0.77603769 0.77388287\n",
            " 0.77110165 0.76745999 0.76295042 0.75775129 0.75216883 0.74656898\n",
            " 0.74131477 0.73671097 0.73296833 0.73018271 0.72833556 0.72730821\n",
            " 0.72690701 0.72689521 0.72702408 0.72706354]\n",
            "0 day output [[0.72682416]]\n",
            "1 day input [0.99050072 0.96538039 0.98488559 0.97086887 0.94026007 0.87748037\n",
            " 0.83483915 0.85413324 0.77336823 0.77269273 0.88014017 0.84007431\n",
            " 0.89673225 0.85527316 0.83884995 0.74233725 0.82327113 0.78143207\n",
            " 0.6665963  0.7921557  0.64118044 0.68614371 0.66001013 0.65203074\n",
            " 0.58642236 0.56586169 0.66089673 0.65515494 0.70970193 0.66452757\n",
            " 0.69437642 0.69218104 0.63569197 0.65266402 0.63780292 0.7267162\n",
            " 0.71388162 0.74191506 0.75002111 0.77222832 0.83049059 0.8194292\n",
            " 0.8289707  0.8125475  0.78776492 0.75162543 0.78426074 0.77974331\n",
            " 0.81326522 0.8141096  0.79473106 0.83336148 0.85898843 0.83901883\n",
            " 0.85628641 0.87486279 0.88782403 0.90095415 0.92793211 0.948535\n",
            " 0.93333615 0.91746179 0.92544119 0.91771511 0.9483239  0.94064004\n",
            " 0.96635143 0.9563033  0.96491598 0.92923492 0.91754711 0.89622027\n",
            " 0.87225574 0.84935719 0.82922149 0.81262857 0.79982805 0.79062867\n",
            " 0.78447461 0.78057206 0.77803862 0.77603769 0.77388287 0.77110165\n",
            " 0.76745999 0.76295042 0.75775129 0.75216883 0.74656898 0.74131477\n",
            " 0.73671097 0.73296833 0.73018271 0.72833556 0.72730821 0.72690701\n",
            " 0.72689521 0.72702408 0.72706354 0.72682416]\n",
            "1 day output [[0.72617304]]\n",
            "2 day input [0.96538039 0.98488559 0.97086887 0.94026007 0.87748037 0.83483915\n",
            " 0.85413324 0.77336823 0.77269273 0.88014017 0.84007431 0.89673225\n",
            " 0.85527316 0.83884995 0.74233725 0.82327113 0.78143207 0.6665963\n",
            " 0.7921557  0.64118044 0.68614371 0.66001013 0.65203074 0.58642236\n",
            " 0.56586169 0.66089673 0.65515494 0.70970193 0.66452757 0.69437642\n",
            " 0.69218104 0.63569197 0.65266402 0.63780292 0.7267162  0.71388162\n",
            " 0.74191506 0.75002111 0.77222832 0.83049059 0.8194292  0.8289707\n",
            " 0.8125475  0.78776492 0.75162543 0.78426074 0.77974331 0.81326522\n",
            " 0.8141096  0.79473106 0.83336148 0.85898843 0.83901883 0.85628641\n",
            " 0.87486279 0.88782403 0.90095415 0.92793211 0.948535   0.93333615\n",
            " 0.91746179 0.92544119 0.91771511 0.9483239  0.94064004 0.96635143\n",
            " 0.9563033  0.96491598 0.92923492 0.91754711 0.89622027 0.87225574\n",
            " 0.84935719 0.82922149 0.81262857 0.79982805 0.79062867 0.78447461\n",
            " 0.78057206 0.77803862 0.77603769 0.77388287 0.77110165 0.76745999\n",
            " 0.76295042 0.75775129 0.75216883 0.74656898 0.74131477 0.73671097\n",
            " 0.73296833 0.73018271 0.72833556 0.72730821 0.72690701 0.72689521\n",
            " 0.72702408 0.72706354 0.72682416 0.72617304]\n",
            "2 day output [[0.7250391]]\n",
            "3 day input [0.98488559 0.97086887 0.94026007 0.87748037 0.83483915 0.85413324\n",
            " 0.77336823 0.77269273 0.88014017 0.84007431 0.89673225 0.85527316\n",
            " 0.83884995 0.74233725 0.82327113 0.78143207 0.6665963  0.7921557\n",
            " 0.64118044 0.68614371 0.66001013 0.65203074 0.58642236 0.56586169\n",
            " 0.66089673 0.65515494 0.70970193 0.66452757 0.69437642 0.69218104\n",
            " 0.63569197 0.65266402 0.63780292 0.7267162  0.71388162 0.74191506\n",
            " 0.75002111 0.77222832 0.83049059 0.8194292  0.8289707  0.8125475\n",
            " 0.78776492 0.75162543 0.78426074 0.77974331 0.81326522 0.8141096\n",
            " 0.79473106 0.83336148 0.85898843 0.83901883 0.85628641 0.87486279\n",
            " 0.88782403 0.90095415 0.92793211 0.948535   0.93333615 0.91746179\n",
            " 0.92544119 0.91771511 0.9483239  0.94064004 0.96635143 0.9563033\n",
            " 0.96491598 0.92923492 0.91754711 0.89622027 0.87225574 0.84935719\n",
            " 0.82922149 0.81262857 0.79982805 0.79062867 0.78447461 0.78057206\n",
            " 0.77803862 0.77603769 0.77388287 0.77110165 0.76745999 0.76295042\n",
            " 0.75775129 0.75216883 0.74656898 0.74131477 0.73671097 0.73296833\n",
            " 0.73018271 0.72833556 0.72730821 0.72690701 0.72689521 0.72702408\n",
            " 0.72706354 0.72682416 0.72617304 0.72503912]\n",
            "3 day output [[0.72341263]]\n",
            "4 day input [0.97086887 0.94026007 0.87748037 0.83483915 0.85413324 0.77336823\n",
            " 0.77269273 0.88014017 0.84007431 0.89673225 0.85527316 0.83884995\n",
            " 0.74233725 0.82327113 0.78143207 0.6665963  0.7921557  0.64118044\n",
            " 0.68614371 0.66001013 0.65203074 0.58642236 0.56586169 0.66089673\n",
            " 0.65515494 0.70970193 0.66452757 0.69437642 0.69218104 0.63569197\n",
            " 0.65266402 0.63780292 0.7267162  0.71388162 0.74191506 0.75002111\n",
            " 0.77222832 0.83049059 0.8194292  0.8289707  0.8125475  0.78776492\n",
            " 0.75162543 0.78426074 0.77974331 0.81326522 0.8141096  0.79473106\n",
            " 0.83336148 0.85898843 0.83901883 0.85628641 0.87486279 0.88782403\n",
            " 0.90095415 0.92793211 0.948535   0.93333615 0.91746179 0.92544119\n",
            " 0.91771511 0.9483239  0.94064004 0.96635143 0.9563033  0.96491598\n",
            " 0.92923492 0.91754711 0.89622027 0.87225574 0.84935719 0.82922149\n",
            " 0.81262857 0.79982805 0.79062867 0.78447461 0.78057206 0.77803862\n",
            " 0.77603769 0.77388287 0.77110165 0.76745999 0.76295042 0.75775129\n",
            " 0.75216883 0.74656898 0.74131477 0.73671097 0.73296833 0.73018271\n",
            " 0.72833556 0.72730821 0.72690701 0.72689521 0.72702408 0.72706354\n",
            " 0.72682416 0.72617304 0.72503912 0.72341263]\n",
            "4 day output [[0.7213339]]\n",
            "5 day input [0.94026007 0.87748037 0.83483915 0.85413324 0.77336823 0.77269273\n",
            " 0.88014017 0.84007431 0.89673225 0.85527316 0.83884995 0.74233725\n",
            " 0.82327113 0.78143207 0.6665963  0.7921557  0.64118044 0.68614371\n",
            " 0.66001013 0.65203074 0.58642236 0.56586169 0.66089673 0.65515494\n",
            " 0.70970193 0.66452757 0.69437642 0.69218104 0.63569197 0.65266402\n",
            " 0.63780292 0.7267162  0.71388162 0.74191506 0.75002111 0.77222832\n",
            " 0.83049059 0.8194292  0.8289707  0.8125475  0.78776492 0.75162543\n",
            " 0.78426074 0.77974331 0.81326522 0.8141096  0.79473106 0.83336148\n",
            " 0.85898843 0.83901883 0.85628641 0.87486279 0.88782403 0.90095415\n",
            " 0.92793211 0.948535   0.93333615 0.91746179 0.92544119 0.91771511\n",
            " 0.9483239  0.94064004 0.96635143 0.9563033  0.96491598 0.92923492\n",
            " 0.91754711 0.89622027 0.87225574 0.84935719 0.82922149 0.81262857\n",
            " 0.79982805 0.79062867 0.78447461 0.78057206 0.77803862 0.77603769\n",
            " 0.77388287 0.77110165 0.76745999 0.76295042 0.75775129 0.75216883\n",
            " 0.74656898 0.74131477 0.73671097 0.73296833 0.73018271 0.72833556\n",
            " 0.72730821 0.72690701 0.72689521 0.72702408 0.72706354 0.72682416\n",
            " 0.72617304 0.72503912 0.72341263 0.72133392]\n",
            "5 day output [[0.7188811]]\n",
            "6 day input [0.87748037 0.83483915 0.85413324 0.77336823 0.77269273 0.88014017\n",
            " 0.84007431 0.89673225 0.85527316 0.83884995 0.74233725 0.82327113\n",
            " 0.78143207 0.6665963  0.7921557  0.64118044 0.68614371 0.66001013\n",
            " 0.65203074 0.58642236 0.56586169 0.66089673 0.65515494 0.70970193\n",
            " 0.66452757 0.69437642 0.69218104 0.63569197 0.65266402 0.63780292\n",
            " 0.7267162  0.71388162 0.74191506 0.75002111 0.77222832 0.83049059\n",
            " 0.8194292  0.8289707  0.8125475  0.78776492 0.75162543 0.78426074\n",
            " 0.77974331 0.81326522 0.8141096  0.79473106 0.83336148 0.85898843\n",
            " 0.83901883 0.85628641 0.87486279 0.88782403 0.90095415 0.92793211\n",
            " 0.948535   0.93333615 0.91746179 0.92544119 0.91771511 0.9483239\n",
            " 0.94064004 0.96635143 0.9563033  0.96491598 0.92923492 0.91754711\n",
            " 0.89622027 0.87225574 0.84935719 0.82922149 0.81262857 0.79982805\n",
            " 0.79062867 0.78447461 0.78057206 0.77803862 0.77603769 0.77388287\n",
            " 0.77110165 0.76745999 0.76295042 0.75775129 0.75216883 0.74656898\n",
            " 0.74131477 0.73671097 0.73296833 0.73018271 0.72833556 0.72730821\n",
            " 0.72690701 0.72689521 0.72702408 0.72706354 0.72682416 0.72617304\n",
            " 0.72503912 0.72341263 0.72133392 0.71888107]\n",
            "6 day output [[0.7161524]]\n",
            "7 day input [0.83483915 0.85413324 0.77336823 0.77269273 0.88014017 0.84007431\n",
            " 0.89673225 0.85527316 0.83884995 0.74233725 0.82327113 0.78143207\n",
            " 0.6665963  0.7921557  0.64118044 0.68614371 0.66001013 0.65203074\n",
            " 0.58642236 0.56586169 0.66089673 0.65515494 0.70970193 0.66452757\n",
            " 0.69437642 0.69218104 0.63569197 0.65266402 0.63780292 0.7267162\n",
            " 0.71388162 0.74191506 0.75002111 0.77222832 0.83049059 0.8194292\n",
            " 0.8289707  0.8125475  0.78776492 0.75162543 0.78426074 0.77974331\n",
            " 0.81326522 0.8141096  0.79473106 0.83336148 0.85898843 0.83901883\n",
            " 0.85628641 0.87486279 0.88782403 0.90095415 0.92793211 0.948535\n",
            " 0.93333615 0.91746179 0.92544119 0.91771511 0.9483239  0.94064004\n",
            " 0.96635143 0.9563033  0.96491598 0.92923492 0.91754711 0.89622027\n",
            " 0.87225574 0.84935719 0.82922149 0.81262857 0.79982805 0.79062867\n",
            " 0.78447461 0.78057206 0.77803862 0.77603769 0.77388287 0.77110165\n",
            " 0.76745999 0.76295042 0.75775129 0.75216883 0.74656898 0.74131477\n",
            " 0.73671097 0.73296833 0.73018271 0.72833556 0.72730821 0.72690701\n",
            " 0.72689521 0.72702408 0.72706354 0.72682416 0.72617304 0.72503912\n",
            " 0.72341263 0.72133392 0.71888107 0.71615243]\n",
            "7 day output [[0.713251]]\n",
            "8 day input [0.85413324 0.77336823 0.77269273 0.88014017 0.84007431 0.89673225\n",
            " 0.85527316 0.83884995 0.74233725 0.82327113 0.78143207 0.6665963\n",
            " 0.7921557  0.64118044 0.68614371 0.66001013 0.65203074 0.58642236\n",
            " 0.56586169 0.66089673 0.65515494 0.70970193 0.66452757 0.69437642\n",
            " 0.69218104 0.63569197 0.65266402 0.63780292 0.7267162  0.71388162\n",
            " 0.74191506 0.75002111 0.77222832 0.83049059 0.8194292  0.8289707\n",
            " 0.8125475  0.78776492 0.75162543 0.78426074 0.77974331 0.81326522\n",
            " 0.8141096  0.79473106 0.83336148 0.85898843 0.83901883 0.85628641\n",
            " 0.87486279 0.88782403 0.90095415 0.92793211 0.948535   0.93333615\n",
            " 0.91746179 0.92544119 0.91771511 0.9483239  0.94064004 0.96635143\n",
            " 0.9563033  0.96491598 0.92923492 0.91754711 0.89622027 0.87225574\n",
            " 0.84935719 0.82922149 0.81262857 0.79982805 0.79062867 0.78447461\n",
            " 0.78057206 0.77803862 0.77603769 0.77388287 0.77110165 0.76745999\n",
            " 0.76295042 0.75775129 0.75216883 0.74656898 0.74131477 0.73671097\n",
            " 0.73296833 0.73018271 0.72833556 0.72730821 0.72690701 0.72689521\n",
            " 0.72702408 0.72706354 0.72682416 0.72617304 0.72503912 0.72341263\n",
            " 0.72133392 0.71888107 0.71615243 0.71325099]\n",
            "8 day output [[0.71026987]]\n",
            "9 day input [0.77336823 0.77269273 0.88014017 0.84007431 0.89673225 0.85527316\n",
            " 0.83884995 0.74233725 0.82327113 0.78143207 0.6665963  0.7921557\n",
            " 0.64118044 0.68614371 0.66001013 0.65203074 0.58642236 0.56586169\n",
            " 0.66089673 0.65515494 0.70970193 0.66452757 0.69437642 0.69218104\n",
            " 0.63569197 0.65266402 0.63780292 0.7267162  0.71388162 0.74191506\n",
            " 0.75002111 0.77222832 0.83049059 0.8194292  0.8289707  0.8125475\n",
            " 0.78776492 0.75162543 0.78426074 0.77974331 0.81326522 0.8141096\n",
            " 0.79473106 0.83336148 0.85898843 0.83901883 0.85628641 0.87486279\n",
            " 0.88782403 0.90095415 0.92793211 0.948535   0.93333615 0.91746179\n",
            " 0.92544119 0.91771511 0.9483239  0.94064004 0.96635143 0.9563033\n",
            " 0.96491598 0.92923492 0.91754711 0.89622027 0.87225574 0.84935719\n",
            " 0.82922149 0.81262857 0.79982805 0.79062867 0.78447461 0.78057206\n",
            " 0.77803862 0.77603769 0.77388287 0.77110165 0.76745999 0.76295042\n",
            " 0.75775129 0.75216883 0.74656898 0.74131477 0.73671097 0.73296833\n",
            " 0.73018271 0.72833556 0.72730821 0.72690701 0.72689521 0.72702408\n",
            " 0.72706354 0.72682416 0.72617304 0.72503912 0.72341263 0.72133392\n",
            " 0.71888107 0.71615243 0.71325099 0.71026987]\n",
            "9 day output [[0.70728153]]\n",
            "10 day input [0.77269273 0.88014017 0.84007431 0.89673225 0.85527316 0.83884995\n",
            " 0.74233725 0.82327113 0.78143207 0.6665963  0.7921557  0.64118044\n",
            " 0.68614371 0.66001013 0.65203074 0.58642236 0.56586169 0.66089673\n",
            " 0.65515494 0.70970193 0.66452757 0.69437642 0.69218104 0.63569197\n",
            " 0.65266402 0.63780292 0.7267162  0.71388162 0.74191506 0.75002111\n",
            " 0.77222832 0.83049059 0.8194292  0.8289707  0.8125475  0.78776492\n",
            " 0.75162543 0.78426074 0.77974331 0.81326522 0.8141096  0.79473106\n",
            " 0.83336148 0.85898843 0.83901883 0.85628641 0.87486279 0.88782403\n",
            " 0.90095415 0.92793211 0.948535   0.93333615 0.91746179 0.92544119\n",
            " 0.91771511 0.9483239  0.94064004 0.96635143 0.9563033  0.96491598\n",
            " 0.92923492 0.91754711 0.89622027 0.87225574 0.84935719 0.82922149\n",
            " 0.81262857 0.79982805 0.79062867 0.78447461 0.78057206 0.77803862\n",
            " 0.77603769 0.77388287 0.77110165 0.76745999 0.76295042 0.75775129\n",
            " 0.75216883 0.74656898 0.74131477 0.73671097 0.73296833 0.73018271\n",
            " 0.72833556 0.72730821 0.72690701 0.72689521 0.72702408 0.72706354\n",
            " 0.72682416 0.72617304 0.72503912 0.72341263 0.72133392 0.71888107\n",
            " 0.71615243 0.71325099 0.71026987 0.70728153]\n",
            "10 day output [[0.7043333]]\n",
            "11 day input [0.88014017 0.84007431 0.89673225 0.85527316 0.83884995 0.74233725\n",
            " 0.82327113 0.78143207 0.6665963  0.7921557  0.64118044 0.68614371\n",
            " 0.66001013 0.65203074 0.58642236 0.56586169 0.66089673 0.65515494\n",
            " 0.70970193 0.66452757 0.69437642 0.69218104 0.63569197 0.65266402\n",
            " 0.63780292 0.7267162  0.71388162 0.74191506 0.75002111 0.77222832\n",
            " 0.83049059 0.8194292  0.8289707  0.8125475  0.78776492 0.75162543\n",
            " 0.78426074 0.77974331 0.81326522 0.8141096  0.79473106 0.83336148\n",
            " 0.85898843 0.83901883 0.85628641 0.87486279 0.88782403 0.90095415\n",
            " 0.92793211 0.948535   0.93333615 0.91746179 0.92544119 0.91771511\n",
            " 0.9483239  0.94064004 0.96635143 0.9563033  0.96491598 0.92923492\n",
            " 0.91754711 0.89622027 0.87225574 0.84935719 0.82922149 0.81262857\n",
            " 0.79982805 0.79062867 0.78447461 0.78057206 0.77803862 0.77603769\n",
            " 0.77388287 0.77110165 0.76745999 0.76295042 0.75775129 0.75216883\n",
            " 0.74656898 0.74131477 0.73671097 0.73296833 0.73018271 0.72833556\n",
            " 0.72730821 0.72690701 0.72689521 0.72702408 0.72706354 0.72682416\n",
            " 0.72617304 0.72503912 0.72341263 0.72133392 0.71888107 0.71615243\n",
            " 0.71325099 0.71026987 0.70728153 0.70433331]\n",
            "11 day output [[0.70144373]]\n",
            "12 day input [0.84007431 0.89673225 0.85527316 0.83884995 0.74233725 0.82327113\n",
            " 0.78143207 0.6665963  0.7921557  0.64118044 0.68614371 0.66001013\n",
            " 0.65203074 0.58642236 0.56586169 0.66089673 0.65515494 0.70970193\n",
            " 0.66452757 0.69437642 0.69218104 0.63569197 0.65266402 0.63780292\n",
            " 0.7267162  0.71388162 0.74191506 0.75002111 0.77222832 0.83049059\n",
            " 0.8194292  0.8289707  0.8125475  0.78776492 0.75162543 0.78426074\n",
            " 0.77974331 0.81326522 0.8141096  0.79473106 0.83336148 0.85898843\n",
            " 0.83901883 0.85628641 0.87486279 0.88782403 0.90095415 0.92793211\n",
            " 0.948535   0.93333615 0.91746179 0.92544119 0.91771511 0.9483239\n",
            " 0.94064004 0.96635143 0.9563033  0.96491598 0.92923492 0.91754711\n",
            " 0.89622027 0.87225574 0.84935719 0.82922149 0.81262857 0.79982805\n",
            " 0.79062867 0.78447461 0.78057206 0.77803862 0.77603769 0.77388287\n",
            " 0.77110165 0.76745999 0.76295042 0.75775129 0.75216883 0.74656898\n",
            " 0.74131477 0.73671097 0.73296833 0.73018271 0.72833556 0.72730821\n",
            " 0.72690701 0.72689521 0.72702408 0.72706354 0.72682416 0.72617304\n",
            " 0.72503912 0.72341263 0.72133392 0.71888107 0.71615243 0.71325099\n",
            " 0.71026987 0.70728153 0.70433331 0.70144373]\n",
            "12 day output [[0.6986069]]\n",
            "13 day input [0.89673225 0.85527316 0.83884995 0.74233725 0.82327113 0.78143207\n",
            " 0.6665963  0.7921557  0.64118044 0.68614371 0.66001013 0.65203074\n",
            " 0.58642236 0.56586169 0.66089673 0.65515494 0.70970193 0.66452757\n",
            " 0.69437642 0.69218104 0.63569197 0.65266402 0.63780292 0.7267162\n",
            " 0.71388162 0.74191506 0.75002111 0.77222832 0.83049059 0.8194292\n",
            " 0.8289707  0.8125475  0.78776492 0.75162543 0.78426074 0.77974331\n",
            " 0.81326522 0.8141096  0.79473106 0.83336148 0.85898843 0.83901883\n",
            " 0.85628641 0.87486279 0.88782403 0.90095415 0.92793211 0.948535\n",
            " 0.93333615 0.91746179 0.92544119 0.91771511 0.9483239  0.94064004\n",
            " 0.96635143 0.9563033  0.96491598 0.92923492 0.91754711 0.89622027\n",
            " 0.87225574 0.84935719 0.82922149 0.81262857 0.79982805 0.79062867\n",
            " 0.78447461 0.78057206 0.77803862 0.77603769 0.77388287 0.77110165\n",
            " 0.76745999 0.76295042 0.75775129 0.75216883 0.74656898 0.74131477\n",
            " 0.73671097 0.73296833 0.73018271 0.72833556 0.72730821 0.72690701\n",
            " 0.72689521 0.72702408 0.72706354 0.72682416 0.72617304 0.72503912\n",
            " 0.72341263 0.72133392 0.71888107 0.71615243 0.71325099 0.71026987\n",
            " 0.70728153 0.70433331 0.70144373 0.69860691]\n",
            "13 day output [[0.6957981]]\n",
            "14 day input [0.85527316 0.83884995 0.74233725 0.82327113 0.78143207 0.6665963\n",
            " 0.7921557  0.64118044 0.68614371 0.66001013 0.65203074 0.58642236\n",
            " 0.56586169 0.66089673 0.65515494 0.70970193 0.66452757 0.69437642\n",
            " 0.69218104 0.63569197 0.65266402 0.63780292 0.7267162  0.71388162\n",
            " 0.74191506 0.75002111 0.77222832 0.83049059 0.8194292  0.8289707\n",
            " 0.8125475  0.78776492 0.75162543 0.78426074 0.77974331 0.81326522\n",
            " 0.8141096  0.79473106 0.83336148 0.85898843 0.83901883 0.85628641\n",
            " 0.87486279 0.88782403 0.90095415 0.92793211 0.948535   0.93333615\n",
            " 0.91746179 0.92544119 0.91771511 0.9483239  0.94064004 0.96635143\n",
            " 0.9563033  0.96491598 0.92923492 0.91754711 0.89622027 0.87225574\n",
            " 0.84935719 0.82922149 0.81262857 0.79982805 0.79062867 0.78447461\n",
            " 0.78057206 0.77803862 0.77603769 0.77388287 0.77110165 0.76745999\n",
            " 0.76295042 0.75775129 0.75216883 0.74656898 0.74131477 0.73671097\n",
            " 0.73296833 0.73018271 0.72833556 0.72730821 0.72690701 0.72689521\n",
            " 0.72702408 0.72706354 0.72682416 0.72617304 0.72503912 0.72341263\n",
            " 0.72133392 0.71888107 0.71615243 0.71325099 0.71026987 0.70728153\n",
            " 0.70433331 0.70144373 0.69860691 0.6957981 ]\n",
            "14 day output [[0.6929802]]\n",
            "15 day input [0.83884995 0.74233725 0.82327113 0.78143207 0.6665963  0.7921557\n",
            " 0.64118044 0.68614371 0.66001013 0.65203074 0.58642236 0.56586169\n",
            " 0.66089673 0.65515494 0.70970193 0.66452757 0.69437642 0.69218104\n",
            " 0.63569197 0.65266402 0.63780292 0.7267162  0.71388162 0.74191506\n",
            " 0.75002111 0.77222832 0.83049059 0.8194292  0.8289707  0.8125475\n",
            " 0.78776492 0.75162543 0.78426074 0.77974331 0.81326522 0.8141096\n",
            " 0.79473106 0.83336148 0.85898843 0.83901883 0.85628641 0.87486279\n",
            " 0.88782403 0.90095415 0.92793211 0.948535   0.93333615 0.91746179\n",
            " 0.92544119 0.91771511 0.9483239  0.94064004 0.96635143 0.9563033\n",
            " 0.96491598 0.92923492 0.91754711 0.89622027 0.87225574 0.84935719\n",
            " 0.82922149 0.81262857 0.79982805 0.79062867 0.78447461 0.78057206\n",
            " 0.77803862 0.77603769 0.77388287 0.77110165 0.76745999 0.76295042\n",
            " 0.75775129 0.75216883 0.74656898 0.74131477 0.73671097 0.73296833\n",
            " 0.73018271 0.72833556 0.72730821 0.72690701 0.72689521 0.72702408\n",
            " 0.72706354 0.72682416 0.72617304 0.72503912 0.72341263 0.72133392\n",
            " 0.71888107 0.71615243 0.71325099 0.71026987 0.70728153 0.70433331\n",
            " 0.70144373 0.69860691 0.6957981  0.69298017]\n",
            "15 day output [[0.6901122]]\n",
            "16 day input [0.74233725 0.82327113 0.78143207 0.6665963  0.7921557  0.64118044\n",
            " 0.68614371 0.66001013 0.65203074 0.58642236 0.56586169 0.66089673\n",
            " 0.65515494 0.70970193 0.66452757 0.69437642 0.69218104 0.63569197\n",
            " 0.65266402 0.63780292 0.7267162  0.71388162 0.74191506 0.75002111\n",
            " 0.77222832 0.83049059 0.8194292  0.8289707  0.8125475  0.78776492\n",
            " 0.75162543 0.78426074 0.77974331 0.81326522 0.8141096  0.79473106\n",
            " 0.83336148 0.85898843 0.83901883 0.85628641 0.87486279 0.88782403\n",
            " 0.90095415 0.92793211 0.948535   0.93333615 0.91746179 0.92544119\n",
            " 0.91771511 0.9483239  0.94064004 0.96635143 0.9563033  0.96491598\n",
            " 0.92923492 0.91754711 0.89622027 0.87225574 0.84935719 0.82922149\n",
            " 0.81262857 0.79982805 0.79062867 0.78447461 0.78057206 0.77803862\n",
            " 0.77603769 0.77388287 0.77110165 0.76745999 0.76295042 0.75775129\n",
            " 0.75216883 0.74656898 0.74131477 0.73671097 0.73296833 0.73018271\n",
            " 0.72833556 0.72730821 0.72690701 0.72689521 0.72702408 0.72706354\n",
            " 0.72682416 0.72617304 0.72503912 0.72341263 0.72133392 0.71888107\n",
            " 0.71615243 0.71325099 0.71026987 0.70728153 0.70433331 0.70144373\n",
            " 0.69860691 0.6957981  0.69298017 0.69011217]\n",
            "16 day output [[0.6871567]]\n",
            "17 day input [0.82327113 0.78143207 0.6665963  0.7921557  0.64118044 0.68614371\n",
            " 0.66001013 0.65203074 0.58642236 0.56586169 0.66089673 0.65515494\n",
            " 0.70970193 0.66452757 0.69437642 0.69218104 0.63569197 0.65266402\n",
            " 0.63780292 0.7267162  0.71388162 0.74191506 0.75002111 0.77222832\n",
            " 0.83049059 0.8194292  0.8289707  0.8125475  0.78776492 0.75162543\n",
            " 0.78426074 0.77974331 0.81326522 0.8141096  0.79473106 0.83336148\n",
            " 0.85898843 0.83901883 0.85628641 0.87486279 0.88782403 0.90095415\n",
            " 0.92793211 0.948535   0.93333615 0.91746179 0.92544119 0.91771511\n",
            " 0.9483239  0.94064004 0.96635143 0.9563033  0.96491598 0.92923492\n",
            " 0.91754711 0.89622027 0.87225574 0.84935719 0.82922149 0.81262857\n",
            " 0.79982805 0.79062867 0.78447461 0.78057206 0.77803862 0.77603769\n",
            " 0.77388287 0.77110165 0.76745999 0.76295042 0.75775129 0.75216883\n",
            " 0.74656898 0.74131477 0.73671097 0.73296833 0.73018271 0.72833556\n",
            " 0.72730821 0.72690701 0.72689521 0.72702408 0.72706354 0.72682416\n",
            " 0.72617304 0.72503912 0.72341263 0.72133392 0.71888107 0.71615243\n",
            " 0.71325099 0.71026987 0.70728153 0.70433331 0.70144373 0.69860691\n",
            " 0.6957981  0.69298017 0.69011217 0.68715668]\n",
            "17 day output [[0.6840854]]\n",
            "18 day input [0.78143207 0.6665963  0.7921557  0.64118044 0.68614371 0.66001013\n",
            " 0.65203074 0.58642236 0.56586169 0.66089673 0.65515494 0.70970193\n",
            " 0.66452757 0.69437642 0.69218104 0.63569197 0.65266402 0.63780292\n",
            " 0.7267162  0.71388162 0.74191506 0.75002111 0.77222832 0.83049059\n",
            " 0.8194292  0.8289707  0.8125475  0.78776492 0.75162543 0.78426074\n",
            " 0.77974331 0.81326522 0.8141096  0.79473106 0.83336148 0.85898843\n",
            " 0.83901883 0.85628641 0.87486279 0.88782403 0.90095415 0.92793211\n",
            " 0.948535   0.93333615 0.91746179 0.92544119 0.91771511 0.9483239\n",
            " 0.94064004 0.96635143 0.9563033  0.96491598 0.92923492 0.91754711\n",
            " 0.89622027 0.87225574 0.84935719 0.82922149 0.81262857 0.79982805\n",
            " 0.79062867 0.78447461 0.78057206 0.77803862 0.77603769 0.77388287\n",
            " 0.77110165 0.76745999 0.76295042 0.75775129 0.75216883 0.74656898\n",
            " 0.74131477 0.73671097 0.73296833 0.73018271 0.72833556 0.72730821\n",
            " 0.72690701 0.72689521 0.72702408 0.72706354 0.72682416 0.72617304\n",
            " 0.72503912 0.72341263 0.72133392 0.71888107 0.71615243 0.71325099\n",
            " 0.71026987 0.70728153 0.70433331 0.70144373 0.69860691 0.6957981\n",
            " 0.69298017 0.69011217 0.68715668 0.68408543]\n",
            "18 day output [[0.68088233]]\n",
            "19 day input [0.6665963  0.7921557  0.64118044 0.68614371 0.66001013 0.65203074\n",
            " 0.58642236 0.56586169 0.66089673 0.65515494 0.70970193 0.66452757\n",
            " 0.69437642 0.69218104 0.63569197 0.65266402 0.63780292 0.7267162\n",
            " 0.71388162 0.74191506 0.75002111 0.77222832 0.83049059 0.8194292\n",
            " 0.8289707  0.8125475  0.78776492 0.75162543 0.78426074 0.77974331\n",
            " 0.81326522 0.8141096  0.79473106 0.83336148 0.85898843 0.83901883\n",
            " 0.85628641 0.87486279 0.88782403 0.90095415 0.92793211 0.948535\n",
            " 0.93333615 0.91746179 0.92544119 0.91771511 0.9483239  0.94064004\n",
            " 0.96635143 0.9563033  0.96491598 0.92923492 0.91754711 0.89622027\n",
            " 0.87225574 0.84935719 0.82922149 0.81262857 0.79982805 0.79062867\n",
            " 0.78447461 0.78057206 0.77803862 0.77603769 0.77388287 0.77110165\n",
            " 0.76745999 0.76295042 0.75775129 0.75216883 0.74656898 0.74131477\n",
            " 0.73671097 0.73296833 0.73018271 0.72833556 0.72730821 0.72690701\n",
            " 0.72689521 0.72702408 0.72706354 0.72682416 0.72617304 0.72503912\n",
            " 0.72341263 0.72133392 0.71888107 0.71615243 0.71325099 0.71026987\n",
            " 0.70728153 0.70433331 0.70144373 0.69860691 0.6957981  0.69298017\n",
            " 0.69011217 0.68715668 0.68408543 0.68088233]\n",
            "19 day output [[0.6775462]]\n",
            "20 day input [0.7921557  0.64118044 0.68614371 0.66001013 0.65203074 0.58642236\n",
            " 0.56586169 0.66089673 0.65515494 0.70970193 0.66452757 0.69437642\n",
            " 0.69218104 0.63569197 0.65266402 0.63780292 0.7267162  0.71388162\n",
            " 0.74191506 0.75002111 0.77222832 0.83049059 0.8194292  0.8289707\n",
            " 0.8125475  0.78776492 0.75162543 0.78426074 0.77974331 0.81326522\n",
            " 0.8141096  0.79473106 0.83336148 0.85898843 0.83901883 0.85628641\n",
            " 0.87486279 0.88782403 0.90095415 0.92793211 0.948535   0.93333615\n",
            " 0.91746179 0.92544119 0.91771511 0.9483239  0.94064004 0.96635143\n",
            " 0.9563033  0.96491598 0.92923492 0.91754711 0.89622027 0.87225574\n",
            " 0.84935719 0.82922149 0.81262857 0.79982805 0.79062867 0.78447461\n",
            " 0.78057206 0.77803862 0.77603769 0.77388287 0.77110165 0.76745999\n",
            " 0.76295042 0.75775129 0.75216883 0.74656898 0.74131477 0.73671097\n",
            " 0.73296833 0.73018271 0.72833556 0.72730821 0.72690701 0.72689521\n",
            " 0.72702408 0.72706354 0.72682416 0.72617304 0.72503912 0.72341263\n",
            " 0.72133392 0.71888107 0.71615243 0.71325099 0.71026987 0.70728153\n",
            " 0.70433331 0.70144373 0.69860691 0.6957981  0.69298017 0.69011217\n",
            " 0.68715668 0.68408543 0.68088233 0.6775462 ]\n",
            "20 day output [[0.67408925]]\n",
            "21 day input [0.64118044 0.68614371 0.66001013 0.65203074 0.58642236 0.56586169\n",
            " 0.66089673 0.65515494 0.70970193 0.66452757 0.69437642 0.69218104\n",
            " 0.63569197 0.65266402 0.63780292 0.7267162  0.71388162 0.74191506\n",
            " 0.75002111 0.77222832 0.83049059 0.8194292  0.8289707  0.8125475\n",
            " 0.78776492 0.75162543 0.78426074 0.77974331 0.81326522 0.8141096\n",
            " 0.79473106 0.83336148 0.85898843 0.83901883 0.85628641 0.87486279\n",
            " 0.88782403 0.90095415 0.92793211 0.948535   0.93333615 0.91746179\n",
            " 0.92544119 0.91771511 0.9483239  0.94064004 0.96635143 0.9563033\n",
            " 0.96491598 0.92923492 0.91754711 0.89622027 0.87225574 0.84935719\n",
            " 0.82922149 0.81262857 0.79982805 0.79062867 0.78447461 0.78057206\n",
            " 0.77803862 0.77603769 0.77388287 0.77110165 0.76745999 0.76295042\n",
            " 0.75775129 0.75216883 0.74656898 0.74131477 0.73671097 0.73296833\n",
            " 0.73018271 0.72833556 0.72730821 0.72690701 0.72689521 0.72702408\n",
            " 0.72706354 0.72682416 0.72617304 0.72503912 0.72341263 0.72133392\n",
            " 0.71888107 0.71615243 0.71325099 0.71026987 0.70728153 0.70433331\n",
            " 0.70144373 0.69860691 0.6957981  0.69298017 0.69011217 0.68715668\n",
            " 0.68408543 0.68088233 0.6775462  0.67408925]\n",
            "21 day output [[0.6705345]]\n",
            "22 day input [0.68614371 0.66001013 0.65203074 0.58642236 0.56586169 0.66089673\n",
            " 0.65515494 0.70970193 0.66452757 0.69437642 0.69218104 0.63569197\n",
            " 0.65266402 0.63780292 0.7267162  0.71388162 0.74191506 0.75002111\n",
            " 0.77222832 0.83049059 0.8194292  0.8289707  0.8125475  0.78776492\n",
            " 0.75162543 0.78426074 0.77974331 0.81326522 0.8141096  0.79473106\n",
            " 0.83336148 0.85898843 0.83901883 0.85628641 0.87486279 0.88782403\n",
            " 0.90095415 0.92793211 0.948535   0.93333615 0.91746179 0.92544119\n",
            " 0.91771511 0.9483239  0.94064004 0.96635143 0.9563033  0.96491598\n",
            " 0.92923492 0.91754711 0.89622027 0.87225574 0.84935719 0.82922149\n",
            " 0.81262857 0.79982805 0.79062867 0.78447461 0.78057206 0.77803862\n",
            " 0.77603769 0.77388287 0.77110165 0.76745999 0.76295042 0.75775129\n",
            " 0.75216883 0.74656898 0.74131477 0.73671097 0.73296833 0.73018271\n",
            " 0.72833556 0.72730821 0.72690701 0.72689521 0.72702408 0.72706354\n",
            " 0.72682416 0.72617304 0.72503912 0.72341263 0.72133392 0.71888107\n",
            " 0.71615243 0.71325099 0.71026987 0.70728153 0.70433331 0.70144373\n",
            " 0.69860691 0.6957981  0.69298017 0.69011217 0.68715668 0.68408543\n",
            " 0.68088233 0.6775462  0.67408925 0.67053449]\n",
            "22 day output [[0.6669132]]\n",
            "23 day input [0.66001013 0.65203074 0.58642236 0.56586169 0.66089673 0.65515494\n",
            " 0.70970193 0.66452757 0.69437642 0.69218104 0.63569197 0.65266402\n",
            " 0.63780292 0.7267162  0.71388162 0.74191506 0.75002111 0.77222832\n",
            " 0.83049059 0.8194292  0.8289707  0.8125475  0.78776492 0.75162543\n",
            " 0.78426074 0.77974331 0.81326522 0.8141096  0.79473106 0.83336148\n",
            " 0.85898843 0.83901883 0.85628641 0.87486279 0.88782403 0.90095415\n",
            " 0.92793211 0.948535   0.93333615 0.91746179 0.92544119 0.91771511\n",
            " 0.9483239  0.94064004 0.96635143 0.9563033  0.96491598 0.92923492\n",
            " 0.91754711 0.89622027 0.87225574 0.84935719 0.82922149 0.81262857\n",
            " 0.79982805 0.79062867 0.78447461 0.78057206 0.77803862 0.77603769\n",
            " 0.77388287 0.77110165 0.76745999 0.76295042 0.75775129 0.75216883\n",
            " 0.74656898 0.74131477 0.73671097 0.73296833 0.73018271 0.72833556\n",
            " 0.72730821 0.72690701 0.72689521 0.72702408 0.72706354 0.72682416\n",
            " 0.72617304 0.72503912 0.72341263 0.72133392 0.71888107 0.71615243\n",
            " 0.71325099 0.71026987 0.70728153 0.70433331 0.70144373 0.69860691\n",
            " 0.6957981  0.69298017 0.69011217 0.68715668 0.68408543 0.68088233\n",
            " 0.6775462  0.67408925 0.67053449 0.66691321]\n",
            "23 day output [[0.66325945]]\n",
            "24 day input [0.65203074 0.58642236 0.56586169 0.66089673 0.65515494 0.70970193\n",
            " 0.66452757 0.69437642 0.69218104 0.63569197 0.65266402 0.63780292\n",
            " 0.7267162  0.71388162 0.74191506 0.75002111 0.77222832 0.83049059\n",
            " 0.8194292  0.8289707  0.8125475  0.78776492 0.75162543 0.78426074\n",
            " 0.77974331 0.81326522 0.8141096  0.79473106 0.83336148 0.85898843\n",
            " 0.83901883 0.85628641 0.87486279 0.88782403 0.90095415 0.92793211\n",
            " 0.948535   0.93333615 0.91746179 0.92544119 0.91771511 0.9483239\n",
            " 0.94064004 0.96635143 0.9563033  0.96491598 0.92923492 0.91754711\n",
            " 0.89622027 0.87225574 0.84935719 0.82922149 0.81262857 0.79982805\n",
            " 0.79062867 0.78447461 0.78057206 0.77803862 0.77603769 0.77388287\n",
            " 0.77110165 0.76745999 0.76295042 0.75775129 0.75216883 0.74656898\n",
            " 0.74131477 0.73671097 0.73296833 0.73018271 0.72833556 0.72730821\n",
            " 0.72690701 0.72689521 0.72702408 0.72706354 0.72682416 0.72617304\n",
            " 0.72503912 0.72341263 0.72133392 0.71888107 0.71615243 0.71325099\n",
            " 0.71026987 0.70728153 0.70433331 0.70144373 0.69860691 0.6957981\n",
            " 0.69298017 0.69011217 0.68715668 0.68408543 0.68088233 0.6775462\n",
            " 0.67408925 0.67053449 0.66691321 0.66325945]\n",
            "24 day output [[0.6596073]]\n",
            "25 day input [0.58642236 0.56586169 0.66089673 0.65515494 0.70970193 0.66452757\n",
            " 0.69437642 0.69218104 0.63569197 0.65266402 0.63780292 0.7267162\n",
            " 0.71388162 0.74191506 0.75002111 0.77222832 0.83049059 0.8194292\n",
            " 0.8289707  0.8125475  0.78776492 0.75162543 0.78426074 0.77974331\n",
            " 0.81326522 0.8141096  0.79473106 0.83336148 0.85898843 0.83901883\n",
            " 0.85628641 0.87486279 0.88782403 0.90095415 0.92793211 0.948535\n",
            " 0.93333615 0.91746179 0.92544119 0.91771511 0.9483239  0.94064004\n",
            " 0.96635143 0.9563033  0.96491598 0.92923492 0.91754711 0.89622027\n",
            " 0.87225574 0.84935719 0.82922149 0.81262857 0.79982805 0.79062867\n",
            " 0.78447461 0.78057206 0.77803862 0.77603769 0.77388287 0.77110165\n",
            " 0.76745999 0.76295042 0.75775129 0.75216883 0.74656898 0.74131477\n",
            " 0.73671097 0.73296833 0.73018271 0.72833556 0.72730821 0.72690701\n",
            " 0.72689521 0.72702408 0.72706354 0.72682416 0.72617304 0.72503912\n",
            " 0.72341263 0.72133392 0.71888107 0.71615243 0.71325099 0.71026987\n",
            " 0.70728153 0.70433331 0.70144373 0.69860691 0.6957981  0.69298017\n",
            " 0.69011217 0.68715668 0.68408543 0.68088233 0.6775462  0.67408925\n",
            " 0.67053449 0.66691321 0.66325945 0.65960729]\n",
            "25 day output [[0.65598655]]\n",
            "26 day input [0.56586169 0.66089673 0.65515494 0.70970193 0.66452757 0.69437642\n",
            " 0.69218104 0.63569197 0.65266402 0.63780292 0.7267162  0.71388162\n",
            " 0.74191506 0.75002111 0.77222832 0.83049059 0.8194292  0.8289707\n",
            " 0.8125475  0.78776492 0.75162543 0.78426074 0.77974331 0.81326522\n",
            " 0.8141096  0.79473106 0.83336148 0.85898843 0.83901883 0.85628641\n",
            " 0.87486279 0.88782403 0.90095415 0.92793211 0.948535   0.93333615\n",
            " 0.91746179 0.92544119 0.91771511 0.9483239  0.94064004 0.96635143\n",
            " 0.9563033  0.96491598 0.92923492 0.91754711 0.89622027 0.87225574\n",
            " 0.84935719 0.82922149 0.81262857 0.79982805 0.79062867 0.78447461\n",
            " 0.78057206 0.77803862 0.77603769 0.77388287 0.77110165 0.76745999\n",
            " 0.76295042 0.75775129 0.75216883 0.74656898 0.74131477 0.73671097\n",
            " 0.73296833 0.73018271 0.72833556 0.72730821 0.72690701 0.72689521\n",
            " 0.72702408 0.72706354 0.72682416 0.72617304 0.72503912 0.72341263\n",
            " 0.72133392 0.71888107 0.71615243 0.71325099 0.71026987 0.70728153\n",
            " 0.70433331 0.70144373 0.69860691 0.6957981  0.69298017 0.69011217\n",
            " 0.68715668 0.68408543 0.68088233 0.6775462  0.67408925 0.67053449\n",
            " 0.66691321 0.66325945 0.65960729 0.65598655]\n",
            "26 day output [[0.6524208]]\n",
            "27 day input [0.66089673 0.65515494 0.70970193 0.66452757 0.69437642 0.69218104\n",
            " 0.63569197 0.65266402 0.63780292 0.7267162  0.71388162 0.74191506\n",
            " 0.75002111 0.77222832 0.83049059 0.8194292  0.8289707  0.8125475\n",
            " 0.78776492 0.75162543 0.78426074 0.77974331 0.81326522 0.8141096\n",
            " 0.79473106 0.83336148 0.85898843 0.83901883 0.85628641 0.87486279\n",
            " 0.88782403 0.90095415 0.92793211 0.948535   0.93333615 0.91746179\n",
            " 0.92544119 0.91771511 0.9483239  0.94064004 0.96635143 0.9563033\n",
            " 0.96491598 0.92923492 0.91754711 0.89622027 0.87225574 0.84935719\n",
            " 0.82922149 0.81262857 0.79982805 0.79062867 0.78447461 0.78057206\n",
            " 0.77803862 0.77603769 0.77388287 0.77110165 0.76745999 0.76295042\n",
            " 0.75775129 0.75216883 0.74656898 0.74131477 0.73671097 0.73296833\n",
            " 0.73018271 0.72833556 0.72730821 0.72690701 0.72689521 0.72702408\n",
            " 0.72706354 0.72682416 0.72617304 0.72503912 0.72341263 0.72133392\n",
            " 0.71888107 0.71615243 0.71325099 0.71026987 0.70728153 0.70433331\n",
            " 0.70144373 0.69860691 0.6957981  0.69298017 0.69011217 0.68715668\n",
            " 0.68408543 0.68088233 0.6775462  0.67408925 0.67053449 0.66691321\n",
            " 0.66325945 0.65960729 0.65598655 0.65242082]\n",
            "27 day output [[0.64892584]]\n",
            "28 day input [0.65515494 0.70970193 0.66452757 0.69437642 0.69218104 0.63569197\n",
            " 0.65266402 0.63780292 0.7267162  0.71388162 0.74191506 0.75002111\n",
            " 0.77222832 0.83049059 0.8194292  0.8289707  0.8125475  0.78776492\n",
            " 0.75162543 0.78426074 0.77974331 0.81326522 0.8141096  0.79473106\n",
            " 0.83336148 0.85898843 0.83901883 0.85628641 0.87486279 0.88782403\n",
            " 0.90095415 0.92793211 0.948535   0.93333615 0.91746179 0.92544119\n",
            " 0.91771511 0.9483239  0.94064004 0.96635143 0.9563033  0.96491598\n",
            " 0.92923492 0.91754711 0.89622027 0.87225574 0.84935719 0.82922149\n",
            " 0.81262857 0.79982805 0.79062867 0.78447461 0.78057206 0.77803862\n",
            " 0.77603769 0.77388287 0.77110165 0.76745999 0.76295042 0.75775129\n",
            " 0.75216883 0.74656898 0.74131477 0.73671097 0.73296833 0.73018271\n",
            " 0.72833556 0.72730821 0.72690701 0.72689521 0.72702408 0.72706354\n",
            " 0.72682416 0.72617304 0.72503912 0.72341263 0.72133392 0.71888107\n",
            " 0.71615243 0.71325099 0.71026987 0.70728153 0.70433331 0.70144373\n",
            " 0.69860691 0.6957981  0.69298017 0.69011217 0.68715668 0.68408543\n",
            " 0.68088233 0.6775462  0.67408925 0.67053449 0.66691321 0.66325945\n",
            " 0.65960729 0.65598655 0.65242082 0.64892584]\n",
            "28 day output [[0.64550877]]\n",
            "29 day input [0.70970193 0.66452757 0.69437642 0.69218104 0.63569197 0.65266402\n",
            " 0.63780292 0.7267162  0.71388162 0.74191506 0.75002111 0.77222832\n",
            " 0.83049059 0.8194292  0.8289707  0.8125475  0.78776492 0.75162543\n",
            " 0.78426074 0.77974331 0.81326522 0.8141096  0.79473106 0.83336148\n",
            " 0.85898843 0.83901883 0.85628641 0.87486279 0.88782403 0.90095415\n",
            " 0.92793211 0.948535   0.93333615 0.91746179 0.92544119 0.91771511\n",
            " 0.9483239  0.94064004 0.96635143 0.9563033  0.96491598 0.92923492\n",
            " 0.91754711 0.89622027 0.87225574 0.84935719 0.82922149 0.81262857\n",
            " 0.79982805 0.79062867 0.78447461 0.78057206 0.77803862 0.77603769\n",
            " 0.77388287 0.77110165 0.76745999 0.76295042 0.75775129 0.75216883\n",
            " 0.74656898 0.74131477 0.73671097 0.73296833 0.73018271 0.72833556\n",
            " 0.72730821 0.72690701 0.72689521 0.72702408 0.72706354 0.72682416\n",
            " 0.72617304 0.72503912 0.72341263 0.72133392 0.71888107 0.71615243\n",
            " 0.71325099 0.71026987 0.70728153 0.70433331 0.70144373 0.69860691\n",
            " 0.6957981  0.69298017 0.69011217 0.68715668 0.68408543 0.68088233\n",
            " 0.6775462  0.67408925 0.67053449 0.66691321 0.66325945 0.65960729\n",
            " 0.65598655 0.65242082 0.64892584 0.64550877]\n",
            "29 day output [[0.6421701]]\n",
            "Future 30 days stock prices are:  [[0.726824164390564], [0.7261730432510376], [0.7250391244888306], [0.7234126329421997], [0.721333920955658], [0.7188810706138611], [0.7161524295806885], [0.713250994682312], [0.7102698683738708], [0.7072815299034119], [0.7043333053588867], [0.7014437317848206], [0.6986069083213806], [0.6957980990409851], [0.692980170249939], [0.6901121735572815], [0.6871566772460938], [0.6840854287147522], [0.6808823347091675], [0.6775462031364441], [0.674089252948761], [0.6705344915390015], [0.6669132113456726], [0.6632594466209412], [0.6596072912216187], [0.6559865474700928], [0.6524208188056946], [0.6489258408546448], [0.6455087661743164], [0.6421700716018677]]\n"
          ]
        }
      ]
    },
    {
      "cell_type": "code",
      "metadata": {
        "id": "I-7F69N3A-fa"
      },
      "source": [
        "#plotting the new predicted output\n",
        "day_new=np.arange(1,101)\n",
        "day_pred=np.arange(101,131)"
      ],
      "execution_count": null,
      "outputs": []
    },
    {
      "cell_type": "code",
      "metadata": {
        "colab": {
          "base_uri": "https://localhost:8080/"
        },
        "id": "H1mMr3DCCMYI",
        "outputId": "ee8c0510-acbd-45c1-9876-10301783667b"
      },
      "source": [
        "len(df1)"
      ],
      "execution_count": null,
      "outputs": [
        {
          "output_type": "execute_result",
          "data": {
            "text/plain": [
              "1258"
            ]
          },
          "metadata": {},
          "execution_count": 57
        }
      ]
    },
    {
      "cell_type": "code",
      "metadata": {
        "colab": {
          "base_uri": "https://localhost:8080/",
          "height": 282
        },
        "id": "wCRaISevCPvV",
        "outputId": "58810c77-36ee-4cd6-cdf6-3a466ff5ce4a"
      },
      "source": [
        "#plotting the future 30 days output with last 100 days input data\n",
        "plt.plot(day_new,scaler.inverse_transform(df1[1158:]))\n",
        "plt.plot(day_pred,scaler.inverse_transform(lst_output))"
      ],
      "execution_count": null,
      "outputs": [
        {
          "output_type": "execute_result",
          "data": {
            "text/plain": [
              "[<matplotlib.lines.Line2D at 0x7fbd6340c850>]"
            ]
          },
          "metadata": {},
          "execution_count": 58
        },
        {
          "output_type": "display_data",
          "data": {
            "image/png": "[encoded data removed]",
            "text/plain": [
              "<Figure size 432x288 with 1 Axes>"
            ]
          },
          "metadata": {
            "needs_background": "light"
          }
        }
      ]
    },
    {
      "cell_type": "code",
      "metadata": {
        "colab": {
          "base_uri": "https://localhost:8080/",
          "height": 282
        },
        "id": "H119XBn-Ceab",
        "outputId": "1757728f-6d98-4ec3-d4e3-bd4c3c22d47d"
      },
      "source": [
        "#combining df1 with the future predicted output\n",
        "df3=df1.tolist()\n",
        "df3.extend(lst_output)\n",
        "plt.plot(df3[1200:])"
      ],
      "execution_count": null,
      "outputs": [
        {
          "output_type": "execute_result",
          "data": {
            "text/plain": [
              "[<matplotlib.lines.Line2D at 0x7fbd89a2d390>]"
            ]
          },
          "metadata": {},
          "execution_count": 59
        },
        {
          "output_type": "display_data",
          "data": {
            "image/png": "[encoded data removed]",
            "text/plain": [
              "<Figure size 432x288 with 1 Axes>"
            ]
          },
          "metadata": {
            "needs_background": "light"
          }
        }
      ]
    },
    {
      "cell_type": "code",
      "metadata": {
        "id": "ZtxohoeOCkmc"
      },
      "source": [
        "#plotting the entire dataset and future 30 days results in a single plot\n",
        "df3=scaler.inverse_transform(df3).tolist()"
      ],
      "execution_count": null,
      "outputs": []
    },
    {
      "cell_type": "code",
      "metadata": {
        "colab": {
          "base_uri": "https://localhost:8080/",
          "height": 282
        },
        "id": "d537DpvACn7k",
        "outputId": "adab2b05-c14c-4528-811d-0c6109394f85"
      },
      "source": [
        "plt.plot(df3)"
      ],
      "execution_count": null,
      "outputs": [
        {
          "output_type": "execute_result",
          "data": {
            "text/plain": [
              "[<matplotlib.lines.Line2D at 0x7fbd63466490>]"
            ]
          },
          "metadata": {},
          "execution_count": 61
        },
        {
          "output_type": "display_data",
          "data": {
            "image/png": "[encoded data removed]",
            "text/plain": [
              "<Figure size 432x288 with 1 Axes>"
            ]
          },
          "metadata": {
            "needs_background": "light"
          }
        }
      ]
    }
  ]
}