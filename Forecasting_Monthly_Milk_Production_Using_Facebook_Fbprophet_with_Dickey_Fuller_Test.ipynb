{
  "nbformat": 4,
  "nbformat_minor": 0,
  "metadata": {
    "colab": {
      "name": "Forecasting Monthly Milk Production Using Facebook Fbprophet with Dickey-Fuller Test.ipynb",
      "provenance": [],
      "authorship_tag": "ABX9TyPw9+0fh18c9gZNEabYhhYy",
      "include_colab_link": true
    },
    "kernelspec": {
      "name": "python3",
      "display_name": "Python 3"
    },
    "language_info": {
      "name": "python"
    },
    "widgets": {
      "application/vnd.jupyter.widget-state+json": {
        "3d9e3bdbdb0c4abeb09f6b9037ded028": {
          "model_module": "@jupyter-widgets/controls",
          "model_name": "HBoxModel",
          "model_module_version": "1.5.0",
          "state": {
            "_view_name": "HBoxView",
            "_dom_classes": [],
            "_model_name": "HBoxModel",
            "_view_module": "@jupyter-widgets/controls",
            "_model_module_version": "1.5.0",
            "_view_count": null,
            "_view_module_version": "1.5.0",
            "box_style": "",
            "layout": "IPY_MODEL_8c014768e29347dab0972a44b336da87",
            "_model_module": "@jupyter-widgets/controls",
            "children": [
              "IPY_MODEL_84f1865d119e45e68ab340df6e39e235",
              "IPY_MODEL_ed457ab0d5394abdb3be909343a4c6fd",
              "IPY_MODEL_37d839e36d1e4074911e25008b94d2c6"
            ]
          }
        },
        "8c014768e29347dab0972a44b336da87": {
          "model_module": "@jupyter-widgets/base",
          "model_name": "LayoutModel",
          "model_module_version": "1.2.0",
          "state": {
            "_view_name": "LayoutView",
            "grid_template_rows": null,
            "right": null,
            "justify_content": null,
            "_view_module": "@jupyter-widgets/base",
            "overflow": null,
            "_model_module_version": "1.2.0",
            "_view_count": null,
            "flex_flow": null,
            "width": null,
            "min_width": null,
            "border": null,
            "align_items": null,
            "bottom": null,
            "_model_module": "@jupyter-widgets/base",
            "top": null,
            "grid_column": null,
            "overflow_y": null,
            "overflow_x": null,
            "grid_auto_flow": null,
            "grid_area": null,
            "grid_template_columns": null,
            "flex": null,
            "_model_name": "LayoutModel",
            "justify_items": null,
            "grid_row": null,
            "max_height": null,
            "align_content": null,
            "visibility": null,
            "align_self": null,
            "height": null,
            "min_height": null,
            "padding": null,
            "grid_auto_rows": null,
            "grid_gap": null,
            "max_width": null,
            "order": null,
            "_view_module_version": "1.2.0",
            "grid_template_areas": null,
            "object_position": null,
            "object_fit": null,
            "grid_auto_columns": null,
            "margin": null,
            "display": null,
            "left": null
          }
        },
        "84f1865d119e45e68ab340df6e39e235": {
          "model_module": "@jupyter-widgets/controls",
          "model_name": "HTMLModel",
          "model_module_version": "1.5.0",
          "state": {
            "_view_name": "HTMLView",
            "style": "IPY_MODEL_68af19ee37af4fcc86544ccda4625c25",
            "_dom_classes": [],
            "description": "",
            "_model_name": "HTMLModel",
            "placeholder": "​",
            "_view_module": "@jupyter-widgets/controls",
            "_model_module_version": "1.5.0",
            "value": "100%",
            "_view_count": null,
            "_view_module_version": "1.5.0",
            "description_tooltip": null,
            "_model_module": "@jupyter-widgets/controls",
            "layout": "IPY_MODEL_3349c85bb0524f79a32f550dc52df8b6"
          }
        },
        "ed457ab0d5394abdb3be909343a4c6fd": {
          "model_module": "@jupyter-widgets/controls",
          "model_name": "FloatProgressModel",
          "model_module_version": "1.5.0",
          "state": {
            "_view_name": "ProgressView",
            "style": "IPY_MODEL_8f5cc10584a44d6daf4e47c39b33de9b",
            "_dom_classes": [],
            "description": "",
            "_model_name": "FloatProgressModel",
            "bar_style": "success",
            "max": 20,
            "_view_module": "@jupyter-widgets/controls",
            "_model_module_version": "1.5.0",
            "value": 20,
            "_view_count": null,
            "_view_module_version": "1.5.0",
            "orientation": "horizontal",
            "min": 0,
            "description_tooltip": null,
            "_model_module": "@jupyter-widgets/controls",
            "layout": "IPY_MODEL_0456844f0c4f477e9c077eff8db9f0d9"
          }
        },
        "37d839e36d1e4074911e25008b94d2c6": {
          "model_module": "@jupyter-widgets/controls",
          "model_name": "HTMLModel",
          "model_module_version": "1.5.0",
          "state": {
            "_view_name": "HTMLView",
            "style": "IPY_MODEL_db64a10802ba41cab45a2907f3431f9d",
            "_dom_classes": [],
            "description": "",
            "_model_name": "HTMLModel",
            "placeholder": "​",
            "_view_module": "@jupyter-widgets/controls",
            "_model_module_version": "1.5.0",
            "value": " 20/20 [00:49&lt;00:00,  1.96s/it]",
            "_view_count": null,
            "_view_module_version": "1.5.0",
            "description_tooltip": null,
            "_model_module": "@jupyter-widgets/controls",
            "layout": "IPY_MODEL_6720b578b1ad4dc79f5085114c51fdad"
          }
        },
        "68af19ee37af4fcc86544ccda4625c25": {
          "model_module": "@jupyter-widgets/controls",
          "model_name": "DescriptionStyleModel",
          "model_module_version": "1.5.0",
          "state": {
            "_view_name": "StyleView",
            "_model_name": "DescriptionStyleModel",
            "description_width": "",
            "_view_module": "@jupyter-widgets/base",
            "_model_module_version": "1.5.0",
            "_view_count": null,
            "_view_module_version": "1.2.0",
            "_model_module": "@jupyter-widgets/controls"
          }
        },
        "3349c85bb0524f79a32f550dc52df8b6": {
          "model_module": "@jupyter-widgets/base",
          "model_name": "LayoutModel",
          "model_module_version": "1.2.0",
          "state": {
            "_view_name": "LayoutView",
            "grid_template_rows": null,
            "right": null,
            "justify_content": null,
            "_view_module": "@jupyter-widgets/base",
            "overflow": null,
            "_model_module_version": "1.2.0",
            "_view_count": null,
            "flex_flow": null,
            "width": null,
            "min_width": null,
            "border": null,
            "align_items": null,
            "bottom": null,
            "_model_module": "@jupyter-widgets/base",
            "top": null,
            "grid_column": null,
            "overflow_y": null,
            "overflow_x": null,
            "grid_auto_flow": null,
            "grid_area": null,
            "grid_template_columns": null,
            "flex": null,
            "_model_name": "LayoutModel",
            "justify_items": null,
            "grid_row": null,
            "max_height": null,
            "align_content": null,
            "visibility": null,
            "align_self": null,
            "height": null,
            "min_height": null,
            "padding": null,
            "grid_auto_rows": null,
            "grid_gap": null,
            "max_width": null,
            "order": null,
            "_view_module_version": "1.2.0",
            "grid_template_areas": null,
            "object_position": null,
            "object_fit": null,
            "grid_auto_columns": null,
            "margin": null,
            "display": null,
            "left": null
          }
        },
        "8f5cc10584a44d6daf4e47c39b33de9b": {
          "model_module": "@jupyter-widgets/controls",
          "model_name": "ProgressStyleModel",
          "model_module_version": "1.5.0",
          "state": {
            "_view_name": "StyleView",
            "_model_name": "ProgressStyleModel",
            "description_width": "",
            "_view_module": "@jupyter-widgets/base",
            "_model_module_version": "1.5.0",
            "_view_count": null,
            "_view_module_version": "1.2.0",
            "bar_color": null,
            "_model_module": "@jupyter-widgets/controls"
          }
        },
        "0456844f0c4f477e9c077eff8db9f0d9": {
          "model_module": "@jupyter-widgets/base",
          "model_name": "LayoutModel",
          "model_module_version": "1.2.0",
          "state": {
            "_view_name": "LayoutView",
            "grid_template_rows": null,
            "right": null,
            "justify_content": null,
            "_view_module": "@jupyter-widgets/base",
            "overflow": null,
            "_model_module_version": "1.2.0",
            "_view_count": null,
            "flex_flow": null,
            "width": null,
            "min_width": null,
            "border": null,
            "align_items": null,
            "bottom": null,
            "_model_module": "@jupyter-widgets/base",
            "top": null,
            "grid_column": null,
            "overflow_y": null,
            "overflow_x": null,
            "grid_auto_flow": null,
            "grid_area": null,
            "grid_template_columns": null,
            "flex": null,
            "_model_name": "LayoutModel",
            "justify_items": null,
            "grid_row": null,
            "max_height": null,
            "align_content": null,
            "visibility": null,
            "align_self": null,
            "height": null,
            "min_height": null,
            "padding": null,
            "grid_auto_rows": null,
            "grid_gap": null,
            "max_width": null,
            "order": null,
            "_view_module_version": "1.2.0",
            "grid_template_areas": null,
            "object_position": null,
            "object_fit": null,
            "grid_auto_columns": null,
            "margin": null,
            "display": null,
            "left": null
          }
        },
        "db64a10802ba41cab45a2907f3431f9d": {
          "model_module": "@jupyter-widgets/controls",
          "model_name": "DescriptionStyleModel",
          "model_module_version": "1.5.0",
          "state": {
            "_view_name": "StyleView",
            "_model_name": "DescriptionStyleModel",
            "description_width": "",
            "_view_module": "@jupyter-widgets/base",
            "_model_module_version": "1.5.0",
            "_view_count": null,
            "_view_module_version": "1.2.0",
            "_model_module": "@jupyter-widgets/controls"
          }
        },
        "6720b578b1ad4dc79f5085114c51fdad": {
          "model_module": "@jupyter-widgets/base",
          "model_name": "LayoutModel",
          "model_module_version": "1.2.0",
          "state": {
            "_view_name": "LayoutView",
            "grid_template_rows": null,
            "right": null,
            "justify_content": null,
            "_view_module": "@jupyter-widgets/base",
            "overflow": null,
            "_model_module_version": "1.2.0",
            "_view_count": null,
            "flex_flow": null,
            "width": null,
            "min_width": null,
            "border": null,
            "align_items": null,
            "bottom": null,
            "_model_module": "@jupyter-widgets/base",
            "top": null,
            "grid_column": null,
            "overflow_y": null,
            "overflow_x": null,
            "grid_auto_flow": null,
            "grid_area": null,
            "grid_template_columns": null,
            "flex": null,
            "_model_name": "LayoutModel",
            "justify_items": null,
            "grid_row": null,
            "max_height": null,
            "align_content": null,
            "visibility": null,
            "align_self": null,
            "height": null,
            "min_height": null,
            "padding": null,
            "grid_auto_rows": null,
            "grid_gap": null,
            "max_width": null,
            "order": null,
            "_view_module_version": "1.2.0",
            "grid_template_areas": null,
            "object_position": null,
            "object_fit": null,
            "grid_auto_columns": null,
            "margin": null,
            "display": null,
            "left": null
          }
        }
      }
    }
  },
  "cells": [
    {
      "cell_type": "markdown",
      "metadata": {
        "id": "view-in-github",
        "colab_type": "text"
      },
      "source": [
        "<a href=\"https://colab.research.google.com/github/feniltailor22/Time-Series-Analysis/blob/main/Forecasting_Monthly_Milk_Production_Using_Facebook_Fbprophet_with_Dickey_Fuller_Test.ipynb\" target=\"_parent\"><img src=\"https://colab.research.google.com/assets/colab-badge.svg\" alt=\"Open In Colab\"/></a>"
      ]
    },
    {
      "cell_type": "markdown",
      "source": [
        "Forecasting Timeseries Data Using Facebook FbProphet\n",
        "\n",
        "1. Installating FbProphet\n",
        "2. Data Preprocessing With Time Seires\n",
        "3. Model Fitting\n",
        "4. Obtaining The Forecasts\n",
        "5. Plotting The Forecasts\n",
        "6. Cross Validation\n",
        "7. Computing Performance Metrics\n",
        "8. Visualize the Performance MEtrics\n",
        "9. Conclusions"
      ],
      "metadata": {
        "id": "3fp55hDavsi_"
      }
    },
    {
      "cell_type": "code",
      "execution_count": null,
      "metadata": {
        "id": "MkZgJeeLjvlT"
      },
      "outputs": [],
      "source": [
        "import numpy as np\n",
        "import pandas as pd\n",
        "import matplotlib.pyplot as plt\n",
        "import fbprophet"
      ]
    },
    {
      "cell_type": "code",
      "source": [
        "df= pd.read_csv('monthly-milk-production-pounds.csv')"
      ],
      "metadata": {
        "id": "ezQa1TGjj1vQ"
      },
      "execution_count": null,
      "outputs": []
    },
    {
      "cell_type": "code",
      "source": [
        "df.head()"
      ],
      "metadata": {
        "colab": {
          "base_uri": "https://localhost:8080/",
          "height": 206
        },
        "id": "_tIBd60mj3E3",
        "outputId": "5dd1edc3-bcd8-4f57-8c6d-3cb438024658"
      },
      "execution_count": null,
      "outputs": [
        {
          "output_type": "execute_result",
          "data": {
            "text/html": [
              "\n",
              "  <div id=\"df-1cccc256-984f-41a0-a7f6-5058e4cb8b33\">\n",
              "    <div class=\"colab-df-container\">\n",
              "      <div>\n",
              "<style scoped>\n",
              "    .dataframe tbody tr th:only-of-type {\n",
              "        vertical-align: middle;\n",
              "    }\n",
              "\n",
              "    .dataframe tbody tr th {\n",
              "        vertical-align: top;\n",
              "    }\n",
              "\n",
              "    .dataframe thead th {\n",
              "        text-align: right;\n",
              "    }\n",
              "</style>\n",
              "<table border=\"1\" class=\"dataframe\">\n",
              "  <thead>\n",
              "    <tr style=\"text-align: right;\">\n",
              "      <th></th>\n",
              "      <th>Month</th>\n",
              "      <th>Monthly milk production: pounds per cow. Jan 62 ? Dec 75</th>\n",
              "    </tr>\n",
              "  </thead>\n",
              "  <tbody>\n",
              "    <tr>\n",
              "      <th>0</th>\n",
              "      <td>1962-01</td>\n",
              "      <td>589.0</td>\n",
              "    </tr>\n",
              "    <tr>\n",
              "      <th>1</th>\n",
              "      <td>1962-02</td>\n",
              "      <td>561.0</td>\n",
              "    </tr>\n",
              "    <tr>\n",
              "      <th>2</th>\n",
              "      <td>1962-03</td>\n",
              "      <td>640.0</td>\n",
              "    </tr>\n",
              "    <tr>\n",
              "      <th>3</th>\n",
              "      <td>1962-04</td>\n",
              "      <td>656.0</td>\n",
              "    </tr>\n",
              "    <tr>\n",
              "      <th>4</th>\n",
              "      <td>1962-05</td>\n",
              "      <td>727.0</td>\n",
              "    </tr>\n",
              "  </tbody>\n",
              "</table>\n",
              "</div>\n",
              "      <button class=\"colab-df-convert\" onclick=\"convertToInteractive('df-1cccc256-984f-41a0-a7f6-5058e4cb8b33')\"\n",
              "              title=\"Convert this dataframe to an interactive table.\"\n",
              "              style=\"display:none;\">\n",
              "        \n",
              "  <svg xmlns=\"http://www.w3.org/2000/svg\" height=\"24px\"viewBox=\"0 0 24 24\"\n",
              "       width=\"24px\">\n",
              "    <path d=\"M0 0h24v24H0V0z\" fill=\"none\"/>\n",
              "    <path d=\"M18.56 5.44l.94 2.06.94-2.06 2.06-.94-2.06-.94-.94-2.06-.94 2.06-2.06.94zm-11 1L8.5 8.5l.94-2.06 2.06-.94-2.06-.94L8.5 2.5l-.94 2.06-2.06.94zm10 10l.94 2.06.94-2.06 2.06-.94-2.06-.94-.94-2.06-.94 2.06-2.06.94z\"/><path d=\"M17.41 7.96l-1.37-1.37c-.4-.4-.92-.59-1.43-.59-.52 0-1.04.2-1.43.59L10.3 9.45l-7.72 7.72c-.78.78-.78 2.05 0 2.83L4 21.41c.39.39.9.59 1.41.59.51 0 1.02-.2 1.41-.59l7.78-7.78 2.81-2.81c.8-.78.8-2.07 0-2.86zM5.41 20L4 18.59l7.72-7.72 1.47 1.35L5.41 20z\"/>\n",
              "  </svg>\n",
              "      </button>\n",
              "      \n",
              "  <style>\n",
              "    .colab-df-container {\n",
              "      display:flex;\n",
              "      flex-wrap:wrap;\n",
              "      gap: 12px;\n",
              "    }\n",
              "\n",
              "    .colab-df-convert {\n",
              "      background-color: #E8F0FE;\n",
              "      border: none;\n",
              "      border-radius: 50%;\n",
              "      cursor: pointer;\n",
              "      display: none;\n",
              "      fill: #1967D2;\n",
              "      height: 32px;\n",
              "      padding: 0 0 0 0;\n",
              "      width: 32px;\n",
              "    }\n",
              "\n",
              "    .colab-df-convert:hover {\n",
              "      background-color: #E2EBFA;\n",
              "      box-shadow: 0px 1px 2px rgba(60, 64, 67, 0.3), 0px 1px 3px 1px rgba(60, 64, 67, 0.15);\n",
              "      fill: #174EA6;\n",
              "    }\n",
              "\n",
              "    [theme=dark] .colab-df-convert {\n",
              "      background-color: #3B4455;\n",
              "      fill: #D2E3FC;\n",
              "    }\n",
              "\n",
              "    [theme=dark] .colab-df-convert:hover {\n",
              "      background-color: #434B5C;\n",
              "      box-shadow: 0px 1px 3px 1px rgba(0, 0, 0, 0.15);\n",
              "      filter: drop-shadow(0px 1px 2px rgba(0, 0, 0, 0.3));\n",
              "      fill: #FFFFFF;\n",
              "    }\n",
              "  </style>\n",
              "\n",
              "      <script>\n",
              "        const buttonEl =\n",
              "          document.querySelector('#df-1cccc256-984f-41a0-a7f6-5058e4cb8b33 button.colab-df-convert');\n",
              "        buttonEl.style.display =\n",
              "          google.colab.kernel.accessAllowed ? 'block' : 'none';\n",
              "\n",
              "        async function convertToInteractive(key) {\n",
              "          const element = document.querySelector('#df-1cccc256-984f-41a0-a7f6-5058e4cb8b33');\n",
              "          const dataTable =\n",
              "            await google.colab.kernel.invokeFunction('convertToInteractive',\n",
              "                                                     [key], {});\n",
              "          if (!dataTable) return;\n",
              "\n",
              "          const docLinkHtml = 'Like what you see? Visit the ' +\n",
              "            '<a target=\"_blank\" href=https://colab.research.google.com/notebooks/data_table.ipynb>data table notebook</a>'\n",
              "            + ' to learn more about interactive tables.';\n",
              "          element.innerHTML = '';\n",
              "          dataTable['output_type'] = 'display_data';\n",
              "          await google.colab.output.renderOutput(dataTable, element);\n",
              "          const docLink = document.createElement('div');\n",
              "          docLink.innerHTML = docLinkHtml;\n",
              "          element.appendChild(docLink);\n",
              "        }\n",
              "      </script>\n",
              "    </div>\n",
              "  </div>\n",
              "  "
            ],
            "text/plain": [
              "     Month  Monthly milk production: pounds per cow. Jan 62 ? Dec 75\n",
              "0  1962-01                                              589.0       \n",
              "1  1962-02                                              561.0       \n",
              "2  1962-03                                              640.0       \n",
              "3  1962-04                                              656.0       \n",
              "4  1962-05                                              727.0       "
            ]
          },
          "metadata": {},
          "execution_count": 3
        }
      ]
    },
    {
      "cell_type": "code",
      "source": [
        "df.tail()"
      ],
      "metadata": {
        "colab": {
          "base_uri": "https://localhost:8080/",
          "height": 206
        },
        "id": "HURUyRKWj49_",
        "outputId": "089c36b8-1a83-47d3-da80-9dcb1ca39452"
      },
      "execution_count": null,
      "outputs": [
        {
          "output_type": "execute_result",
          "data": {
            "text/html": [
              "\n",
              "  <div id=\"df-9c5ec2c9-d27e-4c89-ae75-1d7896775937\">\n",
              "    <div class=\"colab-df-container\">\n",
              "      <div>\n",
              "<style scoped>\n",
              "    .dataframe tbody tr th:only-of-type {\n",
              "        vertical-align: middle;\n",
              "    }\n",
              "\n",
              "    .dataframe tbody tr th {\n",
              "        vertical-align: top;\n",
              "    }\n",
              "\n",
              "    .dataframe thead th {\n",
              "        text-align: right;\n",
              "    }\n",
              "</style>\n",
              "<table border=\"1\" class=\"dataframe\">\n",
              "  <thead>\n",
              "    <tr style=\"text-align: right;\">\n",
              "      <th></th>\n",
              "      <th>Month</th>\n",
              "      <th>Monthly milk production: pounds per cow. Jan 62 ? Dec 75</th>\n",
              "    </tr>\n",
              "  </thead>\n",
              "  <tbody>\n",
              "    <tr>\n",
              "      <th>164</th>\n",
              "      <td>1975-09</td>\n",
              "      <td>817.0</td>\n",
              "    </tr>\n",
              "    <tr>\n",
              "      <th>165</th>\n",
              "      <td>1975-10</td>\n",
              "      <td>827.0</td>\n",
              "    </tr>\n",
              "    <tr>\n",
              "      <th>166</th>\n",
              "      <td>1975-11</td>\n",
              "      <td>797.0</td>\n",
              "    </tr>\n",
              "    <tr>\n",
              "      <th>167</th>\n",
              "      <td>1975-12</td>\n",
              "      <td>843.0</td>\n",
              "    </tr>\n",
              "    <tr>\n",
              "      <th>168</th>\n",
              "      <td>Monthly milk production: pounds per cow. Jan 6...</td>\n",
              "      <td>NaN</td>\n",
              "    </tr>\n",
              "  </tbody>\n",
              "</table>\n",
              "</div>\n",
              "      <button class=\"colab-df-convert\" onclick=\"convertToInteractive('df-9c5ec2c9-d27e-4c89-ae75-1d7896775937')\"\n",
              "              title=\"Convert this dataframe to an interactive table.\"\n",
              "              style=\"display:none;\">\n",
              "        \n",
              "  <svg xmlns=\"http://www.w3.org/2000/svg\" height=\"24px\"viewBox=\"0 0 24 24\"\n",
              "       width=\"24px\">\n",
              "    <path d=\"M0 0h24v24H0V0z\" fill=\"none\"/>\n",
              "    <path d=\"M18.56 5.44l.94 2.06.94-2.06 2.06-.94-2.06-.94-.94-2.06-.94 2.06-2.06.94zm-11 1L8.5 8.5l.94-2.06 2.06-.94-2.06-.94L8.5 2.5l-.94 2.06-2.06.94zm10 10l.94 2.06.94-2.06 2.06-.94-2.06-.94-.94-2.06-.94 2.06-2.06.94z\"/><path d=\"M17.41 7.96l-1.37-1.37c-.4-.4-.92-.59-1.43-.59-.52 0-1.04.2-1.43.59L10.3 9.45l-7.72 7.72c-.78.78-.78 2.05 0 2.83L4 21.41c.39.39.9.59 1.41.59.51 0 1.02-.2 1.41-.59l7.78-7.78 2.81-2.81c.8-.78.8-2.07 0-2.86zM5.41 20L4 18.59l7.72-7.72 1.47 1.35L5.41 20z\"/>\n",
              "  </svg>\n",
              "      </button>\n",
              "      \n",
              "  <style>\n",
              "    .colab-df-container {\n",
              "      display:flex;\n",
              "      flex-wrap:wrap;\n",
              "      gap: 12px;\n",
              "    }\n",
              "\n",
              "    .colab-df-convert {\n",
              "      background-color: #E8F0FE;\n",
              "      border: none;\n",
              "      border-radius: 50%;\n",
              "      cursor: pointer;\n",
              "      display: none;\n",
              "      fill: #1967D2;\n",
              "      height: 32px;\n",
              "      padding: 0 0 0 0;\n",
              "      width: 32px;\n",
              "    }\n",
              "\n",
              "    .colab-df-convert:hover {\n",
              "      background-color: #E2EBFA;\n",
              "      box-shadow: 0px 1px 2px rgba(60, 64, 67, 0.3), 0px 1px 3px 1px rgba(60, 64, 67, 0.15);\n",
              "      fill: #174EA6;\n",
              "    }\n",
              "\n",
              "    [theme=dark] .colab-df-convert {\n",
              "      background-color: #3B4455;\n",
              "      fill: #D2E3FC;\n",
              "    }\n",
              "\n",
              "    [theme=dark] .colab-df-convert:hover {\n",
              "      background-color: #434B5C;\n",
              "      box-shadow: 0px 1px 3px 1px rgba(0, 0, 0, 0.15);\n",
              "      filter: drop-shadow(0px 1px 2px rgba(0, 0, 0, 0.3));\n",
              "      fill: #FFFFFF;\n",
              "    }\n",
              "  </style>\n",
              "\n",
              "      <script>\n",
              "        const buttonEl =\n",
              "          document.querySelector('#df-9c5ec2c9-d27e-4c89-ae75-1d7896775937 button.colab-df-convert');\n",
              "        buttonEl.style.display =\n",
              "          google.colab.kernel.accessAllowed ? 'block' : 'none';\n",
              "\n",
              "        async function convertToInteractive(key) {\n",
              "          const element = document.querySelector('#df-9c5ec2c9-d27e-4c89-ae75-1d7896775937');\n",
              "          const dataTable =\n",
              "            await google.colab.kernel.invokeFunction('convertToInteractive',\n",
              "                                                     [key], {});\n",
              "          if (!dataTable) return;\n",
              "\n",
              "          const docLinkHtml = 'Like what you see? Visit the ' +\n",
              "            '<a target=\"_blank\" href=https://colab.research.google.com/notebooks/data_table.ipynb>data table notebook</a>'\n",
              "            + ' to learn more about interactive tables.';\n",
              "          element.innerHTML = '';\n",
              "          dataTable['output_type'] = 'display_data';\n",
              "          await google.colab.output.renderOutput(dataTable, element);\n",
              "          const docLink = document.createElement('div');\n",
              "          docLink.innerHTML = docLinkHtml;\n",
              "          element.appendChild(docLink);\n",
              "        }\n",
              "      </script>\n",
              "    </div>\n",
              "  </div>\n",
              "  "
            ],
            "text/plain": [
              "                                                 Month  Monthly milk production: pounds per cow. Jan 62 ? Dec 75\n",
              "164                                            1975-09                                              817.0       \n",
              "165                                            1975-10                                              827.0       \n",
              "166                                            1975-11                                              797.0       \n",
              "167                                            1975-12                                              843.0       \n",
              "168  Monthly milk production: pounds per cow. Jan 6...                                                NaN       "
            ]
          },
          "metadata": {},
          "execution_count": 4
        }
      ]
    },
    {
      "cell_type": "code",
      "source": [
        "#dropping last row as it is a bad data\n",
        "df.drop(168,axis=0, inplace=True)"
      ],
      "metadata": {
        "id": "NyAoeAzxj7WX"
      },
      "execution_count": null,
      "outputs": []
    },
    {
      "cell_type": "code",
      "source": [
        "df.columns=['ds','y']"
      ],
      "metadata": {
        "id": "3XGxvYX6j8y3"
      },
      "execution_count": null,
      "outputs": []
    },
    {
      "cell_type": "code",
      "source": [
        "df.head()"
      ],
      "metadata": {
        "colab": {
          "base_uri": "https://localhost:8080/",
          "height": 206
        },
        "id": "5u-7lR4Nj-F3",
        "outputId": "05d9b9cf-a014-4d18-c504-f4a21d49e201"
      },
      "execution_count": null,
      "outputs": [
        {
          "output_type": "execute_result",
          "data": {
            "text/html": [
              "\n",
              "  <div id=\"df-ec2a8a8c-014f-488a-aaae-4d6912335f7b\">\n",
              "    <div class=\"colab-df-container\">\n",
              "      <div>\n",
              "<style scoped>\n",
              "    .dataframe tbody tr th:only-of-type {\n",
              "        vertical-align: middle;\n",
              "    }\n",
              "\n",
              "    .dataframe tbody tr th {\n",
              "        vertical-align: top;\n",
              "    }\n",
              "\n",
              "    .dataframe thead th {\n",
              "        text-align: right;\n",
              "    }\n",
              "</style>\n",
              "<table border=\"1\" class=\"dataframe\">\n",
              "  <thead>\n",
              "    <tr style=\"text-align: right;\">\n",
              "      <th></th>\n",
              "      <th>ds</th>\n",
              "      <th>y</th>\n",
              "    </tr>\n",
              "  </thead>\n",
              "  <tbody>\n",
              "    <tr>\n",
              "      <th>0</th>\n",
              "      <td>1962-01</td>\n",
              "      <td>589.0</td>\n",
              "    </tr>\n",
              "    <tr>\n",
              "      <th>1</th>\n",
              "      <td>1962-02</td>\n",
              "      <td>561.0</td>\n",
              "    </tr>\n",
              "    <tr>\n",
              "      <th>2</th>\n",
              "      <td>1962-03</td>\n",
              "      <td>640.0</td>\n",
              "    </tr>\n",
              "    <tr>\n",
              "      <th>3</th>\n",
              "      <td>1962-04</td>\n",
              "      <td>656.0</td>\n",
              "    </tr>\n",
              "    <tr>\n",
              "      <th>4</th>\n",
              "      <td>1962-05</td>\n",
              "      <td>727.0</td>\n",
              "    </tr>\n",
              "  </tbody>\n",
              "</table>\n",
              "</div>\n",
              "      <button class=\"colab-df-convert\" onclick=\"convertToInteractive('df-ec2a8a8c-014f-488a-aaae-4d6912335f7b')\"\n",
              "              title=\"Convert this dataframe to an interactive table.\"\n",
              "              style=\"display:none;\">\n",
              "        \n",
              "  <svg xmlns=\"http://www.w3.org/2000/svg\" height=\"24px\"viewBox=\"0 0 24 24\"\n",
              "       width=\"24px\">\n",
              "    <path d=\"M0 0h24v24H0V0z\" fill=\"none\"/>\n",
              "    <path d=\"M18.56 5.44l.94 2.06.94-2.06 2.06-.94-2.06-.94-.94-2.06-.94 2.06-2.06.94zm-11 1L8.5 8.5l.94-2.06 2.06-.94-2.06-.94L8.5 2.5l-.94 2.06-2.06.94zm10 10l.94 2.06.94-2.06 2.06-.94-2.06-.94-.94-2.06-.94 2.06-2.06.94z\"/><path d=\"M17.41 7.96l-1.37-1.37c-.4-.4-.92-.59-1.43-.59-.52 0-1.04.2-1.43.59L10.3 9.45l-7.72 7.72c-.78.78-.78 2.05 0 2.83L4 21.41c.39.39.9.59 1.41.59.51 0 1.02-.2 1.41-.59l7.78-7.78 2.81-2.81c.8-.78.8-2.07 0-2.86zM5.41 20L4 18.59l7.72-7.72 1.47 1.35L5.41 20z\"/>\n",
              "  </svg>\n",
              "      </button>\n",
              "      \n",
              "  <style>\n",
              "    .colab-df-container {\n",
              "      display:flex;\n",
              "      flex-wrap:wrap;\n",
              "      gap: 12px;\n",
              "    }\n",
              "\n",
              "    .colab-df-convert {\n",
              "      background-color: #E8F0FE;\n",
              "      border: none;\n",
              "      border-radius: 50%;\n",
              "      cursor: pointer;\n",
              "      display: none;\n",
              "      fill: #1967D2;\n",
              "      height: 32px;\n",
              "      padding: 0 0 0 0;\n",
              "      width: 32px;\n",
              "    }\n",
              "\n",
              "    .colab-df-convert:hover {\n",
              "      background-color: #E2EBFA;\n",
              "      box-shadow: 0px 1px 2px rgba(60, 64, 67, 0.3), 0px 1px 3px 1px rgba(60, 64, 67, 0.15);\n",
              "      fill: #174EA6;\n",
              "    }\n",
              "\n",
              "    [theme=dark] .colab-df-convert {\n",
              "      background-color: #3B4455;\n",
              "      fill: #D2E3FC;\n",
              "    }\n",
              "\n",
              "    [theme=dark] .colab-df-convert:hover {\n",
              "      background-color: #434B5C;\n",
              "      box-shadow: 0px 1px 3px 1px rgba(0, 0, 0, 0.15);\n",
              "      filter: drop-shadow(0px 1px 2px rgba(0, 0, 0, 0.3));\n",
              "      fill: #FFFFFF;\n",
              "    }\n",
              "  </style>\n",
              "\n",
              "      <script>\n",
              "        const buttonEl =\n",
              "          document.querySelector('#df-ec2a8a8c-014f-488a-aaae-4d6912335f7b button.colab-df-convert');\n",
              "        buttonEl.style.display =\n",
              "          google.colab.kernel.accessAllowed ? 'block' : 'none';\n",
              "\n",
              "        async function convertToInteractive(key) {\n",
              "          const element = document.querySelector('#df-ec2a8a8c-014f-488a-aaae-4d6912335f7b');\n",
              "          const dataTable =\n",
              "            await google.colab.kernel.invokeFunction('convertToInteractive',\n",
              "                                                     [key], {});\n",
              "          if (!dataTable) return;\n",
              "\n",
              "          const docLinkHtml = 'Like what you see? Visit the ' +\n",
              "            '<a target=\"_blank\" href=https://colab.research.google.com/notebooks/data_table.ipynb>data table notebook</a>'\n",
              "            + ' to learn more about interactive tables.';\n",
              "          element.innerHTML = '';\n",
              "          dataTable['output_type'] = 'display_data';\n",
              "          await google.colab.output.renderOutput(dataTable, element);\n",
              "          const docLink = document.createElement('div');\n",
              "          docLink.innerHTML = docLinkHtml;\n",
              "          element.appendChild(docLink);\n",
              "        }\n",
              "      </script>\n",
              "    </div>\n",
              "  </div>\n",
              "  "
            ],
            "text/plain": [
              "        ds      y\n",
              "0  1962-01  589.0\n",
              "1  1962-02  561.0\n",
              "2  1962-03  640.0\n",
              "3  1962-04  656.0\n",
              "4  1962-05  727.0"
            ]
          },
          "metadata": {},
          "execution_count": 7
        }
      ]
    },
    {
      "cell_type": "code",
      "source": [
        "plt.figure(figsize=(16,8))\n",
        "plt.plot(df['ds'],df['y'])"
      ],
      "metadata": {
        "colab": {
          "base_uri": "https://localhost:8080/",
          "height": 500
        },
        "id": "zCje6FEhj_jf",
        "outputId": "bbb15b70-786c-422b-f707-1b8de1f812b4"
      },
      "execution_count": null,
      "outputs": [
        {
          "output_type": "execute_result",
          "data": {
            "text/plain": [
              "[<matplotlib.lines.Line2D at 0x7fdf5ca8b490>]"
            ]
          },
          "metadata": {},
          "execution_count": 8
        },
        {
          "output_type": "display_data",
          "data": {
            "image/png": "[encoded data removed]",
            "text/plain": [
              "<Figure size 1152x576 with 1 Axes>"
            ]
          },
          "metadata": {
            "needs_background": "light"
          }
        }
      ]
    },
    {
      "cell_type": "code",
      "source": [
        "#converting YYYY-MM formate to YYYY-MM-DD formate\n",
        "df['ds']= pd.to_datetime(df['ds'])"
      ],
      "metadata": {
        "id": "MS9LIYX8kB1v"
      },
      "execution_count": null,
      "outputs": []
    },
    {
      "cell_type": "code",
      "source": [
        "df.head()"
      ],
      "metadata": {
        "colab": {
          "base_uri": "https://localhost:8080/",
          "height": 206
        },
        "id": "GlomQkdmkDfP",
        "outputId": "b0f7a717-cad2-4fe8-a8fe-60383d471d85"
      },
      "execution_count": null,
      "outputs": [
        {
          "output_type": "execute_result",
          "data": {
            "text/html": [
              "\n",
              "  <div id=\"df-3f340884-48f0-4226-ab3f-632c69cccaf1\">\n",
              "    <div class=\"colab-df-container\">\n",
              "      <div>\n",
              "<style scoped>\n",
              "    .dataframe tbody tr th:only-of-type {\n",
              "        vertical-align: middle;\n",
              "    }\n",
              "\n",
              "    .dataframe tbody tr th {\n",
              "        vertical-align: top;\n",
              "    }\n",
              "\n",
              "    .dataframe thead th {\n",
              "        text-align: right;\n",
              "    }\n",
              "</style>\n",
              "<table border=\"1\" class=\"dataframe\">\n",
              "  <thead>\n",
              "    <tr style=\"text-align: right;\">\n",
              "      <th></th>\n",
              "      <th>ds</th>\n",
              "      <th>y</th>\n",
              "    </tr>\n",
              "  </thead>\n",
              "  <tbody>\n",
              "    <tr>\n",
              "      <th>0</th>\n",
              "      <td>1962-01-01</td>\n",
              "      <td>589.0</td>\n",
              "    </tr>\n",
              "    <tr>\n",
              "      <th>1</th>\n",
              "      <td>1962-02-01</td>\n",
              "      <td>561.0</td>\n",
              "    </tr>\n",
              "    <tr>\n",
              "      <th>2</th>\n",
              "      <td>1962-03-01</td>\n",
              "      <td>640.0</td>\n",
              "    </tr>\n",
              "    <tr>\n",
              "      <th>3</th>\n",
              "      <td>1962-04-01</td>\n",
              "      <td>656.0</td>\n",
              "    </tr>\n",
              "    <tr>\n",
              "      <th>4</th>\n",
              "      <td>1962-05-01</td>\n",
              "      <td>727.0</td>\n",
              "    </tr>\n",
              "  </tbody>\n",
              "</table>\n",
              "</div>\n",
              "      <button class=\"colab-df-convert\" onclick=\"convertToInteractive('df-3f340884-48f0-4226-ab3f-632c69cccaf1')\"\n",
              "              title=\"Convert this dataframe to an interactive table.\"\n",
              "              style=\"display:none;\">\n",
              "        \n",
              "  <svg xmlns=\"http://www.w3.org/2000/svg\" height=\"24px\"viewBox=\"0 0 24 24\"\n",
              "       width=\"24px\">\n",
              "    <path d=\"M0 0h24v24H0V0z\" fill=\"none\"/>\n",
              "    <path d=\"M18.56 5.44l.94 2.06.94-2.06 2.06-.94-2.06-.94-.94-2.06-.94 2.06-2.06.94zm-11 1L8.5 8.5l.94-2.06 2.06-.94-2.06-.94L8.5 2.5l-.94 2.06-2.06.94zm10 10l.94 2.06.94-2.06 2.06-.94-2.06-.94-.94-2.06-.94 2.06-2.06.94z\"/><path d=\"M17.41 7.96l-1.37-1.37c-.4-.4-.92-.59-1.43-.59-.52 0-1.04.2-1.43.59L10.3 9.45l-7.72 7.72c-.78.78-.78 2.05 0 2.83L4 21.41c.39.39.9.59 1.41.59.51 0 1.02-.2 1.41-.59l7.78-7.78 2.81-2.81c.8-.78.8-2.07 0-2.86zM5.41 20L4 18.59l7.72-7.72 1.47 1.35L5.41 20z\"/>\n",
              "  </svg>\n",
              "      </button>\n",
              "      \n",
              "  <style>\n",
              "    .colab-df-container {\n",
              "      display:flex;\n",
              "      flex-wrap:wrap;\n",
              "      gap: 12px;\n",
              "    }\n",
              "\n",
              "    .colab-df-convert {\n",
              "      background-color: #E8F0FE;\n",
              "      border: none;\n",
              "      border-radius: 50%;\n",
              "      cursor: pointer;\n",
              "      display: none;\n",
              "      fill: #1967D2;\n",
              "      height: 32px;\n",
              "      padding: 0 0 0 0;\n",
              "      width: 32px;\n",
              "    }\n",
              "\n",
              "    .colab-df-convert:hover {\n",
              "      background-color: #E2EBFA;\n",
              "      box-shadow: 0px 1px 2px rgba(60, 64, 67, 0.3), 0px 1px 3px 1px rgba(60, 64, 67, 0.15);\n",
              "      fill: #174EA6;\n",
              "    }\n",
              "\n",
              "    [theme=dark] .colab-df-convert {\n",
              "      background-color: #3B4455;\n",
              "      fill: #D2E3FC;\n",
              "    }\n",
              "\n",
              "    [theme=dark] .colab-df-convert:hover {\n",
              "      background-color: #434B5C;\n",
              "      box-shadow: 0px 1px 3px 1px rgba(0, 0, 0, 0.15);\n",
              "      filter: drop-shadow(0px 1px 2px rgba(0, 0, 0, 0.3));\n",
              "      fill: #FFFFFF;\n",
              "    }\n",
              "  </style>\n",
              "\n",
              "      <script>\n",
              "        const buttonEl =\n",
              "          document.querySelector('#df-3f340884-48f0-4226-ab3f-632c69cccaf1 button.colab-df-convert');\n",
              "        buttonEl.style.display =\n",
              "          google.colab.kernel.accessAllowed ? 'block' : 'none';\n",
              "\n",
              "        async function convertToInteractive(key) {\n",
              "          const element = document.querySelector('#df-3f340884-48f0-4226-ab3f-632c69cccaf1');\n",
              "          const dataTable =\n",
              "            await google.colab.kernel.invokeFunction('convertToInteractive',\n",
              "                                                     [key], {});\n",
              "          if (!dataTable) return;\n",
              "\n",
              "          const docLinkHtml = 'Like what you see? Visit the ' +\n",
              "            '<a target=\"_blank\" href=https://colab.research.google.com/notebooks/data_table.ipynb>data table notebook</a>'\n",
              "            + ' to learn more about interactive tables.';\n",
              "          element.innerHTML = '';\n",
              "          dataTable['output_type'] = 'display_data';\n",
              "          await google.colab.output.renderOutput(dataTable, element);\n",
              "          const docLink = document.createElement('div');\n",
              "          docLink.innerHTML = docLinkHtml;\n",
              "          element.appendChild(docLink);\n",
              "        }\n",
              "      </script>\n",
              "    </div>\n",
              "  </div>\n",
              "  "
            ],
            "text/plain": [
              "          ds      y\n",
              "0 1962-01-01  589.0\n",
              "1 1962-02-01  561.0\n",
              "2 1962-03-01  640.0\n",
              "3 1962-04-01  656.0\n",
              "4 1962-05-01  727.0"
            ]
          },
          "metadata": {},
          "execution_count": 10
        }
      ]
    },
    {
      "cell_type": "code",
      "source": [
        "plt.figure(figsize=(16,8))\n",
        "plt.plot(df['ds'],df['y'])"
      ],
      "metadata": {
        "colab": {
          "base_uri": "https://localhost:8080/",
          "height": 500
        },
        "id": "zoZdSKJ9kE1X",
        "outputId": "f6cce523-1ed2-4ea4-a4b8-4a2727490d27"
      },
      "execution_count": null,
      "outputs": [
        {
          "output_type": "execute_result",
          "data": {
            "text/plain": [
              "[<matplotlib.lines.Line2D at 0x7fdf5c846710>]"
            ]
          },
          "metadata": {},
          "execution_count": 11
        },
        {
          "output_type": "display_data",
          "data": {
            "image/png": "[encoded data removed]",
            "text/plain": [
              "<Figure size 1152x576 with 1 Axes>"
            ]
          },
          "metadata": {
            "needs_background": "light"
          }
        }
      ]
    },
    {
      "cell_type": "code",
      "source": [
        "df.hist()"
      ],
      "metadata": {
        "colab": {
          "base_uri": "https://localhost:8080/",
          "height": 316
        },
        "id": "QSOP2My1kIKn",
        "outputId": "8200fc01-a663-4f91-bea7-a7331b513241"
      },
      "execution_count": null,
      "outputs": [
        {
          "output_type": "execute_result",
          "data": {
            "text/plain": [
              "array([[<matplotlib.axes._subplots.AxesSubplot object at 0x7fdf5bae23d0>]],\n",
              "      dtype=object)"
            ]
          },
          "metadata": {},
          "execution_count": 12
        },
        {
          "output_type": "display_data",
          "data": {
            "image/png": "[encoded data removed]",
            "text/plain": [
              "<Figure size 432x288 with 1 Axes>"
            ]
          },
          "metadata": {
            "needs_background": "light"
          }
        }
      ]
    },
    {
      "cell_type": "markdown",
      "source": [
        "###This is a seasonal data. We have to convert it into a stationary data.\n",
        "\n",
        "###What is Seasonal Data?\n",
        "\n",
        "In time series data, seasonality is the presence of variations that occur at specific regular intervals less than a year, such as weekly, monthly, or quarterly. Seasonality may be caused by various factors, such as weather, vacation, and holidays and consists of periodic, repetitive, and generally regular and predictable patterns in the levels of a time series."
      ],
      "metadata": {
        "id": "uePAGJ6Zv-6p"
      }
    },
    {
      "cell_type": "code",
      "source": [
        "df_one= df[0:80]\n",
        "df_two= df[80:168]"
      ],
      "metadata": {
        "id": "4xbXIr9jkM_-"
      },
      "execution_count": null,
      "outputs": []
    },
    {
      "cell_type": "code",
      "source": [
        "df_one.mean()"
      ],
      "metadata": {
        "colab": {
          "base_uri": "https://localhost:8080/"
        },
        "id": "t6whgFhTkULG",
        "outputId": "208b11a6-c9b9-49a6-be98-7cf0c32082ec"
      },
      "execution_count": null,
      "outputs": [
        {
          "output_type": "stream",
          "name": "stderr",
          "text": [
            "/usr/local/lib/python3.7/dist-packages/ipykernel_launcher.py:1: FutureWarning:\n",
            "\n",
            "DataFrame.mean and DataFrame.median with numeric_only=None will include datetime64 and datetime64tz columns in a future version.\n",
            "\n"
          ]
        },
        {
          "output_type": "execute_result",
          "data": {
            "text/plain": [
              "y    680.275\n",
              "dtype: float64"
            ]
          },
          "metadata": {},
          "execution_count": 14
        }
      ]
    },
    {
      "cell_type": "code",
      "source": [
        "df_two.mean()"
      ],
      "metadata": {
        "colab": {
          "base_uri": "https://localhost:8080/"
        },
        "id": "MGPwJ2Ylkla-",
        "outputId": "e4a14d02-342f-4048-a13e-931f3464402d"
      },
      "execution_count": null,
      "outputs": [
        {
          "output_type": "stream",
          "name": "stderr",
          "text": [
            "/usr/local/lib/python3.7/dist-packages/ipykernel_launcher.py:1: FutureWarning:\n",
            "\n",
            "DataFrame.mean and DataFrame.median with numeric_only=None will include datetime64 and datetime64tz columns in a future version.\n",
            "\n"
          ]
        },
        {
          "output_type": "execute_result",
          "data": {
            "text/plain": [
              "y    822.375\n",
              "dtype: float64"
            ]
          },
          "metadata": {},
          "execution_count": 15
        }
      ]
    },
    {
      "cell_type": "code",
      "source": [
        "df_one.var()"
      ],
      "metadata": {
        "colab": {
          "base_uri": "https://localhost:8080/"
        },
        "id": "9WS8m4-EknBm",
        "outputId": "e4ce647c-75da-437d-fd57-1bef3ebdeb8b"
      },
      "execution_count": null,
      "outputs": [
        {
          "output_type": "execute_result",
          "data": {
            "text/plain": [
              "y    5599.568987\n",
              "dtype: float64"
            ]
          },
          "metadata": {},
          "execution_count": 16
        }
      ]
    },
    {
      "cell_type": "code",
      "source": [
        "df_two.var()"
      ],
      "metadata": {
        "colab": {
          "base_uri": "https://localhost:8080/"
        },
        "id": "QdDybBQako73",
        "outputId": "6ae54af1-6078-48a7-e0bf-ed6344bce676"
      },
      "execution_count": null,
      "outputs": [
        {
          "output_type": "execute_result",
          "data": {
            "text/plain": [
              "y    5240.443966\n",
              "dtype: float64"
            ]
          },
          "metadata": {},
          "execution_count": 17
        }
      ]
    },
    {
      "cell_type": "markdown",
      "source": [
        "#**What is Augmented Dickey Fuller Test (ADF Test)?**\n",
        "\n",
        "A Dickey-Fuller test is a unit root test that tests the null hypothesis that α=1 in the following model equation. alpha is the coefficient of the first lag on Y. Null Hypothesis (H0): alpha=1where,\n",
        "\\\n",
        "![image.png](data:image/png;base64,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)\n",
        "\n",
        "y(t-1) = lag 1 of time series\n",
        "delta Y(t-1) = first difference of the series at time (t-1)\n",
        "Fundamentally, it has a similar null hypothesis as the unit root test. That is, the coefficient of Y(t-1) is 1, implying the presence of a unit root. If not rejected, the series is taken to be non-stationary. The Augmented Dickey-Fuller test evolved based on the above equation and is one of the most common form of Unit Root test.\n",
        "\n",
        "the ADF test is an ‘augmented’ version of the Dickey Fuller test. The ADF test expands the Dickey-Fuller test equation to include high order regressive process in the model.\n",
        "\n",
        "![image.png](data:image/png;base64,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)\n",
        "\n",
        "we have only added more differencing terms, while the rest of the equation remains the same. This adds more thoroughness to the test. The null hypothesis however is still the same as the Dickey Fuller test. A key point to remember here is: Since the null hypothesis assumes the presence of unit root, that is α=1, the p-value obtained should be less than the significance level (say 0.05) in order to reject the null hypothesis. Thereby, inferring that the series is stationary. However, this is a very common mistake analysts commit with this test. That is, if the p-value is less than significance level, people mistakenly take the series to be non-stationary."
      ],
      "metadata": {
        "id": "XuJOYEoYnMqc"
      }
    },
    {
      "cell_type": "markdown",
      "source": [
        "####The statsmodel package provides a reliable implementation of the ADF test via the adfuller() function in statsmodels.tsa.stattools. It returns the following outputs:\n",
        "\n",
        "1. The p-value\n",
        "2. The value of the test statistic\n",
        "3. Number of lags considered for the test\n",
        "4. The critical value cutoffs.\n",
        "\n",
        "####There are two ways to reject a null hypothesis in order to infer that the given time series is stationary.  \n",
        "\n",
        "* The p-value obtained should be less than the significance level (say 0.05) in \n",
        "order to reject the null hypothesis. Thereby, inferring that the series is stationary.\n",
        "* When the test statistic is lower than the critical value shown, you reject the null hypothesis and infer that the time series is stationary."
      ],
      "metadata": {
        "id": "iGXzq36koNiH"
      }
    },
    {
      "cell_type": "code",
      "source": [
        "#Augmented Dickey Fuller Test (ADF Test) \n",
        "from statsmodels.tsa.stattools import adfuller"
      ],
      "metadata": {
        "colab": {
          "base_uri": "https://localhost:8080/"
        },
        "id": "yK4aJ8QdkqQn",
        "outputId": "b101ab04-937c-4e4d-f336-d4cc9d28180a"
      },
      "execution_count": null,
      "outputs": [
        {
          "output_type": "stream",
          "name": "stderr",
          "text": [
            "/usr/local/lib/python3.7/dist-packages/statsmodels/tools/_testing.py:19: FutureWarning:\n",
            "\n",
            "pandas.util.testing is deprecated. Use the functions in the public API at pandas.testing instead.\n",
            "\n"
          ]
        }
      ]
    },
    {
      "cell_type": "code",
      "source": [
        "adf_test= adfuller(df['y'])"
      ],
      "metadata": {
        "id": "jsYBO1Vnk_du"
      },
      "execution_count": null,
      "outputs": []
    },
    {
      "cell_type": "code",
      "source": [
        "print(f'ADF Statistic: {adf_test[0]}')"
      ],
      "metadata": {
        "colab": {
          "base_uri": "https://localhost:8080/"
        },
        "id": "-QSSrB_BlFWu",
        "outputId": "dced0be2-f738-48bd-dc74-463d3fc4d701"
      },
      "execution_count": null,
      "outputs": [
        {
          "output_type": "stream",
          "name": "stdout",
          "text": [
            "ADF Statistic: -1.3038115874221299\n"
          ]
        }
      ]
    },
    {
      "cell_type": "code",
      "source": [
        "print(f'p-value: {adf_test[1]}')"
      ],
      "metadata": {
        "colab": {
          "base_uri": "https://localhost:8080/"
        },
        "id": "CThaS-crlN2O",
        "outputId": "0e84e26f-c52f-46b1-fa89-19633281a290"
      },
      "execution_count": null,
      "outputs": [
        {
          "output_type": "stream",
          "name": "stdout",
          "text": [
            "p-value: 0.6274267086030314\n"
          ]
        }
      ]
    },
    {
      "cell_type": "code",
      "source": [
        "#The p-value is not less than the significance level (say 0.05) in order to reject the null hypothesis. Thereby, inferring that the series is non-stationary."
      ],
      "metadata": {
        "id": "OqtS3f4gmQBe"
      },
      "execution_count": null,
      "outputs": []
    },
    {
      "cell_type": "code",
      "source": [
        "#Making the data stationary by Shifting a value by One Step and substracting the output data with original df['y'] to get stationary data\n",
        "df['y'].shift(1)"
      ],
      "metadata": {
        "colab": {
          "base_uri": "https://localhost:8080/"
        },
        "id": "QEVRsoKOpsdC",
        "outputId": "3bf1fd2a-609e-4e5a-e855-5e1436600d4e"
      },
      "execution_count": null,
      "outputs": [
        {
          "output_type": "execute_result",
          "data": {
            "text/plain": [
              "0        NaN\n",
              "1      589.0\n",
              "2      561.0\n",
              "3      640.0\n",
              "4      656.0\n",
              "       ...  \n",
              "163    896.0\n",
              "164    858.0\n",
              "165    817.0\n",
              "166    827.0\n",
              "167    797.0\n",
              "Name: y, Length: 168, dtype: float64"
            ]
          },
          "metadata": {},
          "execution_count": 23
        }
      ]
    },
    {
      "cell_type": "code",
      "source": [
        "df['y']= df['y']-df['y'].shift(1)"
      ],
      "metadata": {
        "id": "7HKtG9SGrmYF"
      },
      "execution_count": null,
      "outputs": []
    },
    {
      "cell_type": "code",
      "source": [
        "df['y']"
      ],
      "metadata": {
        "colab": {
          "base_uri": "https://localhost:8080/"
        },
        "id": "2QcUf3eNront",
        "outputId": "93e9ea12-4337-4553-c5de-be07f02b1424"
      },
      "execution_count": null,
      "outputs": [
        {
          "output_type": "execute_result",
          "data": {
            "text/plain": [
              "0       NaN\n",
              "1     -28.0\n",
              "2      79.0\n",
              "3      16.0\n",
              "4      71.0\n",
              "       ... \n",
              "163   -38.0\n",
              "164   -41.0\n",
              "165    10.0\n",
              "166   -30.0\n",
              "167    46.0\n",
              "Name: y, Length: 168, dtype: float64"
            ]
          },
          "metadata": {},
          "execution_count": 25
        }
      ]
    },
    {
      "cell_type": "code",
      "source": [
        "df.drop(0,axis=0, inplace=True)"
      ],
      "metadata": {
        "id": "aX1VR9qqr1qA"
      },
      "execution_count": null,
      "outputs": []
    },
    {
      "cell_type": "code",
      "source": [
        "df['y']"
      ],
      "metadata": {
        "colab": {
          "base_uri": "https://localhost:8080/"
        },
        "id": "d2j8u6cfsB3m",
        "outputId": "5401baa2-2ea2-4ed8-fab4-aa133d1bae31"
      },
      "execution_count": null,
      "outputs": [
        {
          "output_type": "execute_result",
          "data": {
            "text/plain": [
              "1     -28.0\n",
              "2      79.0\n",
              "3      16.0\n",
              "4      71.0\n",
              "5     -30.0\n",
              "       ... \n",
              "163   -38.0\n",
              "164   -41.0\n",
              "165    10.0\n",
              "166   -30.0\n",
              "167    46.0\n",
              "Name: y, Length: 167, dtype: float64"
            ]
          },
          "metadata": {},
          "execution_count": 27
        }
      ]
    },
    {
      "cell_type": "code",
      "source": [
        "df['y'].plot()"
      ],
      "metadata": {
        "colab": {
          "base_uri": "https://localhost:8080/",
          "height": 282
        },
        "id": "0SqG-q1arqMF",
        "outputId": "3d1d5eee-0bfb-4e15-d1ff-f51d1eb66b18"
      },
      "execution_count": null,
      "outputs": [
        {
          "output_type": "execute_result",
          "data": {
            "text/plain": [
              "<matplotlib.axes._subplots.AxesSubplot at 0x7fdf43c99390>"
            ]
          },
          "metadata": {},
          "execution_count": 28
        },
        {
          "output_type": "display_data",
          "data": {
            "image/png": "[encoded data removed]",
            "text/plain": [
              "<Figure size 432x288 with 1 Axes>"
            ]
          },
          "metadata": {
            "needs_background": "light"
          }
        }
      ]
    },
    {
      "cell_type": "code",
      "source": [
        "df['y'].hist()"
      ],
      "metadata": {
        "colab": {
          "base_uri": "https://localhost:8080/",
          "height": 282
        },
        "id": "8IAe4lrBsnDh",
        "outputId": "2c49d39e-9a86-4e57-9326-de3ffab2fe6e"
      },
      "execution_count": null,
      "outputs": [
        {
          "output_type": "execute_result",
          "data": {
            "text/plain": [
              "<matplotlib.axes._subplots.AxesSubplot at 0x7fdf42bb2990>"
            ]
          },
          "metadata": {},
          "execution_count": 29
        },
        {
          "output_type": "display_data",
          "data": {
            "image/png": "[encoded data removed]",
            "text/plain": [
              "<Figure size 432x288 with 1 Axes>"
            ]
          },
          "metadata": {
            "needs_background": "light"
          }
        }
      ]
    },
    {
      "cell_type": "code",
      "source": [
        "df_new_one= df[0:40]\n",
        "df_new_two= df[40:80]\n",
        "df_new_three= df[80:120]\n",
        "df_new_four= df[120:168]"
      ],
      "metadata": {
        "id": "lMCnlFZCspMN"
      },
      "execution_count": null,
      "outputs": []
    },
    {
      "cell_type": "code",
      "source": [
        "df_new_one.mean()"
      ],
      "metadata": {
        "colab": {
          "base_uri": "https://localhost:8080/"
        },
        "id": "s1eweZSus2Lc",
        "outputId": "1e283843-accf-4b64-dc5a-af19f7f60c39"
      },
      "execution_count": null,
      "outputs": [
        {
          "output_type": "stream",
          "name": "stderr",
          "text": [
            "/usr/local/lib/python3.7/dist-packages/ipykernel_launcher.py:1: FutureWarning:\n",
            "\n",
            "DataFrame.mean and DataFrame.median with numeric_only=None will include datetime64 and datetime64tz columns in a future version.\n",
            "\n"
          ]
        },
        {
          "output_type": "execute_result",
          "data": {
            "text/plain": [
              "y    4.825\n",
              "dtype: float64"
            ]
          },
          "metadata": {},
          "execution_count": 31
        }
      ]
    },
    {
      "cell_type": "code",
      "source": [
        "df_new_two.mean()"
      ],
      "metadata": {
        "colab": {
          "base_uri": "https://localhost:8080/"
        },
        "id": "YkcFcu9ms4eF",
        "outputId": "eee7b746-21f1-43d0-89c7-1e1ddb6699ef"
      },
      "execution_count": null,
      "outputs": [
        {
          "output_type": "stream",
          "name": "stderr",
          "text": [
            "/usr/local/lib/python3.7/dist-packages/ipykernel_launcher.py:1: FutureWarning:\n",
            "\n",
            "DataFrame.mean and DataFrame.median with numeric_only=None will include datetime64 and datetime64tz columns in a future version.\n",
            "\n"
          ]
        },
        {
          "output_type": "execute_result",
          "data": {
            "text/plain": [
              "y   -2.025\n",
              "dtype: float64"
            ]
          },
          "metadata": {},
          "execution_count": 32
        }
      ]
    },
    {
      "cell_type": "code",
      "source": [
        "df_new_three.mean()"
      ],
      "metadata": {
        "colab": {
          "base_uri": "https://localhost:8080/"
        },
        "id": "3EGTA8ZOtkwY",
        "outputId": "86b8689b-4cbf-4677-f4f8-f3f2397642e1"
      },
      "execution_count": null,
      "outputs": [
        {
          "output_type": "stream",
          "name": "stderr",
          "text": [
            "/usr/local/lib/python3.7/dist-packages/ipykernel_launcher.py:1: FutureWarning:\n",
            "\n",
            "DataFrame.mean and DataFrame.median with numeric_only=None will include datetime64 and datetime64tz columns in a future version.\n",
            "\n"
          ]
        },
        {
          "output_type": "execute_result",
          "data": {
            "text/plain": [
              "y    3.125\n",
              "dtype: float64"
            ]
          },
          "metadata": {},
          "execution_count": 33
        }
      ]
    },
    {
      "cell_type": "code",
      "source": [
        "df_new_four.mean()"
      ],
      "metadata": {
        "colab": {
          "base_uri": "https://localhost:8080/"
        },
        "id": "N_0YDRTDtoa-",
        "outputId": "aae94655-71be-480c-b916-c780effeca54"
      },
      "execution_count": null,
      "outputs": [
        {
          "output_type": "stream",
          "name": "stderr",
          "text": [
            "/usr/local/lib/python3.7/dist-packages/ipykernel_launcher.py:1: FutureWarning:\n",
            "\n",
            "DataFrame.mean and DataFrame.median with numeric_only=None will include datetime64 and datetime64tz columns in a future version.\n",
            "\n"
          ]
        },
        {
          "output_type": "execute_result",
          "data": {
            "text/plain": [
              "y    0.361702\n",
              "dtype: float64"
            ]
          },
          "metadata": {},
          "execution_count": 34
        }
      ]
    },
    {
      "cell_type": "code",
      "source": [
        "df_new_one.var()"
      ],
      "metadata": {
        "colab": {
          "base_uri": "https://localhost:8080/"
        },
        "id": "3A2q9x5Ps61t",
        "outputId": "40cfeafc-95ce-4df4-db2e-4146f08419e2"
      },
      "execution_count": null,
      "outputs": [
        {
          "output_type": "execute_result",
          "data": {
            "text/plain": [
              "y    1926.250641\n",
              "dtype: float64"
            ]
          },
          "metadata": {},
          "execution_count": 35
        }
      ]
    },
    {
      "cell_type": "code",
      "source": [
        "df_new_two.var()"
      ],
      "metadata": {
        "colab": {
          "base_uri": "https://localhost:8080/"
        },
        "id": "e9ZeUEfHs9Tl",
        "outputId": "be73d02d-e527-4726-a96e-eb9bf2f273a3"
      },
      "execution_count": null,
      "outputs": [
        {
          "output_type": "execute_result",
          "data": {
            "text/plain": [
              "y    1966.076282\n",
              "dtype: float64"
            ]
          },
          "metadata": {},
          "execution_count": 36
        }
      ]
    },
    {
      "cell_type": "code",
      "source": [
        "df_new_three.var()"
      ],
      "metadata": {
        "colab": {
          "base_uri": "https://localhost:8080/"
        },
        "id": "HUIRcw5itrie",
        "outputId": "cb4c9441-960a-4194-dfa6-655e0486239e"
      },
      "execution_count": null,
      "outputs": [
        {
          "output_type": "execute_result",
          "data": {
            "text/plain": [
              "y    2073.496795\n",
              "dtype: float64"
            ]
          },
          "metadata": {},
          "execution_count": 37
        }
      ]
    },
    {
      "cell_type": "code",
      "source": [
        "df_new_four.var()"
      ],
      "metadata": {
        "colab": {
          "base_uri": "https://localhost:8080/"
        },
        "id": "_-_0JjmRtuc8",
        "outputId": "365f01df-80d3-40f1-f4a0-c6a367b71c47"
      },
      "execution_count": null,
      "outputs": [
        {
          "output_type": "execute_result",
          "data": {
            "text/plain": [
              "y    2366.80111\n",
              "dtype: float64"
            ]
          },
          "metadata": {},
          "execution_count": 38
        }
      ]
    },
    {
      "cell_type": "code",
      "source": [
        "adf_test= adfuller(df['y'])"
      ],
      "metadata": {
        "id": "PcPCrBGErru9"
      },
      "execution_count": null,
      "outputs": []
    },
    {
      "cell_type": "code",
      "source": [
        "print(f'ADF Statistic: {adf_test[0]}')"
      ],
      "metadata": {
        "colab": {
          "base_uri": "https://localhost:8080/"
        },
        "id": "aPFV9jVcrvKF",
        "outputId": "9b921544-77c6-4b40-be1c-97a831e94745"
      },
      "execution_count": null,
      "outputs": [
        {
          "output_type": "stream",
          "name": "stdout",
          "text": [
            "ADF Statistic: -3.0549955586531126\n"
          ]
        }
      ]
    },
    {
      "cell_type": "code",
      "source": [
        "print(f'p-value: {adf_test[1]}')"
      ],
      "metadata": {
        "colab": {
          "base_uri": "https://localhost:8080/"
        },
        "id": "Dso5vOI5sW_E",
        "outputId": "985e85fe-50f8-44e2-e783-50ec3f8fc721"
      },
      "execution_count": null,
      "outputs": [
        {
          "output_type": "stream",
          "name": "stdout",
          "text": [
            "p-value: 0.030068004001782136\n"
          ]
        }
      ]
    },
    {
      "cell_type": "code",
      "source": [
        "#The p-value is less than the significance level (say 0.05) in order to reject the null hypothesis. Thereby, inferring that the series is stationary."
      ],
      "metadata": {
        "id": "oo8MI-AisZTc"
      },
      "execution_count": null,
      "outputs": []
    },
    {
      "cell_type": "code",
      "source": [
        "from fbprophet import Prophet"
      ],
      "metadata": {
        "id": "_ygWsGensfKl"
      },
      "execution_count": null,
      "outputs": []
    },
    {
      "cell_type": "code",
      "source": [
        "#Checking in-built functions available in the prophet library\n",
        "dir(Prophet)"
      ],
      "metadata": {
        "colab": {
          "base_uri": "https://localhost:8080/"
        },
        "id": "pKAFZ6RMuCFk",
        "outputId": "d4530eb9-2c98-4b6f-a0fb-ba017a0a1496"
      },
      "execution_count": null,
      "outputs": [
        {
          "output_type": "execute_result",
          "data": {
            "text/plain": [
              "['__class__',\n",
              " '__delattr__',\n",
              " '__dict__',\n",
              " '__dir__',\n",
              " '__doc__',\n",
              " '__eq__',\n",
              " '__format__',\n",
              " '__ge__',\n",
              " '__getattribute__',\n",
              " '__gt__',\n",
              " '__hash__',\n",
              " '__init__',\n",
              " '__init_subclass__',\n",
              " '__le__',\n",
              " '__lt__',\n",
              " '__module__',\n",
              " '__ne__',\n",
              " '__new__',\n",
              " '__reduce__',\n",
              " '__reduce_ex__',\n",
              " '__repr__',\n",
              " '__setattr__',\n",
              " '__sizeof__',\n",
              " '__str__',\n",
              " '__subclasshook__',\n",
              " '__weakref__',\n",
              " '_load_stan_backend',\n",
              " 'add_country_holidays',\n",
              " 'add_group_component',\n",
              " 'add_regressor',\n",
              " 'add_seasonality',\n",
              " 'construct_holiday_dataframe',\n",
              " 'fit',\n",
              " 'flat_growth_init',\n",
              " 'flat_trend',\n",
              " 'fourier_series',\n",
              " 'initialize_scales',\n",
              " 'linear_growth_init',\n",
              " 'logistic_growth_init',\n",
              " 'make_all_seasonality_features',\n",
              " 'make_future_dataframe',\n",
              " 'make_holiday_features',\n",
              " 'make_seasonality_features',\n",
              " 'parse_seasonality_args',\n",
              " 'percentile',\n",
              " 'piecewise_linear',\n",
              " 'piecewise_logistic',\n",
              " 'plot',\n",
              " 'plot_components',\n",
              " 'predict',\n",
              " 'predict_seasonal_components',\n",
              " 'predict_trend',\n",
              " 'predict_uncertainty',\n",
              " 'predictive_samples',\n",
              " 'regressor_column_matrix',\n",
              " 'sample_model',\n",
              " 'sample_posterior_predictive',\n",
              " 'sample_predictive_trend',\n",
              " 'set_auto_seasonalities',\n",
              " 'set_changepoints',\n",
              " 'setup_dataframe',\n",
              " 'validate_column_name',\n",
              " 'validate_inputs']"
            ]
          },
          "metadata": {},
          "execution_count": 44
        }
      ]
    },
    {
      "cell_type": "code",
      "source": [
        "#initializing the Model\n",
        "model= Prophet()"
      ],
      "metadata": {
        "id": "EvXJ5d7auNe8"
      },
      "execution_count": null,
      "outputs": []
    },
    {
      "cell_type": "code",
      "source": [
        "model.fit(df)"
      ],
      "metadata": {
        "colab": {
          "base_uri": "https://localhost:8080/"
        },
        "id": "a-p_6tuzvR5E",
        "outputId": "4ab2abc2-b6e5-4c38-ef9c-184cb1e95787"
      },
      "execution_count": null,
      "outputs": [
        {
          "output_type": "stream",
          "name": "stderr",
          "text": [
            "INFO:fbprophet:Disabling weekly seasonality. Run prophet with weekly_seasonality=True to override this.\n",
            "INFO:fbprophet:Disabling daily seasonality. Run prophet with daily_seasonality=True to override this.\n"
          ]
        },
        {
          "output_type": "execute_result",
          "data": {
            "text/plain": [
              "<fbprophet.forecaster.Prophet at 0x7fdf42b58750>"
            ]
          },
          "metadata": {},
          "execution_count": 46
        }
      ]
    },
    {
      "cell_type": "code",
      "source": [
        "model.seasonalities"
      ],
      "metadata": {
        "colab": {
          "base_uri": "https://localhost:8080/"
        },
        "id": "o_mFkfBBvW5c",
        "outputId": "b1eb1cfc-2b8a-4b79-9253-66b86947da82"
      },
      "execution_count": null,
      "outputs": [
        {
          "output_type": "execute_result",
          "data": {
            "text/plain": [
              "OrderedDict([('yearly',\n",
              "              {'condition_name': None,\n",
              "               'fourier_order': 10,\n",
              "               'mode': 'additive',\n",
              "               'period': 365.25,\n",
              "               'prior_scale': 10.0})])"
            ]
          },
          "metadata": {},
          "execution_count": 47
        }
      ]
    },
    {
      "cell_type": "code",
      "source": [
        "#Creating future dates of 365 days\n",
        "future_dates= model.make_future_dataframe(periods=365)"
      ],
      "metadata": {
        "id": "r6HYjE9RwKcU"
      },
      "execution_count": null,
      "outputs": []
    },
    {
      "cell_type": "code",
      "source": [
        "future_dates"
      ],
      "metadata": {
        "colab": {
          "base_uri": "https://localhost:8080/",
          "height": 424
        },
        "id": "N9pfyUhPwuv8",
        "outputId": "f3cbc81d-d645-4772-bf2f-c7b15b51ccc0"
      },
      "execution_count": null,
      "outputs": [
        {
          "output_type": "execute_result",
          "data": {
            "text/html": [
              "\n",
              "  <div id=\"df-40c4d495-a95e-47e6-8868-2fd93b64733e\">\n",
              "    <div class=\"colab-df-container\">\n",
              "      <div>\n",
              "<style scoped>\n",
              "    .dataframe tbody tr th:only-of-type {\n",
              "        vertical-align: middle;\n",
              "    }\n",
              "\n",
              "    .dataframe tbody tr th {\n",
              "        vertical-align: top;\n",
              "    }\n",
              "\n",
              "    .dataframe thead th {\n",
              "        text-align: right;\n",
              "    }\n",
              "</style>\n",
              "<table border=\"1\" class=\"dataframe\">\n",
              "  <thead>\n",
              "    <tr style=\"text-align: right;\">\n",
              "      <th></th>\n",
              "      <th>ds</th>\n",
              "    </tr>\n",
              "  </thead>\n",
              "  <tbody>\n",
              "    <tr>\n",
              "      <th>0</th>\n",
              "      <td>1962-02-01</td>\n",
              "    </tr>\n",
              "    <tr>\n",
              "      <th>1</th>\n",
              "      <td>1962-03-01</td>\n",
              "    </tr>\n",
              "    <tr>\n",
              "      <th>2</th>\n",
              "      <td>1962-04-01</td>\n",
              "    </tr>\n",
              "    <tr>\n",
              "      <th>3</th>\n",
              "      <td>1962-05-01</td>\n",
              "    </tr>\n",
              "    <tr>\n",
              "      <th>4</th>\n",
              "      <td>1962-06-01</td>\n",
              "    </tr>\n",
              "    <tr>\n",
              "      <th>...</th>\n",
              "      <td>...</td>\n",
              "    </tr>\n",
              "    <tr>\n",
              "      <th>527</th>\n",
              "      <td>1976-11-26</td>\n",
              "    </tr>\n",
              "    <tr>\n",
              "      <th>528</th>\n",
              "      <td>1976-11-27</td>\n",
              "    </tr>\n",
              "    <tr>\n",
              "      <th>529</th>\n",
              "      <td>1976-11-28</td>\n",
              "    </tr>\n",
              "    <tr>\n",
              "      <th>530</th>\n",
              "      <td>1976-11-29</td>\n",
              "    </tr>\n",
              "    <tr>\n",
              "      <th>531</th>\n",
              "      <td>1976-11-30</td>\n",
              "    </tr>\n",
              "  </tbody>\n",
              "</table>\n",
              "<p>532 rows × 1 columns</p>\n",
              "</div>\n",
              "      <button class=\"colab-df-convert\" onclick=\"convertToInteractive('df-40c4d495-a95e-47e6-8868-2fd93b64733e')\"\n",
              "              title=\"Convert this dataframe to an interactive table.\"\n",
              "              style=\"display:none;\">\n",
              "        \n",
              "  <svg xmlns=\"http://www.w3.org/2000/svg\" height=\"24px\"viewBox=\"0 0 24 24\"\n",
              "       width=\"24px\">\n",
              "    <path d=\"M0 0h24v24H0V0z\" fill=\"none\"/>\n",
              "    <path d=\"M18.56 5.44l.94 2.06.94-2.06 2.06-.94-2.06-.94-.94-2.06-.94 2.06-2.06.94zm-11 1L8.5 8.5l.94-2.06 2.06-.94-2.06-.94L8.5 2.5l-.94 2.06-2.06.94zm10 10l.94 2.06.94-2.06 2.06-.94-2.06-.94-.94-2.06-.94 2.06-2.06.94z\"/><path d=\"M17.41 7.96l-1.37-1.37c-.4-.4-.92-.59-1.43-.59-.52 0-1.04.2-1.43.59L10.3 9.45l-7.72 7.72c-.78.78-.78 2.05 0 2.83L4 21.41c.39.39.9.59 1.41.59.51 0 1.02-.2 1.41-.59l7.78-7.78 2.81-2.81c.8-.78.8-2.07 0-2.86zM5.41 20L4 18.59l7.72-7.72 1.47 1.35L5.41 20z\"/>\n",
              "  </svg>\n",
              "      </button>\n",
              "      \n",
              "  <style>\n",
              "    .colab-df-container {\n",
              "      display:flex;\n",
              "      flex-wrap:wrap;\n",
              "      gap: 12px;\n",
              "    }\n",
              "\n",
              "    .colab-df-convert {\n",
              "      background-color: #E8F0FE;\n",
              "      border: none;\n",
              "      border-radius: 50%;\n",
              "      cursor: pointer;\n",
              "      display: none;\n",
              "      fill: #1967D2;\n",
              "      height: 32px;\n",
              "      padding: 0 0 0 0;\n",
              "      width: 32px;\n",
              "    }\n",
              "\n",
              "    .colab-df-convert:hover {\n",
              "      background-color: #E2EBFA;\n",
              "      box-shadow: 0px 1px 2px rgba(60, 64, 67, 0.3), 0px 1px 3px 1px rgba(60, 64, 67, 0.15);\n",
              "      fill: #174EA6;\n",
              "    }\n",
              "\n",
              "    [theme=dark] .colab-df-convert {\n",
              "      background-color: #3B4455;\n",
              "      fill: #D2E3FC;\n",
              "    }\n",
              "\n",
              "    [theme=dark] .colab-df-convert:hover {\n",
              "      background-color: #434B5C;\n",
              "      box-shadow: 0px 1px 3px 1px rgba(0, 0, 0, 0.15);\n",
              "      filter: drop-shadow(0px 1px 2px rgba(0, 0, 0, 0.3));\n",
              "      fill: #FFFFFF;\n",
              "    }\n",
              "  </style>\n",
              "\n",
              "      <script>\n",
              "        const buttonEl =\n",
              "          document.querySelector('#df-40c4d495-a95e-47e6-8868-2fd93b64733e button.colab-df-convert');\n",
              "        buttonEl.style.display =\n",
              "          google.colab.kernel.accessAllowed ? 'block' : 'none';\n",
              "\n",
              "        async function convertToInteractive(key) {\n",
              "          const element = document.querySelector('#df-40c4d495-a95e-47e6-8868-2fd93b64733e');\n",
              "          const dataTable =\n",
              "            await google.colab.kernel.invokeFunction('convertToInteractive',\n",
              "                                                     [key], {});\n",
              "          if (!dataTable) return;\n",
              "\n",
              "          const docLinkHtml = 'Like what you see? Visit the ' +\n",
              "            '<a target=\"_blank\" href=https://colab.research.google.com/notebooks/data_table.ipynb>data table notebook</a>'\n",
              "            + ' to learn more about interactive tables.';\n",
              "          element.innerHTML = '';\n",
              "          dataTable['output_type'] = 'display_data';\n",
              "          await google.colab.output.renderOutput(dataTable, element);\n",
              "          const docLink = document.createElement('div');\n",
              "          docLink.innerHTML = docLinkHtml;\n",
              "          element.appendChild(docLink);\n",
              "        }\n",
              "      </script>\n",
              "    </div>\n",
              "  </div>\n",
              "  "
            ],
            "text/plain": [
              "            ds\n",
              "0   1962-02-01\n",
              "1   1962-03-01\n",
              "2   1962-04-01\n",
              "3   1962-05-01\n",
              "4   1962-06-01\n",
              "..         ...\n",
              "527 1976-11-26\n",
              "528 1976-11-27\n",
              "529 1976-11-28\n",
              "530 1976-11-29\n",
              "531 1976-11-30\n",
              "\n",
              "[532 rows x 1 columns]"
            ]
          },
          "metadata": {},
          "execution_count": 49
        }
      ]
    },
    {
      "cell_type": "code",
      "source": [
        "#predictions\n",
        "pred= model.predict(future_dates)"
      ],
      "metadata": {
        "id": "1NRKltE_ww4c"
      },
      "execution_count": null,
      "outputs": []
    },
    {
      "cell_type": "code",
      "source": [
        "pred"
      ],
      "metadata": {
        "colab": {
          "base_uri": "https://localhost:8080/",
          "height": 661
        },
        "id": "Q-YbjhG4xafD",
        "outputId": "ccad9c55-f0bc-4602-c815-76d9e2790364"
      },
      "execution_count": null,
      "outputs": [
        {
          "output_type": "execute_result",
          "data": {
            "text/html": [
              "\n",
              "  <div id=\"df-1e99fd2f-b7be-4afb-9203-d086fb0cf2a2\">\n",
              "    <div class=\"colab-df-container\">\n",
              "      <div>\n",
              "<style scoped>\n",
              "    .dataframe tbody tr th:only-of-type {\n",
              "        vertical-align: middle;\n",
              "    }\n",
              "\n",
              "    .dataframe tbody tr th {\n",
              "        vertical-align: top;\n",
              "    }\n",
              "\n",
              "    .dataframe thead th {\n",
              "        text-align: right;\n",
              "    }\n",
              "</style>\n",
              "<table border=\"1\" class=\"dataframe\">\n",
              "  <thead>\n",
              "    <tr style=\"text-align: right;\">\n",
              "      <th></th>\n",
              "      <th>ds</th>\n",
              "      <th>trend</th>\n",
              "      <th>yhat_lower</th>\n",
              "      <th>yhat_upper</th>\n",
              "      <th>trend_lower</th>\n",
              "      <th>trend_upper</th>\n",
              "      <th>additive_terms</th>\n",
              "      <th>additive_terms_lower</th>\n",
              "      <th>additive_terms_upper</th>\n",
              "      <th>yearly</th>\n",
              "      <th>yearly_lower</th>\n",
              "      <th>yearly_upper</th>\n",
              "      <th>multiplicative_terms</th>\n",
              "      <th>multiplicative_terms_lower</th>\n",
              "      <th>multiplicative_terms_upper</th>\n",
              "      <th>yhat</th>\n",
              "    </tr>\n",
              "  </thead>\n",
              "  <tbody>\n",
              "    <tr>\n",
              "      <th>0</th>\n",
              "      <td>1962-02-01</td>\n",
              "      <td>2.042025</td>\n",
              "      <td>-48.019595</td>\n",
              "      <td>-28.549900</td>\n",
              "      <td>2.042025</td>\n",
              "      <td>2.042025</td>\n",
              "      <td>-40.255747</td>\n",
              "      <td>-40.255747</td>\n",
              "      <td>-40.255747</td>\n",
              "      <td>-40.255747</td>\n",
              "      <td>-40.255747</td>\n",
              "      <td>-40.255747</td>\n",
              "      <td>0.0</td>\n",
              "      <td>0.0</td>\n",
              "      <td>0.0</td>\n",
              "      <td>-38.213722</td>\n",
              "    </tr>\n",
              "    <tr>\n",
              "      <th>1</th>\n",
              "      <td>1962-03-01</td>\n",
              "      <td>2.040479</td>\n",
              "      <td>85.397180</td>\n",
              "      <td>104.433483</td>\n",
              "      <td>2.040479</td>\n",
              "      <td>2.040479</td>\n",
              "      <td>93.020043</td>\n",
              "      <td>93.020043</td>\n",
              "      <td>93.020043</td>\n",
              "      <td>93.020043</td>\n",
              "      <td>93.020043</td>\n",
              "      <td>93.020043</td>\n",
              "      <td>0.0</td>\n",
              "      <td>0.0</td>\n",
              "      <td>0.0</td>\n",
              "      <td>95.060522</td>\n",
              "    </tr>\n",
              "    <tr>\n",
              "      <th>2</th>\n",
              "      <td>1962-04-01</td>\n",
              "      <td>2.038768</td>\n",
              "      <td>6.935271</td>\n",
              "      <td>25.027097</td>\n",
              "      <td>2.038768</td>\n",
              "      <td>2.038768</td>\n",
              "      <td>14.325207</td>\n",
              "      <td>14.325207</td>\n",
              "      <td>14.325207</td>\n",
              "      <td>14.325207</td>\n",
              "      <td>14.325207</td>\n",
              "      <td>14.325207</td>\n",
              "      <td>0.0</td>\n",
              "      <td>0.0</td>\n",
              "      <td>0.0</td>\n",
              "      <td>16.363974</td>\n",
              "    </tr>\n",
              "    <tr>\n",
              "      <th>3</th>\n",
              "      <td>1962-05-01</td>\n",
              "      <td>2.037111</td>\n",
              "      <td>53.241367</td>\n",
              "      <td>72.343953</td>\n",
              "      <td>2.037111</td>\n",
              "      <td>2.037111</td>\n",
              "      <td>60.542390</td>\n",
              "      <td>60.542390</td>\n",
              "      <td>60.542390</td>\n",
              "      <td>60.542390</td>\n",
              "      <td>60.542390</td>\n",
              "      <td>60.542390</td>\n",
              "      <td>0.0</td>\n",
              "      <td>0.0</td>\n",
              "      <td>0.0</td>\n",
              "      <td>62.579502</td>\n",
              "    </tr>\n",
              "    <tr>\n",
              "      <th>4</th>\n",
              "      <td>1962-06-01</td>\n",
              "      <td>2.035399</td>\n",
              "      <td>-35.600524</td>\n",
              "      <td>-16.050912</td>\n",
              "      <td>2.035399</td>\n",
              "      <td>2.035399</td>\n",
              "      <td>-28.221297</td>\n",
              "      <td>-28.221297</td>\n",
              "      <td>-28.221297</td>\n",
              "      <td>-28.221297</td>\n",
              "      <td>-28.221297</td>\n",
              "      <td>-28.221297</td>\n",
              "      <td>0.0</td>\n",
              "      <td>0.0</td>\n",
              "      <td>0.0</td>\n",
              "      <td>-26.185897</td>\n",
              "    </tr>\n",
              "    <tr>\n",
              "      <th>...</th>\n",
              "      <td>...</td>\n",
              "      <td>...</td>\n",
              "      <td>...</td>\n",
              "      <td>...</td>\n",
              "      <td>...</td>\n",
              "      <td>...</td>\n",
              "      <td>...</td>\n",
              "      <td>...</td>\n",
              "      <td>...</td>\n",
              "      <td>...</td>\n",
              "      <td>...</td>\n",
              "      <td>...</td>\n",
              "      <td>...</td>\n",
              "      <td>...</td>\n",
              "      <td>...</td>\n",
              "      <td>...</td>\n",
              "    </tr>\n",
              "    <tr>\n",
              "      <th>527</th>\n",
              "      <td>1976-11-26</td>\n",
              "      <td>1.452333</td>\n",
              "      <td>4.015377</td>\n",
              "      <td>22.546211</td>\n",
              "      <td>1.451246</td>\n",
              "      <td>1.453318</td>\n",
              "      <td>11.402595</td>\n",
              "      <td>11.402595</td>\n",
              "      <td>11.402595</td>\n",
              "      <td>11.402595</td>\n",
              "      <td>11.402595</td>\n",
              "      <td>11.402595</td>\n",
              "      <td>0.0</td>\n",
              "      <td>0.0</td>\n",
              "      <td>0.0</td>\n",
              "      <td>12.854927</td>\n",
              "    </tr>\n",
              "    <tr>\n",
              "      <th>528</th>\n",
              "      <td>1976-11-27</td>\n",
              "      <td>1.452214</td>\n",
              "      <td>8.950420</td>\n",
              "      <td>27.732475</td>\n",
              "      <td>1.451125</td>\n",
              "      <td>1.453204</td>\n",
              "      <td>16.849675</td>\n",
              "      <td>16.849675</td>\n",
              "      <td>16.849675</td>\n",
              "      <td>16.849675</td>\n",
              "      <td>16.849675</td>\n",
              "      <td>16.849675</td>\n",
              "      <td>0.0</td>\n",
              "      <td>0.0</td>\n",
              "      <td>0.0</td>\n",
              "      <td>18.301889</td>\n",
              "    </tr>\n",
              "    <tr>\n",
              "      <th>529</th>\n",
              "      <td>1976-11-28</td>\n",
              "      <td>1.452096</td>\n",
              "      <td>14.487646</td>\n",
              "      <td>33.345186</td>\n",
              "      <td>1.451004</td>\n",
              "      <td>1.453091</td>\n",
              "      <td>22.429655</td>\n",
              "      <td>22.429655</td>\n",
              "      <td>22.429655</td>\n",
              "      <td>22.429655</td>\n",
              "      <td>22.429655</td>\n",
              "      <td>22.429655</td>\n",
              "      <td>0.0</td>\n",
              "      <td>0.0</td>\n",
              "      <td>0.0</td>\n",
              "      <td>23.881751</td>\n",
              "    </tr>\n",
              "    <tr>\n",
              "      <th>530</th>\n",
              "      <td>1976-11-29</td>\n",
              "      <td>1.451978</td>\n",
              "      <td>19.640496</td>\n",
              "      <td>39.132769</td>\n",
              "      <td>1.450883</td>\n",
              "      <td>1.452977</td>\n",
              "      <td>28.030016</td>\n",
              "      <td>28.030016</td>\n",
              "      <td>28.030016</td>\n",
              "      <td>28.030016</td>\n",
              "      <td>28.030016</td>\n",
              "      <td>28.030016</td>\n",
              "      <td>0.0</td>\n",
              "      <td>0.0</td>\n",
              "      <td>0.0</td>\n",
              "      <td>29.481994</td>\n",
              "    </tr>\n",
              "    <tr>\n",
              "      <th>531</th>\n",
              "      <td>1976-11-30</td>\n",
              "      <td>1.451860</td>\n",
              "      <td>25.082908</td>\n",
              "      <td>44.736549</td>\n",
              "      <td>1.450761</td>\n",
              "      <td>1.452864</td>\n",
              "      <td>33.532365</td>\n",
              "      <td>33.532365</td>\n",
              "      <td>33.532365</td>\n",
              "      <td>33.532365</td>\n",
              "      <td>33.532365</td>\n",
              "      <td>33.532365</td>\n",
              "      <td>0.0</td>\n",
              "      <td>0.0</td>\n",
              "      <td>0.0</td>\n",
              "      <td>34.984225</td>\n",
              "    </tr>\n",
              "  </tbody>\n",
              "</table>\n",
              "<p>532 rows × 16 columns</p>\n",
              "</div>\n",
              "      <button class=\"colab-df-convert\" onclick=\"convertToInteractive('df-1e99fd2f-b7be-4afb-9203-d086fb0cf2a2')\"\n",
              "              title=\"Convert this dataframe to an interactive table.\"\n",
              "              style=\"display:none;\">\n",
              "        \n",
              "  <svg xmlns=\"http://www.w3.org/2000/svg\" height=\"24px\"viewBox=\"0 0 24 24\"\n",
              "       width=\"24px\">\n",
              "    <path d=\"M0 0h24v24H0V0z\" fill=\"none\"/>\n",
              "    <path d=\"M18.56 5.44l.94 2.06.94-2.06 2.06-.94-2.06-.94-.94-2.06-.94 2.06-2.06.94zm-11 1L8.5 8.5l.94-2.06 2.06-.94-2.06-.94L8.5 2.5l-.94 2.06-2.06.94zm10 10l.94 2.06.94-2.06 2.06-.94-2.06-.94-.94-2.06-.94 2.06-2.06.94z\"/><path d=\"M17.41 7.96l-1.37-1.37c-.4-.4-.92-.59-1.43-.59-.52 0-1.04.2-1.43.59L10.3 9.45l-7.72 7.72c-.78.78-.78 2.05 0 2.83L4 21.41c.39.39.9.59 1.41.59.51 0 1.02-.2 1.41-.59l7.78-7.78 2.81-2.81c.8-.78.8-2.07 0-2.86zM5.41 20L4 18.59l7.72-7.72 1.47 1.35L5.41 20z\"/>\n",
              "  </svg>\n",
              "      </button>\n",
              "      \n",
              "  <style>\n",
              "    .colab-df-container {\n",
              "      display:flex;\n",
              "      flex-wrap:wrap;\n",
              "      gap: 12px;\n",
              "    }\n",
              "\n",
              "    .colab-df-convert {\n",
              "      background-color: #E8F0FE;\n",
              "      border: none;\n",
              "      border-radius: 50%;\n",
              "      cursor: pointer;\n",
              "      display: none;\n",
              "      fill: #1967D2;\n",
              "      height: 32px;\n",
              "      padding: 0 0 0 0;\n",
              "      width: 32px;\n",
              "    }\n",
              "\n",
              "    .colab-df-convert:hover {\n",
              "      background-color: #E2EBFA;\n",
              "      box-shadow: 0px 1px 2px rgba(60, 64, 67, 0.3), 0px 1px 3px 1px rgba(60, 64, 67, 0.15);\n",
              "      fill: #174EA6;\n",
              "    }\n",
              "\n",
              "    [theme=dark] .colab-df-convert {\n",
              "      background-color: #3B4455;\n",
              "      fill: #D2E3FC;\n",
              "    }\n",
              "\n",
              "    [theme=dark] .colab-df-convert:hover {\n",
              "      background-color: #434B5C;\n",
              "      box-shadow: 0px 1px 3px 1px rgba(0, 0, 0, 0.15);\n",
              "      filter: drop-shadow(0px 1px 2px rgba(0, 0, 0, 0.3));\n",
              "      fill: #FFFFFF;\n",
              "    }\n",
              "  </style>\n",
              "\n",
              "      <script>\n",
              "        const buttonEl =\n",
              "          document.querySelector('#df-1e99fd2f-b7be-4afb-9203-d086fb0cf2a2 button.colab-df-convert');\n",
              "        buttonEl.style.display =\n",
              "          google.colab.kernel.accessAllowed ? 'block' : 'none';\n",
              "\n",
              "        async function convertToInteractive(key) {\n",
              "          const element = document.querySelector('#df-1e99fd2f-b7be-4afb-9203-d086fb0cf2a2');\n",
              "          const dataTable =\n",
              "            await google.colab.kernel.invokeFunction('convertToInteractive',\n",
              "                                                     [key], {});\n",
              "          if (!dataTable) return;\n",
              "\n",
              "          const docLinkHtml = 'Like what you see? Visit the ' +\n",
              "            '<a target=\"_blank\" href=https://colab.research.google.com/notebooks/data_table.ipynb>data table notebook</a>'\n",
              "            + ' to learn more about interactive tables.';\n",
              "          element.innerHTML = '';\n",
              "          dataTable['output_type'] = 'display_data';\n",
              "          await google.colab.output.renderOutput(dataTable, element);\n",
              "          const docLink = document.createElement('div');\n",
              "          docLink.innerHTML = docLinkHtml;\n",
              "          element.appendChild(docLink);\n",
              "        }\n",
              "      </script>\n",
              "    </div>\n",
              "  </div>\n",
              "  "
            ],
            "text/plain": [
              "            ds     trend  ...  multiplicative_terms_upper       yhat\n",
              "0   1962-02-01  2.042025  ...                         0.0 -38.213722\n",
              "1   1962-03-01  2.040479  ...                         0.0  95.060522\n",
              "2   1962-04-01  2.038768  ...                         0.0  16.363974\n",
              "3   1962-05-01  2.037111  ...                         0.0  62.579502\n",
              "4   1962-06-01  2.035399  ...                         0.0 -26.185897\n",
              "..         ...       ...  ...                         ...        ...\n",
              "527 1976-11-26  1.452333  ...                         0.0  12.854927\n",
              "528 1976-11-27  1.452214  ...                         0.0  18.301889\n",
              "529 1976-11-28  1.452096  ...                         0.0  23.881751\n",
              "530 1976-11-29  1.451978  ...                         0.0  29.481994\n",
              "531 1976-11-30  1.451860  ...                         0.0  34.984225\n",
              "\n",
              "[532 rows x 16 columns]"
            ]
          },
          "metadata": {},
          "execution_count": 51
        }
      ]
    },
    {
      "cell_type": "markdown",
      "source": [
        "###Plotting the Forecasts\n",
        "\n",
        "Prophet has an inbuilt feature that enables us to plot the forecasts we just generated. This is achieved using model.plot() and passing in our forecasts as the argument. The blue line in the graph represents the predicted values while the black dots represents the data in our dataset. Light Blue color lines indicate trends."
      ],
      "metadata": {
        "id": "U_Y7U66bzoxO"
      }
    },
    {
      "cell_type": "code",
      "source": [
        "figure1 = model.plot(pred, xlabel='Date', ylabel='Production')"
      ],
      "metadata": {
        "colab": {
          "base_uri": "https://localhost:8080/",
          "height": 441
        },
        "id": "Or4HTrT7_QH0",
        "outputId": "fe8b8fc5-be49-4e90-cbe4-a5a7c542367f"
      },
      "execution_count": null,
      "outputs": [
        {
          "output_type": "display_data",
          "data": {
            "image/png": "[encoded data removed]",
            "text/plain": [
              "<Figure size 720x432 with 1 Axes>"
            ]
          },
          "metadata": {}
        }
      ]
    },
    {
      "cell_type": "code",
      "source": [
        "#Visualizing Each Components[Trends,Yearly]"
      ],
      "metadata": {
        "id": "cKoXuibmzRj9"
      },
      "execution_count": null,
      "outputs": []
    },
    {
      "cell_type": "code",
      "source": [
        "figure2= model.plot_components(fcst=pred)\n",
        "#fcst=output_value"
      ],
      "metadata": {
        "colab": {
          "base_uri": "https://localhost:8080/",
          "height": 441
        },
        "id": "bLybmNjv00IL",
        "outputId": "c43f70fb-b3df-475e-879c-65836cb437f4"
      },
      "execution_count": null,
      "outputs": [
        {
          "output_type": "display_data",
          "data": {
            "image/png": "[encoded data removed]",
            "text/plain": [
              "<Figure size 648x432 with 2 Axes>"
            ]
          },
          "metadata": {}
        }
      ]
    },
    {
      "cell_type": "markdown",
      "source": [
        "###Cross Validation\n",
        "\n",
        "Next let’s measure the forecast error using the historical data. We’ll do this by comparing the predicted values with the actual values. In order to perform this operation we select cut-off points in the history of the data and fit the model with data upto that cut-off point. Afterwards we compare the actual values to the predicted values. The cross_validation method allows us to do this in Prophet. This method take the following parameters as explained below:\n",
        "\n",
        "1. horizon the forecast horizon\n",
        "2. initial the size of the initial training period\n",
        "3. period the spacing between cutoff dates"
      ],
      "metadata": {
        "id": "ZqDpXoaG2Bwv"
      }
    },
    {
      "cell_type": "code",
      "source": [
        "from fbprophet.diagnostics import cross_validation"
      ],
      "metadata": {
        "id": "ns4IS0fv1B_L"
      },
      "execution_count": null,
      "outputs": []
    },
    {
      "cell_type": "code",
      "source": [
        "df_cv= cross_validation(model, horizon='365 days', period='180 days', initial='1095 days')\n",
        "#It Computes forecasts from historical cutoff points, which user can input.\n",
        "#If not provided, begins from (end - horizon) and works backwards, making cutoffs with a spacing of period until initial is reached.\n",
        "\n",
        "#model: Prophet class object. \n",
        "#horizon: string with pd.Timedelta compatible style, e.g., '5 days','3 hours', '10 seconds'. (here, last 365 days i.e. forecasted)\n",
        "#period: string with pd.Timedelta compatible style. Simulated forecast will be done at every this period. If not provided, 0.5 * horizon is used.(365*0.5= 180)\n",
        "#initial: string with pd.Timedelta compatible style. The first training period will include at least this much data. If not provided, 3 * horizon is used.(3*365= 1095)"
      ],
      "metadata": {
        "colab": {
          "base_uri": "https://localhost:8080/",
          "height": 66,
          "referenced_widgets": [
            "3d9e3bdbdb0c4abeb09f6b9037ded028",
            "8c014768e29347dab0972a44b336da87",
            "84f1865d119e45e68ab340df6e39e235",
            "ed457ab0d5394abdb3be909343a4c6fd",
            "37d839e36d1e4074911e25008b94d2c6",
            "68af19ee37af4fcc86544ccda4625c25",
            "3349c85bb0524f79a32f550dc52df8b6",
            "8f5cc10584a44d6daf4e47c39b33de9b",
            "0456844f0c4f477e9c077eff8db9f0d9",
            "db64a10802ba41cab45a2907f3431f9d",
            "6720b578b1ad4dc79f5085114c51fdad"
          ]
        },
        "id": "Tt7WivpA3iRJ",
        "outputId": "f87f319d-d9e9-48d3-c8f6-f51a9f674ae8"
      },
      "execution_count": null,
      "outputs": [
        {
          "output_type": "stream",
          "name": "stderr",
          "text": [
            "INFO:fbprophet:Making 20 forecasts with cutoffs between 1965-07-21 00:00:00 and 1974-12-01 00:00:00\n"
          ]
        },
        {
          "output_type": "display_data",
          "data": {
            "application/vnd.jupyter.widget-view+json": {
              "model_id": "3d9e3bdbdb0c4abeb09f6b9037ded028",
              "version_minor": 0,
              "version_major": 2
            },
            "text/plain": [
              "  0%|          | 0/20 [00:00<?, ?it/s]"
            ]
          },
          "metadata": {}
        }
      ]
    },
    {
      "cell_type": "code",
      "source": [
        "df_cv.head()"
      ],
      "metadata": {
        "colab": {
          "base_uri": "https://localhost:8080/",
          "height": 206
        },
        "id": "vapSFbYg5ypj",
        "outputId": "6c9d1898-ee51-47c3-d2d5-7cb035b6a76f"
      },
      "execution_count": null,
      "outputs": [
        {
          "output_type": "execute_result",
          "data": {
            "text/html": [
              "\n",
              "  <div id=\"df-1bb99898-5533-4e11-bc68-ebb5e10ff000\">\n",
              "    <div class=\"colab-df-container\">\n",
              "      <div>\n",
              "<style scoped>\n",
              "    .dataframe tbody tr th:only-of-type {\n",
              "        vertical-align: middle;\n",
              "    }\n",
              "\n",
              "    .dataframe tbody tr th {\n",
              "        vertical-align: top;\n",
              "    }\n",
              "\n",
              "    .dataframe thead th {\n",
              "        text-align: right;\n",
              "    }\n",
              "</style>\n",
              "<table border=\"1\" class=\"dataframe\">\n",
              "  <thead>\n",
              "    <tr style=\"text-align: right;\">\n",
              "      <th></th>\n",
              "      <th>ds</th>\n",
              "      <th>yhat</th>\n",
              "      <th>yhat_lower</th>\n",
              "      <th>yhat_upper</th>\n",
              "      <th>y</th>\n",
              "      <th>cutoff</th>\n",
              "    </tr>\n",
              "  </thead>\n",
              "  <tbody>\n",
              "    <tr>\n",
              "      <th>0</th>\n",
              "      <td>1965-08-01</td>\n",
              "      <td>-40.898372</td>\n",
              "      <td>-46.477276</td>\n",
              "      <td>-35.330595</td>\n",
              "      <td>-49.0</td>\n",
              "      <td>1965-07-21</td>\n",
              "    </tr>\n",
              "    <tr>\n",
              "      <th>1</th>\n",
              "      <td>1965-09-01</td>\n",
              "      <td>-34.869323</td>\n",
              "      <td>-40.116904</td>\n",
              "      <td>-29.147852</td>\n",
              "      <td>-38.0</td>\n",
              "      <td>1965-07-21</td>\n",
              "    </tr>\n",
              "    <tr>\n",
              "      <th>2</th>\n",
              "      <td>1965-10-01</td>\n",
              "      <td>6.103171</td>\n",
              "      <td>0.686216</td>\n",
              "      <td>11.524371</td>\n",
              "      <td>6.0</td>\n",
              "      <td>1965-07-21</td>\n",
              "    </tr>\n",
              "    <tr>\n",
              "      <th>3</th>\n",
              "      <td>1965-11-01</td>\n",
              "      <td>-20.281526</td>\n",
              "      <td>-25.918633</td>\n",
              "      <td>-14.274585</td>\n",
              "      <td>-19.0</td>\n",
              "      <td>1965-07-21</td>\n",
              "    </tr>\n",
              "    <tr>\n",
              "      <th>4</th>\n",
              "      <td>1965-12-01</td>\n",
              "      <td>36.035431</td>\n",
              "      <td>30.931851</td>\n",
              "      <td>41.950697</td>\n",
              "      <td>33.0</td>\n",
              "      <td>1965-07-21</td>\n",
              "    </tr>\n",
              "  </tbody>\n",
              "</table>\n",
              "</div>\n",
              "      <button class=\"colab-df-convert\" onclick=\"convertToInteractive('df-1bb99898-5533-4e11-bc68-ebb5e10ff000')\"\n",
              "              title=\"Convert this dataframe to an interactive table.\"\n",
              "              style=\"display:none;\">\n",
              "        \n",
              "  <svg xmlns=\"http://www.w3.org/2000/svg\" height=\"24px\"viewBox=\"0 0 24 24\"\n",
              "       width=\"24px\">\n",
              "    <path d=\"M0 0h24v24H0V0z\" fill=\"none\"/>\n",
              "    <path d=\"M18.56 5.44l.94 2.06.94-2.06 2.06-.94-2.06-.94-.94-2.06-.94 2.06-2.06.94zm-11 1L8.5 8.5l.94-2.06 2.06-.94-2.06-.94L8.5 2.5l-.94 2.06-2.06.94zm10 10l.94 2.06.94-2.06 2.06-.94-2.06-.94-.94-2.06-.94 2.06-2.06.94z\"/><path d=\"M17.41 7.96l-1.37-1.37c-.4-.4-.92-.59-1.43-.59-.52 0-1.04.2-1.43.59L10.3 9.45l-7.72 7.72c-.78.78-.78 2.05 0 2.83L4 21.41c.39.39.9.59 1.41.59.51 0 1.02-.2 1.41-.59l7.78-7.78 2.81-2.81c.8-.78.8-2.07 0-2.86zM5.41 20L4 18.59l7.72-7.72 1.47 1.35L5.41 20z\"/>\n",
              "  </svg>\n",
              "      </button>\n",
              "      \n",
              "  <style>\n",
              "    .colab-df-container {\n",
              "      display:flex;\n",
              "      flex-wrap:wrap;\n",
              "      gap: 12px;\n",
              "    }\n",
              "\n",
              "    .colab-df-convert {\n",
              "      background-color: #E8F0FE;\n",
              "      border: none;\n",
              "      border-radius: 50%;\n",
              "      cursor: pointer;\n",
              "      display: none;\n",
              "      fill: #1967D2;\n",
              "      height: 32px;\n",
              "      padding: 0 0 0 0;\n",
              "      width: 32px;\n",
              "    }\n",
              "\n",
              "    .colab-df-convert:hover {\n",
              "      background-color: #E2EBFA;\n",
              "      box-shadow: 0px 1px 2px rgba(60, 64, 67, 0.3), 0px 1px 3px 1px rgba(60, 64, 67, 0.15);\n",
              "      fill: #174EA6;\n",
              "    }\n",
              "\n",
              "    [theme=dark] .colab-df-convert {\n",
              "      background-color: #3B4455;\n",
              "      fill: #D2E3FC;\n",
              "    }\n",
              "\n",
              "    [theme=dark] .colab-df-convert:hover {\n",
              "      background-color: #434B5C;\n",
              "      box-shadow: 0px 1px 3px 1px rgba(0, 0, 0, 0.15);\n",
              "      filter: drop-shadow(0px 1px 2px rgba(0, 0, 0, 0.3));\n",
              "      fill: #FFFFFF;\n",
              "    }\n",
              "  </style>\n",
              "\n",
              "      <script>\n",
              "        const buttonEl =\n",
              "          document.querySelector('#df-1bb99898-5533-4e11-bc68-ebb5e10ff000 button.colab-df-convert');\n",
              "        buttonEl.style.display =\n",
              "          google.colab.kernel.accessAllowed ? 'block' : 'none';\n",
              "\n",
              "        async function convertToInteractive(key) {\n",
              "          const element = document.querySelector('#df-1bb99898-5533-4e11-bc68-ebb5e10ff000');\n",
              "          const dataTable =\n",
              "            await google.colab.kernel.invokeFunction('convertToInteractive',\n",
              "                                                     [key], {});\n",
              "          if (!dataTable) return;\n",
              "\n",
              "          const docLinkHtml = 'Like what you see? Visit the ' +\n",
              "            '<a target=\"_blank\" href=https://colab.research.google.com/notebooks/data_table.ipynb>data table notebook</a>'\n",
              "            + ' to learn more about interactive tables.';\n",
              "          element.innerHTML = '';\n",
              "          dataTable['output_type'] = 'display_data';\n",
              "          await google.colab.output.renderOutput(dataTable, element);\n",
              "          const docLink = document.createElement('div');\n",
              "          docLink.innerHTML = docLinkHtml;\n",
              "          element.appendChild(docLink);\n",
              "        }\n",
              "      </script>\n",
              "    </div>\n",
              "  </div>\n",
              "  "
            ],
            "text/plain": [
              "          ds       yhat  yhat_lower  yhat_upper     y     cutoff\n",
              "0 1965-08-01 -40.898372  -46.477276  -35.330595 -49.0 1965-07-21\n",
              "1 1965-09-01 -34.869323  -40.116904  -29.147852 -38.0 1965-07-21\n",
              "2 1965-10-01   6.103171    0.686216   11.524371   6.0 1965-07-21\n",
              "3 1965-11-01 -20.281526  -25.918633  -14.274585 -19.0 1965-07-21\n",
              "4 1965-12-01  36.035431   30.931851   41.950697  33.0 1965-07-21"
            ]
          },
          "metadata": {},
          "execution_count": 57
        }
      ]
    },
    {
      "cell_type": "markdown",
      "source": [
        "###Obtaining the Performance Metrics\n",
        "\n",
        "We use the performance_metrics utility to compute the Mean Squared Error(MSE), Root Mean Squared Error(RMSE),Mean Absolute Error(MAE), Mean Absolute Percentage Error(MAPE) and the coverage of the the yhat_lower and yhat_upper estimates."
      ],
      "metadata": {
        "id": "tu1ZCiJ58tzF"
      }
    },
    {
      "cell_type": "code",
      "source": [
        "#Obtaining performance metrics\n",
        "from fbprophet.diagnostics import performance_metrics"
      ],
      "metadata": {
        "id": "O8DL1Q436dAZ"
      },
      "execution_count": null,
      "outputs": []
    },
    {
      "cell_type": "code",
      "source": [
        "df_performance= performance_metrics(df= df_cv)"
      ],
      "metadata": {
        "id": "NuYZuu467SSJ"
      },
      "execution_count": null,
      "outputs": []
    },
    {
      "cell_type": "code",
      "source": [
        "df_performance"
      ],
      "metadata": {
        "colab": {
          "base_uri": "https://localhost:8080/",
          "height": 424
        },
        "id": "r_mvNqHJ7huA",
        "outputId": "9482bbd6-ef9c-4207-a384-8377c38c486d"
      },
      "execution_count": null,
      "outputs": [
        {
          "output_type": "execute_result",
          "data": {
            "text/html": [
              "\n",
              "  <div id=\"df-b7de7e32-36df-4dcb-9a99-a623d352b7a8\">\n",
              "    <div class=\"colab-df-container\">\n",
              "      <div>\n",
              "<style scoped>\n",
              "    .dataframe tbody tr th:only-of-type {\n",
              "        vertical-align: middle;\n",
              "    }\n",
              "\n",
              "    .dataframe tbody tr th {\n",
              "        vertical-align: top;\n",
              "    }\n",
              "\n",
              "    .dataframe thead th {\n",
              "        text-align: right;\n",
              "    }\n",
              "</style>\n",
              "<table border=\"1\" class=\"dataframe\">\n",
              "  <thead>\n",
              "    <tr style=\"text-align: right;\">\n",
              "      <th></th>\n",
              "      <th>horizon</th>\n",
              "      <th>mse</th>\n",
              "      <th>rmse</th>\n",
              "      <th>mae</th>\n",
              "      <th>mape</th>\n",
              "      <th>mdape</th>\n",
              "      <th>coverage</th>\n",
              "    </tr>\n",
              "  </thead>\n",
              "  <tbody>\n",
              "    <tr>\n",
              "      <th>0</th>\n",
              "      <td>41 days</td>\n",
              "      <td>123.770852</td>\n",
              "      <td>11.125235</td>\n",
              "      <td>9.160739</td>\n",
              "      <td>0.263184</td>\n",
              "      <td>0.196639</td>\n",
              "      <td>0.416667</td>\n",
              "    </tr>\n",
              "    <tr>\n",
              "      <th>1</th>\n",
              "      <td>42 days</td>\n",
              "      <td>115.513644</td>\n",
              "      <td>10.747727</td>\n",
              "      <td>8.600056</td>\n",
              "      <td>0.233072</td>\n",
              "      <td>0.185216</td>\n",
              "      <td>0.500000</td>\n",
              "    </tr>\n",
              "    <tr>\n",
              "      <th>2</th>\n",
              "      <td>43 days</td>\n",
              "      <td>123.586976</td>\n",
              "      <td>11.116968</td>\n",
              "      <td>8.837566</td>\n",
              "      <td>0.226524</td>\n",
              "      <td>0.185216</td>\n",
              "      <td>0.500000</td>\n",
              "    </tr>\n",
              "    <tr>\n",
              "      <th>3</th>\n",
              "      <td>46 days</td>\n",
              "      <td>89.586428</td>\n",
              "      <td>9.465011</td>\n",
              "      <td>7.889120</td>\n",
              "      <td>0.213582</td>\n",
              "      <td>0.185216</td>\n",
              "      <td>0.541667</td>\n",
              "    </tr>\n",
              "    <tr>\n",
              "      <th>4</th>\n",
              "      <td>47 days</td>\n",
              "      <td>87.148284</td>\n",
              "      <td>9.335325</td>\n",
              "      <td>7.677113</td>\n",
              "      <td>0.209829</td>\n",
              "      <td>0.171733</td>\n",
              "      <td>0.562500</td>\n",
              "    </tr>\n",
              "    <tr>\n",
              "      <th>...</th>\n",
              "      <td>...</td>\n",
              "      <td>...</td>\n",
              "      <td>...</td>\n",
              "      <td>...</td>\n",
              "      <td>...</td>\n",
              "      <td>...</td>\n",
              "      <td>...</td>\n",
              "    </tr>\n",
              "    <tr>\n",
              "      <th>175</th>\n",
              "      <td>357 days</td>\n",
              "      <td>31.629871</td>\n",
              "      <td>5.624044</td>\n",
              "      <td>4.693559</td>\n",
              "      <td>0.132684</td>\n",
              "      <td>0.106889</td>\n",
              "      <td>0.791667</td>\n",
              "    </tr>\n",
              "    <tr>\n",
              "      <th>176</th>\n",
              "      <td>360 days</td>\n",
              "      <td>34.612260</td>\n",
              "      <td>5.883218</td>\n",
              "      <td>4.924323</td>\n",
              "      <td>0.144501</td>\n",
              "      <td>0.106889</td>\n",
              "      <td>0.750000</td>\n",
              "    </tr>\n",
              "    <tr>\n",
              "      <th>177</th>\n",
              "      <td>361 days</td>\n",
              "      <td>37.014617</td>\n",
              "      <td>6.083964</td>\n",
              "      <td>5.085869</td>\n",
              "      <td>0.148150</td>\n",
              "      <td>0.106889</td>\n",
              "      <td>0.708333</td>\n",
              "    </tr>\n",
              "    <tr>\n",
              "      <th>178</th>\n",
              "      <td>362 days</td>\n",
              "      <td>35.950367</td>\n",
              "      <td>5.995863</td>\n",
              "      <td>4.947491</td>\n",
              "      <td>0.146052</td>\n",
              "      <td>0.106889</td>\n",
              "      <td>0.708333</td>\n",
              "    </tr>\n",
              "    <tr>\n",
              "      <th>179</th>\n",
              "      <td>365 days</td>\n",
              "      <td>41.749687</td>\n",
              "      <td>6.461400</td>\n",
              "      <td>5.324852</td>\n",
              "      <td>0.170112</td>\n",
              "      <td>0.115184</td>\n",
              "      <td>0.666667</td>\n",
              "    </tr>\n",
              "  </tbody>\n",
              "</table>\n",
              "<p>180 rows × 7 columns</p>\n",
              "</div>\n",
              "      <button class=\"colab-df-convert\" onclick=\"convertToInteractive('df-b7de7e32-36df-4dcb-9a99-a623d352b7a8')\"\n",
              "              title=\"Convert this dataframe to an interactive table.\"\n",
              "              style=\"display:none;\">\n",
              "        \n",
              "  <svg xmlns=\"http://www.w3.org/2000/svg\" height=\"24px\"viewBox=\"0 0 24 24\"\n",
              "       width=\"24px\">\n",
              "    <path d=\"M0 0h24v24H0V0z\" fill=\"none\"/>\n",
              "    <path d=\"M18.56 5.44l.94 2.06.94-2.06 2.06-.94-2.06-.94-.94-2.06-.94 2.06-2.06.94zm-11 1L8.5 8.5l.94-2.06 2.06-.94-2.06-.94L8.5 2.5l-.94 2.06-2.06.94zm10 10l.94 2.06.94-2.06 2.06-.94-2.06-.94-.94-2.06-.94 2.06-2.06.94z\"/><path d=\"M17.41 7.96l-1.37-1.37c-.4-.4-.92-.59-1.43-.59-.52 0-1.04.2-1.43.59L10.3 9.45l-7.72 7.72c-.78.78-.78 2.05 0 2.83L4 21.41c.39.39.9.59 1.41.59.51 0 1.02-.2 1.41-.59l7.78-7.78 2.81-2.81c.8-.78.8-2.07 0-2.86zM5.41 20L4 18.59l7.72-7.72 1.47 1.35L5.41 20z\"/>\n",
              "  </svg>\n",
              "      </button>\n",
              "      \n",
              "  <style>\n",
              "    .colab-df-container {\n",
              "      display:flex;\n",
              "      flex-wrap:wrap;\n",
              "      gap: 12px;\n",
              "    }\n",
              "\n",
              "    .colab-df-convert {\n",
              "      background-color: #E8F0FE;\n",
              "      border: none;\n",
              "      border-radius: 50%;\n",
              "      cursor: pointer;\n",
              "      display: none;\n",
              "      fill: #1967D2;\n",
              "      height: 32px;\n",
              "      padding: 0 0 0 0;\n",
              "      width: 32px;\n",
              "    }\n",
              "\n",
              "    .colab-df-convert:hover {\n",
              "      background-color: #E2EBFA;\n",
              "      box-shadow: 0px 1px 2px rgba(60, 64, 67, 0.3), 0px 1px 3px 1px rgba(60, 64, 67, 0.15);\n",
              "      fill: #174EA6;\n",
              "    }\n",
              "\n",
              "    [theme=dark] .colab-df-convert {\n",
              "      background-color: #3B4455;\n",
              "      fill: #D2E3FC;\n",
              "    }\n",
              "\n",
              "    [theme=dark] .colab-df-convert:hover {\n",
              "      background-color: #434B5C;\n",
              "      box-shadow: 0px 1px 3px 1px rgba(0, 0, 0, 0.15);\n",
              "      filter: drop-shadow(0px 1px 2px rgba(0, 0, 0, 0.3));\n",
              "      fill: #FFFFFF;\n",
              "    }\n",
              "  </style>\n",
              "\n",
              "      <script>\n",
              "        const buttonEl =\n",
              "          document.querySelector('#df-b7de7e32-36df-4dcb-9a99-a623d352b7a8 button.colab-df-convert');\n",
              "        buttonEl.style.display =\n",
              "          google.colab.kernel.accessAllowed ? 'block' : 'none';\n",
              "\n",
              "        async function convertToInteractive(key) {\n",
              "          const element = document.querySelector('#df-b7de7e32-36df-4dcb-9a99-a623d352b7a8');\n",
              "          const dataTable =\n",
              "            await google.colab.kernel.invokeFunction('convertToInteractive',\n",
              "                                                     [key], {});\n",
              "          if (!dataTable) return;\n",
              "\n",
              "          const docLinkHtml = 'Like what you see? Visit the ' +\n",
              "            '<a target=\"_blank\" href=https://colab.research.google.com/notebooks/data_table.ipynb>data table notebook</a>'\n",
              "            + ' to learn more about interactive tables.';\n",
              "          element.innerHTML = '';\n",
              "          dataTable['output_type'] = 'display_data';\n",
              "          await google.colab.output.renderOutput(dataTable, element);\n",
              "          const docLink = document.createElement('div');\n",
              "          docLink.innerHTML = docLinkHtml;\n",
              "          element.appendChild(docLink);\n",
              "        }\n",
              "      </script>\n",
              "    </div>\n",
              "  </div>\n",
              "  "
            ],
            "text/plain": [
              "     horizon         mse       rmse       mae      mape     mdape  coverage\n",
              "0    41 days  123.770852  11.125235  9.160739  0.263184  0.196639  0.416667\n",
              "1    42 days  115.513644  10.747727  8.600056  0.233072  0.185216  0.500000\n",
              "2    43 days  123.586976  11.116968  8.837566  0.226524  0.185216  0.500000\n",
              "3    46 days   89.586428   9.465011  7.889120  0.213582  0.185216  0.541667\n",
              "4    47 days   87.148284   9.335325  7.677113  0.209829  0.171733  0.562500\n",
              "..       ...         ...        ...       ...       ...       ...       ...\n",
              "175 357 days   31.629871   5.624044  4.693559  0.132684  0.106889  0.791667\n",
              "176 360 days   34.612260   5.883218  4.924323  0.144501  0.106889  0.750000\n",
              "177 361 days   37.014617   6.083964  5.085869  0.148150  0.106889  0.708333\n",
              "178 362 days   35.950367   5.995863  4.947491  0.146052  0.106889  0.708333\n",
              "179 365 days   41.749687   6.461400  5.324852  0.170112  0.115184  0.666667\n",
              "\n",
              "[180 rows x 7 columns]"
            ]
          },
          "metadata": {},
          "execution_count": 60
        }
      ]
    },
    {
      "cell_type": "code",
      "source": [
        "from fbprophet.plot import plot_cross_validation_metric"
      ],
      "metadata": {
        "id": "W7Ji8M8h7nIi"
      },
      "execution_count": null,
      "outputs": []
    },
    {
      "cell_type": "code",
      "source": [
        "fig= plot_cross_validation_metric(df_cv, metric='rmse')"
      ],
      "metadata": {
        "colab": {
          "base_uri": "https://localhost:8080/",
          "height": 388
        },
        "id": "VPkcNRkw8BQR",
        "outputId": "da214936-177f-472d-ca61-997e643ec43c"
      },
      "execution_count": null,
      "outputs": [
        {
          "output_type": "display_data",
          "data": {
            "image/png": "[encoded data removed]",
            "text/plain": [
              "<Figure size 720x432 with 1 Axes>"
            ]
          },
          "metadata": {}
        }
      ]
    }
  ]
}